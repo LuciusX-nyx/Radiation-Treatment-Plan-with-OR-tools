{
 "cells": [
  {
   "cell_type": "code",
   "execution_count": 1,
   "metadata": {},
   "outputs": [],
   "source": [
    "from ortools.linear_solver import pywraplp\n",
    "from ortools.linear_solver import pywraplp\n",
    "import numpy as np\n",
    "from itertools import combinations\n",
    "import pandas as pd\n",
    "import numpy as np"
   ]
  },
  {
   "cell_type": "code",
   "execution_count": 2,
   "metadata": {},
   "outputs": [],
   "source": [
    "dose_matrix = pd.read_csv('DoseMatrix.csv')"
   ]
  },
  {
   "cell_type": "code",
   "execution_count": 3,
   "metadata": {},
   "outputs": [],
   "source": [
    "dose_matrix =np.array(dose_matrix)"
   ]
  },
  {
   "cell_type": "code",
   "execution_count": 4,
   "metadata": {},
   "outputs": [],
   "source": [
    "CTV_index=[167, 168, 169, 170, 171, 172, 173,\n",
    "      186, 187, 188, 189, 190, 191, 192, 193, 194,\n",
    "      206, 207, 208, 209, 210, 211, 212, 213, 214, \n",
    "           227, 228, 229, 230, 231, 232, 233]\n",
    "\n",
    "bladder_index=[87, 88, 89, 90, 91, 92, 93, \n",
    "         106, 107, 108, 109, 110, 111, 112, 113, 114, \n",
    "         126, 127, 128, 129, 130, 131, 132, 133, 134, \n",
    "             147, 148, 149, 150, 151, 152, 153]\n",
    "\n",
    "Rectal_index=[248, 249, 250, 251, 252, \n",
    "        267, 268, 269, 270, 271, 272, 273, \n",
    "        287, 288, 289, 290, 291, 292, 293, \n",
    "              308, 309, 310, 311, 312]\n",
    "\n",
    "Un_index=[0, 1, 2, 3, 4, 5, 6, 7, 8, 9, 10, 11, 12, 13, 14, 15, 16, 17, 18, 19, 20, \n",
    "             21, 22, 23, 24, 25, 26, 27, 28, 29, 30, 31, 32, 33, 34, 35, 36, 37, 38, 39, 40, \n",
    "             41, 42, 43, 44, 45, 46, 47, 48, 49, 50, 51, 52, 53, 54, 55, 56, 57, 58, 59, 60, \n",
    "             61, 62, 63, 64, 65, 66, 67, 68, 69, 70, 71, 72, 73, 74, 75, 76, 77, 78, 79, 80, \n",
    "             81, 82, 83, 84, 85, 86, 94, 95, 96, 97, 98, 99, 100, 101, 104, 105, 115, 118, 119, 120,\n",
    "             125, 139, 140, 145, 146, 154, 159, 160, 165, 166, 174, 179, 180, 185, 199, 200, 205, 219, 220, \n",
    "             225, 226, 234, 239, 240, 241, 244, 245, 246, 247, 253, 254, 255, 258, 259, 260, 261, 262, 263, \n",
    "             264, 265, 266, 274, 275, 276, 277, 278, 279, 280, 281, 282, 283, 284, 285, 286, 294, 295, 296, \n",
    "             297, 298, 299, 300, 301, 302, 303, 304, 305, 306, 307, 313, 314, 315, 316, 317, 318, 319, 320, \n",
    "             321, 322, 323, 324, 325, 326, 327, 328, 329, 330, 331, 332, 333, 334, 335, 336, 337, 338, 339, \n",
    "             340, 341, 342, 343, 344, 345, 346, 347, 348, 349, 350, 351, 352, 353, 354, 355, 356, 357, 358, \n",
    "             359, 360, 361, 362, 363, 364, 365, 366, 367, 368, 369, 370, 371, 372, 373, 374, 375, 376, 377, \n",
    "             378, 379, 380, 381, 382, 383, 384, 385, 386, 387, 388, 389, 390, 391, 392, 393, 394, 395, 396, \n",
    "             397, 398, 399]\n",
    "\n",
    "Left_index=[116, 117, \n",
    "       135, 136, 137, 138, \n",
    "       155, 156, 157, 158, \n",
    "       175, 176, 177, 178,\n",
    "       195, 196, 197, 198, \n",
    "       215, 216, 217, 218, \n",
    "       235, 236, 237, 238, \n",
    "            256, 257]\n",
    "\n",
    "Right_index=[101, 102, \n",
    "        120, 121, 122, 123, \n",
    "        140, 141, 142, 143, \n",
    "        160, 161, 162, 163, \n",
    "        180, 181, 182, 183, \n",
    "        200, 201, 202, 203, \n",
    "        220, 221, 222, 223, \n",
    "             241, 242]"
   ]
  },
  {
   "cell_type": "code",
   "execution_count": 5,
   "metadata": {},
   "outputs": [
    {
     "data": {
      "text/plain": [
       "400"
      ]
     },
     "execution_count": 5,
     "metadata": {},
     "output_type": "execute_result"
    }
   ],
   "source": [
    "len(CTV_index)+len(bladder_index)+len(Rectal_index)+len(Un_index)+len(Left_index)+len(Right_index)"
   ]
  },
  {
   "cell_type": "code",
   "execution_count": 6,
   "metadata": {},
   "outputs": [
    {
     "name": "stdout",
     "output_type": "stream",
     "text": [
      "Problem solved in 9763.000000 milliseconds\n",
      "weighted slack total 377761.932016873\n"
     ]
    }
   ],
   "source": [
    "solver = pywraplp.Solver('Final Project',\n",
    "                         pywraplp.Solver.CBC_MIXED_INTEGER_PROGRAMMING)\n",
    "objective=solver.Objective() \n",
    "objective.SetMinimization()\n",
    "\n",
    "# Decision Variables\n",
    "beamlets = []\n",
    "for i in range(60):\n",
    "    beamlets.append(solver.NumVar(0,solver.infinity(), 'beamlets[%d]' % i))\n",
    "voxels = []    \n",
    "for i in range(400):\n",
    "    voxels.append(solver.NumVar(0,solver.infinity(),'voxels[%d]' % i))\n",
    "\n",
    "    \n",
    "#Constraints\n",
    "voxel_constraints = [0 for _ in range(400)]\n",
    "for i in range(400):\n",
    "    voxel_constraints[i] = solver.Constraint(0,0)\n",
    "    for j in range(60):\n",
    "        voxel_constraints[i].SetCoefficient(beamlets[j],dose_matrix[i,j+1])\n",
    "    voxel_constraints[i].SetCoefficient(voxels[i], -1)\n",
    "        \n",
    "######################################################## CTV#################################################\n",
    "\n",
    "# every voxel receives a uniform dose of 82.8       ( = 82.8)\n",
    "z_p = [0 for _ in range(len(CTV_index))]\n",
    "z_n = [0 for _ in range(len(CTV_index))]\n",
    "\n",
    "for i in range(len(CTV_index)):\n",
    "    z_p[i] = solver.NumVar(0, 82.8*0.06, \"Z plus CTV %d\" %i)\n",
    "    z_n[i] = solver.NumVar(0, 82.8*0.05, \"Z minus CTV %d\" %i)\n",
    "     \n",
    "CTV_constraint = [0 for _ in range(len(CTV_index))]\n",
    "for i in range(len(CTV_index)):\n",
    "    CTV_constraint[i] = solver.Constraint(82.8,82.8)\n",
    "    \n",
    "    for j in range(60):\n",
    "        CTV_constraint[i].SetCoefficient(beamlets[j],dose_matrix[CTV_index[i],j+1])\n",
    "    CTV_constraint[i].SetCoefficient(z_p[i],1)\n",
    "    CTV_constraint[i].SetCoefficient(z_n[i],-1)\n",
    "\n",
    "    \n",
    "    \n",
    "############################################ bladder ####################################################\n",
    "\n",
    "# # max dose to a voxel 81 ( < = 81)\n",
    "z_b_1 = [0 for _ in range(len(bladder_index))]\n",
    "\n",
    "for i in range(len(bladder_index)):\n",
    "    z_b_1[i] = solver.NumVar(0, solver.infinity(), \"z bladder #1 %d\" %i)\n",
    "    \n",
    "\n",
    "bladder_constraint_1 = [0 for _ in range(len(bladder_index))]\n",
    "for i in range(len(bladder_index)):\n",
    "    bladder_constraint_1[i] = solver.Constraint(-solver.infinity(),81)\n",
    "    for j in range(60):\n",
    "        bladder_constraint_1[i].SetCoefficient(beamlets[j],dose_matrix[bladder_index[i],j+1])\n",
    "    bladder_constraint_1[i].SetCoefficient(z_b_1[i],-1)\n",
    "\n",
    "\n",
    "# Average dose should be <= 50     ( <= 50)\n",
    "\n",
    "z_b_2 = solver.NumVar(0, solver.infinity(), \"z bladder #2 %d\" %i)\n",
    "bladder_constraint_2 = solver.Constraint(-solver.infinity(), 50)\n",
    "bladder_constraint_2.SetCoefficient(z_b_2, -1)\n",
    "\n",
    "for i in bladder_index:\n",
    "    bladder_constraint_2.SetCoefficient(voxels[i],1/len(bladder_index))\n",
    "\n",
    "        \n",
    "    \n",
    "# at most 10% of the bladder should receive a dose >65          ( >65)\n",
    "y = [0 for _ in range(len(bladder_index))]\n",
    "z_y = solver.IntVar(0,1, \"z y constraint bladder\")\n",
    "\n",
    "for i in range(len(bladder_index)):\n",
    "     y[i] = solver.IntVar(0,1,\"y bladder %d\" %i)\n",
    "\n",
    "bladder_constraint_3 = [0 for _ in range(len(bladder_index))]\n",
    "for i in range(len(bladder_index)):\n",
    "    bladder_constraint_3[i] = solver.Constraint(-solver.infinity(),65)\n",
    "    for j in range(60):\n",
    "        bladder_constraint_3[i].SetCoefficient(beamlets[j],dose_matrix[bladder_index[i],j+1])\n",
    "    bladder_constraint_3[i].SetCoefficient(y[i],-100)\n",
    "\n",
    "bladder_constraint_3b = solver.Constraint(-solver.infinity(),0.1*len(bladder_index))\n",
    "for j in range(len(bladder_index)):\n",
    "     bladder_constraint_3b.SetCoefficient(y[j],1)\n",
    "bladder_constraint_3b.SetCoefficient(z_y, -1)\n",
    "\n",
    "        \n",
    "        \n",
    "\n",
    "        \n",
    "# ####################### Rectal########################################\n",
    "\n",
    "#max dose to a voxel: 79.2              ( < = 79.2)\n",
    "\n",
    "z_r_1 = [0 for _ in range(len(Rectal_index))]\n",
    "\n",
    "for i in range(len(Rectal_index)):\n",
    "    z_r_1[i] = solver.NumVar(0, solver.infinity(), \"z rectal #1 %d\" %i)\n",
    "    \n",
    "\n",
    "Rectal_constraint_1 = [0 for _ in range(len(Rectal_index))]\n",
    "for i in range(len(Rectal_index)):\n",
    "    Rectal_constraint_1[i] = solver.Constraint(-solver.infinity(),79.2)\n",
    "    for j in range(60):\n",
    "        Rectal_constraint_1[i].SetCoefficient(beamlets[j],dose_matrix[Rectal_index[i],j+1])\n",
    "    Rectal_constraint_1[i].SetCoefficient(z_r_1[i],-1)\n",
    "\n",
    "    \n",
    "    \n",
    "# #average dose should be <= 40\n",
    "\n",
    "z_r_2 = solver.NumVar(0, solver.infinity(), \"z rectal #2 %d\" %i)\n",
    "Rectal_constraint_2 = solver.Constraint(-solver.infinity(), 40)\n",
    "Rectal_constraint_2.SetCoefficient(z_r_2, -1.0)\n",
    "\n",
    "for i in Rectal_index:\n",
    "    Rectal_constraint_2.SetCoefficient(voxels[i],1/len(Rectal_index))\n",
    "\n",
    "\n",
    "\n",
    "# ############################## Unspecified ############################\n",
    "\n",
    "# max dose to a voxel: 72         ( < =72)\n",
    "\n",
    "z_u_1 = [0 for _ in range(len(Un_index))]\n",
    "\n",
    "for i in range(len(Un_index)):\n",
    "    z_u_1[i] = solver.NumVar(0, solver.infinity(), \"z Unspecified #1 %d\" %i)\n",
    "    \n",
    "\n",
    "Un_constraint_1 = [0 for _ in range(len(Un_index))]\n",
    "for i in range(len(Un_index)):\n",
    "    Un_constraint_1[i] = solver.Constraint(-solver.infinity(),72)\n",
    "    for j in range(60):\n",
    "        Un_constraint_1[i].SetCoefficient(beamlets[j],dose_matrix[Un_index[i],j+1])\n",
    "    Un_constraint_1[i].SetCoefficient(z_u_1[i],-1)\n",
    "\n",
    "\n",
    "#############################Left femur head ##########################\n",
    "\n",
    "#max dose to a voxel: 50            ( <= 50)\n",
    "  \n",
    "z_l_1 = [0 for _ in range(len(Left_index))]\n",
    "\n",
    "for i in range(len(Left_index)):\n",
    "    z_l_1[i] = solver.NumVar(0, solver.infinity(), \"z left femur #1 %d\" %i)\n",
    "    \n",
    "\n",
    "left_constraint_1 = [0 for _ in range(len(Left_index))]\n",
    "for i in range(len(Left_index)):\n",
    "    left_constraint_1[i] = solver.Constraint(-solver.infinity(),50)\n",
    "    for j in range(60):\n",
    "        left_constraint_1[i].SetCoefficient(beamlets[j],dose_matrix[Left_index[i],j+1])\n",
    "    left_constraint_1[i].SetCoefficient(z_l_1[i],-1)    \n",
    "        \n",
    "\n",
    "        \n",
    "# at most 10% of the left femur should receive a dose > 40 \n",
    "y_left = [0 for _ in range(len(Left_index))]\n",
    "z_y_left = solver.IntVar(0,2, \"z y constraint left femur\")\n",
    "\n",
    "for i in range(len(Left_index)):\n",
    "     y_left[i] = solver.IntVar(0,1,\"y left femur %d\" %i)\n",
    "\n",
    "Left_constraint_3 = [0 for _ in range(len(Left_index))]\n",
    "for i in range(len(Left_index)):\n",
    "    Left_constraint_3[i] = solver.Constraint(-solver.infinity(),40)\n",
    "    for j in range(60):\n",
    "        Left_constraint_3[i].SetCoefficient(beamlets[j],dose_matrix[Left_index[i],j+1])\n",
    "    Left_constraint_3[i].SetCoefficient(y_left[i],-100)\n",
    "\n",
    "Left_constraint_3b = solver.Constraint(-solver.infinity(),0.15*len(Left_index))\n",
    "for j in range(len(Left_index)):\n",
    "     Left_constraint_3b.SetCoefficient(y_left[j],1)\n",
    "Left_constraint_3b.SetCoefficient(z_y_left,-1)\n",
    "\n",
    "\n",
    "############################# right femur head ##########################\n",
    "\n",
    "\n",
    "#max dose to a voxel: 50               ( <= 50 )\n",
    "z_rl_1 = [0 for _ in range(len(Right_index))]\n",
    "\n",
    "for i in range(len(Right_index)):\n",
    "    z_rl_1[i] = solver.NumVar(0, solver.infinity(), \"z right femur #1 %d\" %i)\n",
    "    \n",
    "\n",
    "Right_constraint_1 = [0 for _ in range(len(Right_index))]\n",
    "for i in range(len(Right_index)):\n",
    "    Right_constraint_1[i] = solver.Constraint(-solver.infinity(),50)\n",
    "    for j in range(60):\n",
    "        Right_constraint_1[i].SetCoefficient(beamlets[j],dose_matrix[Right_index[i],j+1])\n",
    "    Right_constraint_1[i].SetCoefficient(z_rl_1[i],-1)    \n",
    "        \n",
    "\n",
    "        \n",
    "# at most 10% of the right femur should receive a dose > 40 \n",
    "y_right = [0 for _ in range(len(Right_index))]\n",
    "z_y_right = solver.IntVar(0,2, \"z y constraint right femur\")\n",
    "\n",
    "for i in range(len(Right_index)):\n",
    "     y_right[i] = solver.IntVar(0,1,\"y right femur %d\" %i)\n",
    "\n",
    "Right_constraint_3 = [0 for _ in range(len(Right_index))]\n",
    "for i in range(len(Right_index)):\n",
    "    \n",
    "    # <= 40\n",
    "    Right_constraint_3[i] = solver.Constraint(-solver.infinity(),40)\n",
    "    for j in range(60):\n",
    "        Right_constraint_3[i].SetCoefficient(beamlets[j],dose_matrix[Right_index[i],j+1])\n",
    "    # Big M constraint\n",
    "    Right_constraint_3[i].SetCoefficient(y_right[i],-100)\n",
    "\n",
    "Right_constraint_3b = solver.Constraint(-solver.infinity(),0.15*len(Right_index))\n",
    "for j in range(len(Right_index)):\n",
    "     Right_constraint_3b.SetCoefficient(y_right[j],1)\n",
    "Right_constraint_3b.SetCoefficient(z_y_right, -1)\n",
    "        \n",
    "        \n",
    "########################## Objective Function ###########################\n",
    "\n",
    "# CTV\n",
    "for i in range(len(z_p)):\n",
    "    objective.SetCoefficient(z_p[i],2000)\n",
    "    objective.SetCoefficient(z_n[i],2000)\n",
    "\n",
    "# Bladders\n",
    "for i in range(len(z_b_1)):\n",
    "    objective.SetCoefficient(z_b_1[i],1)\n",
    "\n",
    "objective.SetCoefficient(z_b_2,1)\n",
    "\n",
    "# Rectal Solids\n",
    "for i in range(len(z_r_1)):\n",
    "    objective.SetCoefficient(z_r_1[i],1000)\n",
    "    \n",
    "objective.SetCoefficient(z_r_2,1)\n",
    "\n",
    "#Unspecified\n",
    "for i in range(len(z_u_1)):\n",
    "    objective.SetCoefficient(z_u_1[i],1)\n",
    "\n",
    "# left femur head\n",
    "for i in range(len(z_l_1)):\n",
    "    objective.SetCoefficient(z_l_1[i],10000)\n",
    "\n",
    "#right femur head\n",
    "for i in range(len(z_rl_1)):\n",
    "    objective.SetCoefficient(z_rl_1[i],1)\n",
    "\n",
    "# bladder, left femur, right femur's at most constraint\n",
    "objective.SetCoefficient(z_y,1)\n",
    "objective.SetCoefficient(z_y_left,2000)\n",
    "objective.SetCoefficient(z_y_right,1)\n",
    "\n",
    "status = solver.Solve()\n",
    "\n",
    "if status == solver.OPTIMAL:\n",
    "    print('Problem solved in %f milliseconds' %solver.wall_time())\n",
    "elif status == solver.FEASIBLE:\n",
    "    print('Solver claims feasibility but not optimality')\n",
    "else:\n",
    "    print('Solver ran to completion but did not find an optimal solution')\n",
    "\n",
    "print('weighted slack total',objective.Value()) \n",
    "\n",
    "\n",
    "#print(bladder_constraint_2.dual_value())\n",
    "\n",
    "#print(solver.ExportModelAsLpFormat(False).replace('\\\\', '').replace(',_', ','), sep='\\n')"
   ]
  },
  {
   "cell_type": "code",
   "execution_count": 7,
   "metadata": {},
   "outputs": [
    {
     "name": "stdout",
     "output_type": "stream",
     "text": [
      "0.0\n"
     ]
    }
   ],
   "source": [
    "print(bladder_constraint_2.dual_value())"
   ]
  },
  {
   "cell_type": "code",
   "execution_count": 8,
   "metadata": {},
   "outputs": [],
   "source": [
    "#print(solver.ExportModelAsLpFormat(False).replace('\\\\', '').replace(',_', ','), sep='\\n')"
   ]
  },
  {
   "cell_type": "markdown",
   "metadata": {},
   "source": [
    "## All Voxels"
   ]
  },
  {
   "cell_type": "code",
   "execution_count": 9,
   "metadata": {},
   "outputs": [
    {
     "data": {
      "text/html": [
       "<div>\n",
       "<style scoped>\n",
       "    .dataframe tbody tr th:only-of-type {\n",
       "        vertical-align: middle;\n",
       "    }\n",
       "\n",
       "    .dataframe tbody tr th {\n",
       "        vertical-align: top;\n",
       "    }\n",
       "\n",
       "    .dataframe thead th {\n",
       "        text-align: right;\n",
       "    }\n",
       "</style>\n",
       "<table border=\"1\" class=\"dataframe\">\n",
       "  <thead>\n",
       "    <tr style=\"text-align: right;\">\n",
       "      <th></th>\n",
       "      <th>1</th>\n",
       "      <th>2</th>\n",
       "      <th>3</th>\n",
       "      <th>4</th>\n",
       "      <th>5</th>\n",
       "      <th>6</th>\n",
       "      <th>7</th>\n",
       "      <th>8</th>\n",
       "      <th>9</th>\n",
       "      <th>10</th>\n",
       "      <th>11</th>\n",
       "      <th>12</th>\n",
       "      <th>13</th>\n",
       "      <th>14</th>\n",
       "      <th>15</th>\n",
       "      <th>16</th>\n",
       "      <th>17</th>\n",
       "      <th>18</th>\n",
       "      <th>19</th>\n",
       "      <th>20</th>\n",
       "    </tr>\n",
       "  </thead>\n",
       "  <tbody>\n",
       "    <tr>\n",
       "      <th>1</th>\n",
       "      <td>64.61</td>\n",
       "      <td>46.55</td>\n",
       "      <td>30.30</td>\n",
       "      <td>23.19</td>\n",
       "      <td>24.23</td>\n",
       "      <td>25.26</td>\n",
       "      <td>19.88</td>\n",
       "      <td>11.23</td>\n",
       "      <td>5.91</td>\n",
       "      <td>5.64</td>\n",
       "      <td>7.81</td>\n",
       "      <td>10.61</td>\n",
       "      <td>15.42</td>\n",
       "      <td>22.12</td>\n",
       "      <td>26.16</td>\n",
       "      <td>25.25</td>\n",
       "      <td>22.75</td>\n",
       "      <td>21.46</td>\n",
       "      <td>20.99</td>\n",
       "      <td>21.08</td>\n",
       "    </tr>\n",
       "    <tr>\n",
       "      <th>2</th>\n",
       "      <td>66.94</td>\n",
       "      <td>59.32</td>\n",
       "      <td>44.38</td>\n",
       "      <td>33.18</td>\n",
       "      <td>30.62</td>\n",
       "      <td>30.38</td>\n",
       "      <td>24.51</td>\n",
       "      <td>14.84</td>\n",
       "      <td>8.26</td>\n",
       "      <td>7.18</td>\n",
       "      <td>9.29</td>\n",
       "      <td>12.90</td>\n",
       "      <td>19.42</td>\n",
       "      <td>28.25</td>\n",
       "      <td>33.54</td>\n",
       "      <td>32.01</td>\n",
       "      <td>27.44</td>\n",
       "      <td>24.07</td>\n",
       "      <td>22.80</td>\n",
       "      <td>23.52</td>\n",
       "    </tr>\n",
       "    <tr>\n",
       "      <th>3</th>\n",
       "      <td>55.34</td>\n",
       "      <td>61.29</td>\n",
       "      <td>55.79</td>\n",
       "      <td>45.89</td>\n",
       "      <td>39.93</td>\n",
       "      <td>36.63</td>\n",
       "      <td>29.54</td>\n",
       "      <td>19.37</td>\n",
       "      <td>12.10</td>\n",
       "      <td>10.37</td>\n",
       "      <td>12.59</td>\n",
       "      <td>17.42</td>\n",
       "      <td>25.96</td>\n",
       "      <td>36.36</td>\n",
       "      <td>41.37</td>\n",
       "      <td>37.60</td>\n",
       "      <td>30.45</td>\n",
       "      <td>25.83</td>\n",
       "      <td>24.91</td>\n",
       "      <td>26.18</td>\n",
       "    </tr>\n",
       "    <tr>\n",
       "      <th>4</th>\n",
       "      <td>36.46</td>\n",
       "      <td>50.68</td>\n",
       "      <td>57.52</td>\n",
       "      <td>56.28</td>\n",
       "      <td>51.65</td>\n",
       "      <td>45.25</td>\n",
       "      <td>35.26</td>\n",
       "      <td>24.22</td>\n",
       "      <td>17.31</td>\n",
       "      <td>16.18</td>\n",
       "      <td>19.27</td>\n",
       "      <td>25.38</td>\n",
       "      <td>34.96</td>\n",
       "      <td>45.06</td>\n",
       "      <td>47.94</td>\n",
       "      <td>41.32</td>\n",
       "      <td>32.37</td>\n",
       "      <td>27.68</td>\n",
       "      <td>27.15</td>\n",
       "      <td>27.13</td>\n",
       "    </tr>\n",
       "    <tr>\n",
       "      <th>5</th>\n",
       "      <td>19.19</td>\n",
       "      <td>33.50</td>\n",
       "      <td>47.90</td>\n",
       "      <td>58.02</td>\n",
       "      <td>61.38</td>\n",
       "      <td>56.00</td>\n",
       "      <td>42.92</td>\n",
       "      <td>29.76</td>\n",
       "      <td>23.72</td>\n",
       "      <td>25.15</td>\n",
       "      <td>30.40</td>\n",
       "      <td>37.04</td>\n",
       "      <td>45.31</td>\n",
       "      <td>52.71</td>\n",
       "      <td>52.54</td>\n",
       "      <td>43.75</td>\n",
       "      <td>34.23</td>\n",
       "      <td>29.62</td>\n",
       "      <td>27.77</td>\n",
       "      <td>24.36</td>\n",
       "    </tr>\n",
       "    <tr>\n",
       "      <th>6</th>\n",
       "      <td>8.11</td>\n",
       "      <td>17.80</td>\n",
       "      <td>32.36</td>\n",
       "      <td>49.58</td>\n",
       "      <td>63.48</td>\n",
       "      <td>65.25</td>\n",
       "      <td>52.95</td>\n",
       "      <td>37.89</td>\n",
       "      <td>32.28</td>\n",
       "      <td>36.97</td>\n",
       "      <td>44.92</td>\n",
       "      <td>50.91</td>\n",
       "      <td>55.59</td>\n",
       "      <td>58.92</td>\n",
       "      <td>56.00</td>\n",
       "      <td>46.11</td>\n",
       "      <td>36.16</td>\n",
       "      <td>30.01</td>\n",
       "      <td>24.83</td>\n",
       "      <td>18.04</td>\n",
       "    </tr>\n",
       "    <tr>\n",
       "      <th>7</th>\n",
       "      <td>2.77</td>\n",
       "      <td>7.74</td>\n",
       "      <td>18.21</td>\n",
       "      <td>35.88</td>\n",
       "      <td>56.69</td>\n",
       "      <td>68.38</td>\n",
       "      <td>63.07</td>\n",
       "      <td>50.18</td>\n",
       "      <td>44.90</td>\n",
       "      <td>50.68</td>\n",
       "      <td>59.44</td>\n",
       "      <td>63.87</td>\n",
       "      <td>65.00</td>\n",
       "      <td>65.00</td>\n",
       "      <td>60.14</td>\n",
       "      <td>48.94</td>\n",
       "      <td>36.78</td>\n",
       "      <td>27.02</td>\n",
       "      <td>18.48</td>\n",
       "      <td>10.74</td>\n",
       "    </tr>\n",
       "    <tr>\n",
       "      <th>8</th>\n",
       "      <td>0.79</td>\n",
       "      <td>2.92</td>\n",
       "      <td>9.26</td>\n",
       "      <td>23.72</td>\n",
       "      <td>45.91</td>\n",
       "      <td>65.11</td>\n",
       "      <td>70.22</td>\n",
       "      <td>65.00</td>\n",
       "      <td>61.59</td>\n",
       "      <td>65.00</td>\n",
       "      <td>70.60</td>\n",
       "      <td>73.01</td>\n",
       "      <td>73.21</td>\n",
       "      <td>72.54</td>\n",
       "      <td>66.12</td>\n",
       "      <td>51.53</td>\n",
       "      <td>34.59</td>\n",
       "      <td>20.87</td>\n",
       "      <td>11.23</td>\n",
       "      <td>5.09</td>\n",
       "    </tr>\n",
       "    <tr>\n",
       "      <th>9</th>\n",
       "      <td>0.23</td>\n",
       "      <td>1.22</td>\n",
       "      <td>5.33</td>\n",
       "      <td>17.07</td>\n",
       "      <td>38.25</td>\n",
       "      <td>60.95</td>\n",
       "      <td>74.29</td>\n",
       "      <td>77.83</td>\n",
       "      <td>77.83</td>\n",
       "      <td>77.83</td>\n",
       "      <td>77.83</td>\n",
       "      <td>77.83</td>\n",
       "      <td>79.65</td>\n",
       "      <td>81.00</td>\n",
       "      <td>73.00</td>\n",
       "      <td>52.98</td>\n",
       "      <td>30.42</td>\n",
       "      <td>14.37</td>\n",
       "      <td>5.79</td>\n",
       "      <td>1.98</td>\n",
       "    </tr>\n",
       "    <tr>\n",
       "      <th>10</th>\n",
       "      <td>0.18</td>\n",
       "      <td>1.08</td>\n",
       "      <td>5.07</td>\n",
       "      <td>16.84</td>\n",
       "      <td>38.57</td>\n",
       "      <td>62.57</td>\n",
       "      <td>78.22</td>\n",
       "      <td>84.84</td>\n",
       "      <td>86.94</td>\n",
       "      <td>85.99</td>\n",
       "      <td>82.70</td>\n",
       "      <td>80.59</td>\n",
       "      <td>83.59</td>\n",
       "      <td>86.94</td>\n",
       "      <td>77.83</td>\n",
       "      <td>53.69</td>\n",
       "      <td>27.65</td>\n",
       "      <td>10.91</td>\n",
       "      <td>3.48</td>\n",
       "      <td>0.92</td>\n",
       "    </tr>\n",
       "    <tr>\n",
       "      <th>11</th>\n",
       "      <td>0.55</td>\n",
       "      <td>2.31</td>\n",
       "      <td>8.24</td>\n",
       "      <td>23.18</td>\n",
       "      <td>47.95</td>\n",
       "      <td>72.15</td>\n",
       "      <td>83.98</td>\n",
       "      <td>85.69</td>\n",
       "      <td>86.04</td>\n",
       "      <td>86.94</td>\n",
       "      <td>85.69</td>\n",
       "      <td>83.30</td>\n",
       "      <td>84.61</td>\n",
       "      <td>86.94</td>\n",
       "      <td>78.08</td>\n",
       "      <td>54.73</td>\n",
       "      <td>29.24</td>\n",
       "      <td>12.46</td>\n",
       "      <td>4.54</td>\n",
       "      <td>1.45</td>\n",
       "    </tr>\n",
       "    <tr>\n",
       "      <th>12</th>\n",
       "      <td>1.99</td>\n",
       "      <td>6.12</td>\n",
       "      <td>16.17</td>\n",
       "      <td>36.13</td>\n",
       "      <td>64.07</td>\n",
       "      <td>86.22</td>\n",
       "      <td>90.28</td>\n",
       "      <td>82.80</td>\n",
       "      <td>78.45</td>\n",
       "      <td>81.35</td>\n",
       "      <td>85.00</td>\n",
       "      <td>84.26</td>\n",
       "      <td>82.45</td>\n",
       "      <td>81.64</td>\n",
       "      <td>74.20</td>\n",
       "      <td>55.85</td>\n",
       "      <td>34.64</td>\n",
       "      <td>18.81</td>\n",
       "      <td>9.24</td>\n",
       "      <td>3.96</td>\n",
       "    </tr>\n",
       "    <tr>\n",
       "      <th>13</th>\n",
       "      <td>6.17</td>\n",
       "      <td>14.76</td>\n",
       "      <td>30.26</td>\n",
       "      <td>54.23</td>\n",
       "      <td>82.10</td>\n",
       "      <td>99.12</td>\n",
       "      <td>94.73</td>\n",
       "      <td>79.07</td>\n",
       "      <td>70.02</td>\n",
       "      <td>72.64</td>\n",
       "      <td>78.54</td>\n",
       "      <td>79.28</td>\n",
       "      <td>76.88</td>\n",
       "      <td>75.31</td>\n",
       "      <td>69.49</td>\n",
       "      <td>55.73</td>\n",
       "      <td>40.00</td>\n",
       "      <td>27.40</td>\n",
       "      <td>17.44</td>\n",
       "      <td>9.55</td>\n",
       "    </tr>\n",
       "    <tr>\n",
       "      <th>14</th>\n",
       "      <td>15.63</td>\n",
       "      <td>30.06</td>\n",
       "      <td>49.62</td>\n",
       "      <td>73.37</td>\n",
       "      <td>96.77</td>\n",
       "      <td>107.24</td>\n",
       "      <td>96.60</td>\n",
       "      <td>76.35</td>\n",
       "      <td>63.97</td>\n",
       "      <td>63.35</td>\n",
       "      <td>66.47</td>\n",
       "      <td>67.23</td>\n",
       "      <td>68.40</td>\n",
       "      <td>71.01</td>\n",
       "      <td>67.09</td>\n",
       "      <td>54.34</td>\n",
       "      <td>41.77</td>\n",
       "      <td>34.01</td>\n",
       "      <td>27.12</td>\n",
       "      <td>18.63</td>\n",
       "    </tr>\n",
       "    <tr>\n",
       "      <th>15</th>\n",
       "      <td>32.40</td>\n",
       "      <td>51.11</td>\n",
       "      <td>69.99</td>\n",
       "      <td>88.43</td>\n",
       "      <td>105.23</td>\n",
       "      <td>110.68</td>\n",
       "      <td>97.09</td>\n",
       "      <td>74.74</td>\n",
       "      <td>59.13</td>\n",
       "      <td>53.30</td>\n",
       "      <td>51.77</td>\n",
       "      <td>52.41</td>\n",
       "      <td>58.87</td>\n",
       "      <td>68.14</td>\n",
       "      <td>67.17</td>\n",
       "      <td>53.20</td>\n",
       "      <td>39.90</td>\n",
       "      <td>35.45</td>\n",
       "      <td>34.18</td>\n",
       "      <td>29.21</td>\n",
       "    </tr>\n",
       "    <tr>\n",
       "      <th>16</th>\n",
       "      <td>55.49</td>\n",
       "      <td>73.26</td>\n",
       "      <td>85.79</td>\n",
       "      <td>96.47</td>\n",
       "      <td>108.15</td>\n",
       "      <td>111.74</td>\n",
       "      <td>97.19</td>\n",
       "      <td>72.35</td>\n",
       "      <td>52.30</td>\n",
       "      <td>42.10</td>\n",
       "      <td>38.67</td>\n",
       "      <td>40.54</td>\n",
       "      <td>50.81</td>\n",
       "      <td>65.07</td>\n",
       "      <td>67.43</td>\n",
       "      <td>52.96</td>\n",
       "      <td>37.01</td>\n",
       "      <td>32.21</td>\n",
       "      <td>35.26</td>\n",
       "      <td>36.82</td>\n",
       "    </tr>\n",
       "    <tr>\n",
       "      <th>17</th>\n",
       "      <td>79.78</td>\n",
       "      <td>90.36</td>\n",
       "      <td>93.81</td>\n",
       "      <td>98.28</td>\n",
       "      <td>108.25</td>\n",
       "      <td>112.11</td>\n",
       "      <td>95.84</td>\n",
       "      <td>66.48</td>\n",
       "      <td>42.31</td>\n",
       "      <td>31.43</td>\n",
       "      <td>30.09</td>\n",
       "      <td>34.20</td>\n",
       "      <td>45.96</td>\n",
       "      <td>61.94</td>\n",
       "      <td>66.24</td>\n",
       "      <td>52.44</td>\n",
       "      <td>34.83</td>\n",
       "      <td>27.53</td>\n",
       "      <td>30.91</td>\n",
       "      <td>37.68</td>\n",
       "    </tr>\n",
       "    <tr>\n",
       "      <th>18</th>\n",
       "      <td>98.52</td>\n",
       "      <td>98.88</td>\n",
       "      <td>94.88</td>\n",
       "      <td>96.84</td>\n",
       "      <td>107.50</td>\n",
       "      <td>110.91</td>\n",
       "      <td>90.68</td>\n",
       "      <td>56.69</td>\n",
       "      <td>31.58</td>\n",
       "      <td>23.75</td>\n",
       "      <td>26.27</td>\n",
       "      <td>32.46</td>\n",
       "      <td>44.51</td>\n",
       "      <td>60.16</td>\n",
       "      <td>64.28</td>\n",
       "      <td>50.58</td>\n",
       "      <td>32.73</td>\n",
       "      <td>23.71</td>\n",
       "      <td>24.80</td>\n",
       "      <td>32.34</td>\n",
       "    </tr>\n",
       "    <tr>\n",
       "      <th>19</th>\n",
       "      <td>107.79</td>\n",
       "      <td>99.69</td>\n",
       "      <td>92.27</td>\n",
       "      <td>94.34</td>\n",
       "      <td>105.02</td>\n",
       "      <td>105.70</td>\n",
       "      <td>81.38</td>\n",
       "      <td>45.96</td>\n",
       "      <td>23.45</td>\n",
       "      <td>19.92</td>\n",
       "      <td>25.70</td>\n",
       "      <td>33.28</td>\n",
       "      <td>45.53</td>\n",
       "      <td>60.62</td>\n",
       "      <td>63.31</td>\n",
       "      <td>48.06</td>\n",
       "      <td>29.69</td>\n",
       "      <td>20.45</td>\n",
       "      <td>19.75</td>\n",
       "      <td>24.90</td>\n",
       "    </tr>\n",
       "    <tr>\n",
       "      <th>20</th>\n",
       "      <td>108.56</td>\n",
       "      <td>96.40</td>\n",
       "      <td>88.41</td>\n",
       "      <td>89.90</td>\n",
       "      <td>98.19</td>\n",
       "      <td>96.11</td>\n",
       "      <td>71.16</td>\n",
       "      <td>38.03</td>\n",
       "      <td>19.25</td>\n",
       "      <td>18.98</td>\n",
       "      <td>26.72</td>\n",
       "      <td>35.19</td>\n",
       "      <td>47.94</td>\n",
       "      <td>63.07</td>\n",
       "      <td>64.34</td>\n",
       "      <td>46.44</td>\n",
       "      <td>26.18</td>\n",
       "      <td>16.70</td>\n",
       "      <td>15.77</td>\n",
       "      <td>18.76</td>\n",
       "    </tr>\n",
       "  </tbody>\n",
       "</table>\n",
       "</div>"
      ],
      "text/plain": [
       "        1      2      3      4       5       6      7      8      9      10  \\\n",
       "1    64.61  46.55  30.30  23.19   24.23   25.26  19.88  11.23   5.91   5.64   \n",
       "2    66.94  59.32  44.38  33.18   30.62   30.38  24.51  14.84   8.26   7.18   \n",
       "3    55.34  61.29  55.79  45.89   39.93   36.63  29.54  19.37  12.10  10.37   \n",
       "4    36.46  50.68  57.52  56.28   51.65   45.25  35.26  24.22  17.31  16.18   \n",
       "5    19.19  33.50  47.90  58.02   61.38   56.00  42.92  29.76  23.72  25.15   \n",
       "6     8.11  17.80  32.36  49.58   63.48   65.25  52.95  37.89  32.28  36.97   \n",
       "7     2.77   7.74  18.21  35.88   56.69   68.38  63.07  50.18  44.90  50.68   \n",
       "8     0.79   2.92   9.26  23.72   45.91   65.11  70.22  65.00  61.59  65.00   \n",
       "9     0.23   1.22   5.33  17.07   38.25   60.95  74.29  77.83  77.83  77.83   \n",
       "10    0.18   1.08   5.07  16.84   38.57   62.57  78.22  84.84  86.94  85.99   \n",
       "11    0.55   2.31   8.24  23.18   47.95   72.15  83.98  85.69  86.04  86.94   \n",
       "12    1.99   6.12  16.17  36.13   64.07   86.22  90.28  82.80  78.45  81.35   \n",
       "13    6.17  14.76  30.26  54.23   82.10   99.12  94.73  79.07  70.02  72.64   \n",
       "14   15.63  30.06  49.62  73.37   96.77  107.24  96.60  76.35  63.97  63.35   \n",
       "15   32.40  51.11  69.99  88.43  105.23  110.68  97.09  74.74  59.13  53.30   \n",
       "16   55.49  73.26  85.79  96.47  108.15  111.74  97.19  72.35  52.30  42.10   \n",
       "17   79.78  90.36  93.81  98.28  108.25  112.11  95.84  66.48  42.31  31.43   \n",
       "18   98.52  98.88  94.88  96.84  107.50  110.91  90.68  56.69  31.58  23.75   \n",
       "19  107.79  99.69  92.27  94.34  105.02  105.70  81.38  45.96  23.45  19.92   \n",
       "20  108.56  96.40  88.41  89.90   98.19   96.11  71.16  38.03  19.25  18.98   \n",
       "\n",
       "       11     12     13     14     15     16     17     18     19     20  \n",
       "1    7.81  10.61  15.42  22.12  26.16  25.25  22.75  21.46  20.99  21.08  \n",
       "2    9.29  12.90  19.42  28.25  33.54  32.01  27.44  24.07  22.80  23.52  \n",
       "3   12.59  17.42  25.96  36.36  41.37  37.60  30.45  25.83  24.91  26.18  \n",
       "4   19.27  25.38  34.96  45.06  47.94  41.32  32.37  27.68  27.15  27.13  \n",
       "5   30.40  37.04  45.31  52.71  52.54  43.75  34.23  29.62  27.77  24.36  \n",
       "6   44.92  50.91  55.59  58.92  56.00  46.11  36.16  30.01  24.83  18.04  \n",
       "7   59.44  63.87  65.00  65.00  60.14  48.94  36.78  27.02  18.48  10.74  \n",
       "8   70.60  73.01  73.21  72.54  66.12  51.53  34.59  20.87  11.23   5.09  \n",
       "9   77.83  77.83  79.65  81.00  73.00  52.98  30.42  14.37   5.79   1.98  \n",
       "10  82.70  80.59  83.59  86.94  77.83  53.69  27.65  10.91   3.48   0.92  \n",
       "11  85.69  83.30  84.61  86.94  78.08  54.73  29.24  12.46   4.54   1.45  \n",
       "12  85.00  84.26  82.45  81.64  74.20  55.85  34.64  18.81   9.24   3.96  \n",
       "13  78.54  79.28  76.88  75.31  69.49  55.73  40.00  27.40  17.44   9.55  \n",
       "14  66.47  67.23  68.40  71.01  67.09  54.34  41.77  34.01  27.12  18.63  \n",
       "15  51.77  52.41  58.87  68.14  67.17  53.20  39.90  35.45  34.18  29.21  \n",
       "16  38.67  40.54  50.81  65.07  67.43  52.96  37.01  32.21  35.26  36.82  \n",
       "17  30.09  34.20  45.96  61.94  66.24  52.44  34.83  27.53  30.91  37.68  \n",
       "18  26.27  32.46  44.51  60.16  64.28  50.58  32.73  23.71  24.80  32.34  \n",
       "19  25.70  33.28  45.53  60.62  63.31  48.06  29.69  20.45  19.75  24.90  \n",
       "20  26.72  35.19  47.94  63.07  64.34  46.44  26.18  16.70  15.77  18.76  "
      ]
     },
     "execution_count": 9,
     "metadata": {},
     "output_type": "execute_result"
    }
   ],
   "source": [
    "All_voxels = np.zeros((400)).astype(np.float)\n",
    "for i in range(400):\n",
    "    All_voxels[i] = voxels[i].solution_value()\n",
    "#print(All_voxels.reshape(20,20))\n",
    "All_voxels = pd.DataFrame(All_voxels.reshape((20,20)), index=[i for i in range(1,21)],\n",
    "                          columns = [i for i in range(1,21)]).round(2)\n",
    "All_voxels"
   ]
  },
  {
   "cell_type": "code",
   "execution_count": 10,
   "metadata": {},
   "outputs": [],
   "source": [
    "OUTPUT  = 'output/cross_section_p2.csv'\n",
    "cross_section = All_voxels.to_csv(OUTPUT, index=[i for i in range(1,21)], columns = [i for i in range(1,21)])"
   ]
  },
  {
   "cell_type": "markdown",
   "metadata": {},
   "source": [
    "## Check Constraint"
   ]
  },
  {
   "cell_type": "markdown",
   "metadata": {},
   "source": [
    "**Beamlets Check**"
   ]
  },
  {
   "cell_type": "code",
   "execution_count": 11,
   "metadata": {},
   "outputs": [
    {
     "name": "stdout",
     "output_type": "stream",
     "text": [
      "Beamlets values are \n",
      "[50.83696995 10.78436182  0.          0.          0.         15.28825378\n",
      "  9.73820318  0.         24.55197282 41.75654476  0.          0.\n",
      "  0.          0.          0.          0.          0.         36.93970803\n",
      "  8.37168508  0.          0.          0.         14.55859408  0.\n",
      "  0.          0.          0.          0.          0.          0.\n",
      "  0.          0.          0.          0.          0.          0.\n",
      "  0.          0.          0.          0.          0.          0.\n",
      "  0.          0.          0.         60.12525511 11.84006107  0.\n",
      "  0.          0.          0.          0.         25.30740204 52.14024753\n",
      " 23.26904966 43.04011671  0.         50.81681073  0.          0.        ]\n"
     ]
    }
   ],
   "source": [
    "# check beamlets value\n",
    "beamlets_value = []\n",
    "for i in range(60):\n",
    "    beamlets_value.append(beamlets[i].solution_value())\n",
    "print('Beamlets values are ')\n",
    "print(np.array(beamlets_value))   "
   ]
  },
  {
   "cell_type": "markdown",
   "metadata": {},
   "source": [
    "**CTV check**"
   ]
  },
  {
   "cell_type": "code",
   "execution_count": 12,
   "metadata": {},
   "outputs": [
    {
     "name": "stdout",
     "output_type": "stream",
     "text": [
      "CTV voxel dose(Gy)\n",
      "[77.832      77.832      77.832      77.832      77.832      79.65405549\n",
      " 80.99950322 78.22393139 84.84485359 86.94       85.99005553 82.70040972\n",
      " 80.58927882 83.59034668 86.94       77.832      83.97808093 85.68808044\n",
      " 86.03842057 86.94       85.69445541 83.30201586 84.60790727 86.94\n",
      " 78.08292581 82.8        78.45371494 81.35106617 84.99630899 84.25615587\n",
      " 82.45094977 81.64244299]\n"
     ]
    }
   ],
   "source": [
    "#Every voxel receives a uniform dose of 82.8 \n",
    "CTV_voxel = []\n",
    "every = 0\n",
    "for i in CTV_index:\n",
    "    every = voxels[i].solution_value() \n",
    "    CTV_voxel.append(every)\n",
    "print('CTV voxel dose(Gy)')\n",
    "print(np.array(CTV_voxel))"
   ]
  },
  {
   "cell_type": "code",
   "execution_count": 13,
   "metadata": {},
   "outputs": [
    {
     "name": "stdout",
     "output_type": "stream",
     "text": [
      "Positive distance to 82.8 \n",
      " [[4.968      4.968      4.968      4.968      4.968      3.14594451\n",
      "  1.80049678 4.57606861 0.         0.         0.         0.09959028\n",
      "  2.21072118 0.         0.         4.968      0.         0.\n",
      "  0.         0.         0.         0.         0.         0.\n",
      "  4.71707419 0.         4.34628506 1.44893383 0.         0.\n",
      "  0.34905023 1.15755701]]\n",
      "\n",
      "\n",
      "Negative distance to 82.8 \n",
      " [[0.         0.         0.         0.         0.         0.\n",
      "  0.         0.         2.04485359 4.14       3.19005553 0.\n",
      "  0.         0.79034668 4.14       0.         1.17808093 2.88808044\n",
      "  3.23842057 4.14       2.89445541 0.50201586 1.80790727 4.14\n",
      "  0.         0.         0.         0.         2.19630899 1.45615587\n",
      "  0.         0.        ]]\n"
     ]
    }
   ],
   "source": [
    "# the distance to 82.8\n",
    "zp0 = np.array([[x.solution_value() for x in z_p]])\n",
    "zn0 = np.array([[x.solution_value() for x in z_n]])\n",
    "print('Positive distance to 82.8 \\n',zp0)\n",
    "print('\\n')\n",
    "print('Negative distance to 82.8 \\n',zn0)"
   ]
  },
  {
   "cell_type": "code",
   "execution_count": 14,
   "metadata": {},
   "outputs": [
    {
     "name": "stdout",
     "output_type": "stream",
     "text": [
      "maximum difference of CTV voxels values to 82.8 are  0.05000000000024973 0.0600000000001231\n"
     ]
    }
   ],
   "source": [
    "print('maximum difference of CTV voxels values to 82.8 are ', (max(CTV_voxel)-82.8)/82.8, (82.8- min(CTV_voxel))/82.8)"
   ]
  },
  {
   "cell_type": "code",
   "execution_count": 15,
   "metadata": {},
   "outputs": [
    {
     "name": "stdout",
     "output_type": "stream",
     "text": [
      "maximum CTV voxels value is  86.94000000002067\n"
     ]
    }
   ],
   "source": [
    "print('maximum CTV voxels value is ', max(CTV_voxel))"
   ]
  },
  {
   "cell_type": "code",
   "execution_count": 16,
   "metadata": {},
   "outputs": [
    {
     "name": "stdout",
     "output_type": "stream",
     "text": [
      "minimum CTV voxels value is  77.8319999999898\n"
     ]
    }
   ],
   "source": [
    "print('minimum CTV voxels value is ', min(CTV_voxel))"
   ]
  },
  {
   "cell_type": "code",
   "execution_count": 17,
   "metadata": {},
   "outputs": [
    {
     "name": "stdout",
     "output_type": "stream",
     "text": [
      "percentage of voxels below 79: 0.28125\n"
     ]
    }
   ],
   "source": [
    "print('percentage of voxels below 79:', sum((np.array(CTV_voxel) < 79)*1) / len(CTV_voxel))"
   ]
  },
  {
   "cell_type": "code",
   "execution_count": 18,
   "metadata": {},
   "outputs": [
    {
     "name": "stdout",
     "output_type": "stream",
     "text": [
      "percentage of voxels Above 86.94: 0.03125\n"
     ]
    }
   ],
   "source": [
    "print('percentage of voxels Above 86.94:', sum((np.array(CTV_voxel) > 86.94)*1) / len(CTV_voxel))"
   ]
  },
  {
   "cell_type": "markdown",
   "metadata": {},
   "source": [
    "**Bladder Check**"
   ]
  },
  {
   "cell_type": "code",
   "execution_count": 19,
   "metadata": {},
   "outputs": [
    {
     "name": "stdout",
     "output_type": "stream",
     "text": [
      "Bladder Voxel Doses\n",
      " [29.7586 23.7243 25.1538 30.3957 37.0432 45.3054 52.7107 52.9463 37.8917\n",
      " 32.282  36.9698 44.9216 50.9072 55.5854 58.92   56.0001 63.071  50.1766\n",
      " 44.8972 50.6805 59.443  63.8687 65.     65.     60.1357 65.     61.5903\n",
      " 65.     70.6027 73.0107 73.2146 72.54  ]\n"
     ]
    }
   ],
   "source": [
    "# Max dose to a voxel: 81\n",
    "bladder_voxel = []\n",
    "every = 0\n",
    "for i in bladder_index:\n",
    "    every = round(voxels[i].solution_value(),4)\n",
    "    bladder_voxel.append(every)\n",
    "print('Bladder Voxel Doses\\n',np.array(bladder_voxel))"
   ]
  },
  {
   "cell_type": "code",
   "execution_count": 20,
   "metadata": {},
   "outputs": [
    {
     "name": "stdout",
     "output_type": "stream",
     "text": [
      "distances to 81 if voxel value is above 81\n",
      " [[0. 0. 0. 0. 0. 0. 0. 0. 0. 0. 0. 0. 0. 0. 0. 0. 0. 0. 0. 0. 0. 0. 0. 0.\n",
      "  0. 0. 0. 0. 0. 0. 0. 0.]]\n"
     ]
    }
   ],
   "source": [
    "# if any voxel has more than 81\n",
    "zb1 = np.array([[x.solution_value() for x in z_b_1]])\n",
    "print('distances to 81 if voxel value is above 81\\n',zb1)"
   ]
  },
  {
   "cell_type": "code",
   "execution_count": 21,
   "metadata": {},
   "outputs": [
    {
     "name": "stdout",
     "output_type": "stream",
     "text": [
      "are there values more than 81?\n",
      "False\n",
      "how many percentage of voxel values are more than 81?\n",
      "0.0 %\n"
     ]
    }
   ],
   "source": [
    "# check if there are voxel with value more than 81\n",
    "print('are there values more than 81?')\n",
    "print(max(bladder_voxel) > 81)\n",
    "\n",
    "print('how many percentage of voxel values are more than 81?')\n",
    "\n",
    "print(round(sum((np.array(bladder_voxel) >81)*1)/len(bladder_voxel),2)*100,'%')"
   ]
  },
  {
   "cell_type": "code",
   "execution_count": 22,
   "metadata": {},
   "outputs": [
    {
     "name": "stdout",
     "output_type": "stream",
     "text": [
      "average dose received by bladder voxels are  52.304587500000004\n",
      "slack variable to bring down the value to below 50:  2.3045869156515746\n"
     ]
    }
   ],
   "source": [
    "# average dose shouldbe <= 50\n",
    "print('average dose received by bladder voxels are ',sum(bladder_voxel)/len(bladder_voxel))\n",
    "print('slack variable to bring down the value to below 50: ', z_b_2.solution_value())"
   ]
  },
  {
   "cell_type": "code",
   "execution_count": 23,
   "metadata": {},
   "outputs": [
    {
     "name": "stdout",
     "output_type": "stream",
     "text": [
      "voxel that are larger that 65 are indicated by 1 \n",
      " [0. 0. 0. 0. 0. 0. 0. 0. 0. 0. 0. 0. 0. 0. 0. 0. 0. 0. 0. 0. 0. 0. 0. 0.\n",
      " 0. 0. 0. 0. 1. 1. 1. 1.]\n"
     ]
    }
   ],
   "source": [
    "# at most 10% of the bladder should receive a dose > 65\n",
    "y_value = np.array([t.solution_value() for t in y])\n",
    "print('voxel that are larger that 65 are indicated by 1 \\n',y_value)"
   ]
  },
  {
   "cell_type": "code",
   "execution_count": 24,
   "metadata": {},
   "outputs": [
    {
     "name": "stdout",
     "output_type": "stream",
     "text": [
      "0.125  of the voxels are above 65\n"
     ]
    }
   ],
   "source": [
    "test = np.array(list(map(lambda x: 1 if x > 65.00 else 0,bladder_voxel)))\n",
    "print(round(sum(test)/len(test),4), ' of the voxels are above 65')"
   ]
  },
  {
   "cell_type": "code",
   "execution_count": 25,
   "metadata": {},
   "outputs": [
    {
     "name": "stdout",
     "output_type": "stream",
     "text": [
      "voxel that are larger that 65 are indicated by 1 \n",
      " [0 0 0 0 0 0 0 0 0 0 0 0 0 0 0 0 0 0 0 0 0 0 0 0 0 0 0 0 1 1 1 1]\n"
     ]
    }
   ],
   "source": [
    "print('voxel that are larger that 65 are indicated by 1 \\n',test)"
   ]
  },
  {
   "cell_type": "code",
   "execution_count": 26,
   "metadata": {},
   "outputs": [
    {
     "data": {
      "text/plain": [
       "array([ True,  True,  True,  True,  True,  True,  True,  True,  True,\n",
       "        True,  True,  True,  True,  True,  True,  True,  True,  True,\n",
       "        True,  True,  True,  True,  True,  True,  True,  True,  True,\n",
       "        True,  True,  True,  True,  True])"
      ]
     },
     "execution_count": 26,
     "metadata": {},
     "output_type": "execute_result"
    }
   ],
   "source": [
    "y_value == test"
   ]
  },
  {
   "cell_type": "code",
   "execution_count": 27,
   "metadata": {},
   "outputs": [
    {
     "name": "stdout",
     "output_type": "stream",
     "text": [
      "the number of constraints we have to set loose to be above 65 1.0\n"
     ]
    }
   ],
   "source": [
    "print('the number of constraints we have to set loose to be above 65',z_y.solution_value())"
   ]
  },
  {
   "cell_type": "markdown",
   "metadata": {},
   "source": [
    "**Rectal Solid Check**"
   ]
  },
  {
   "cell_type": "code",
   "execution_count": 28,
   "metadata": {},
   "outputs": [
    {
     "name": "stdout",
     "output_type": "stream",
     "text": [
      "rectal voxel dose values\n",
      "[70.0181162  72.64130625 78.5388936  79.27603036 76.88281328 76.3470604\n",
      " 63.97025629 63.345402   66.47237838 67.23475016 68.40459228 71.00556969\n",
      " 74.74312902 59.13419635 53.30255894 51.76896265 52.40930475 58.86879339\n",
      " 68.14324089 52.29738591 42.10244858 38.66970757 40.53761218 50.80775908]\n"
     ]
    }
   ],
   "source": [
    "# max dose to a voxel: 79.2\n",
    "Rectal_voxel = []\n",
    "every = 0\n",
    "for i in Rectal_index:\n",
    "    every = round(voxels[i].solution_value(),8)\n",
    "    Rectal_voxel.append(every)\n",
    "print('rectal voxel dose values')\n",
    "print(np.array(Rectal_voxel))"
   ]
  },
  {
   "cell_type": "code",
   "execution_count": 29,
   "metadata": {},
   "outputs": [
    {
     "name": "stdout",
     "output_type": "stream",
     "text": [
      "distances to 79.2 if voxel value is above 79.2\n",
      " [[0.         0.         0.         0.07603036 0.         0.\n",
      "  0.         0.         0.         0.         0.         0.\n",
      "  0.         0.         0.         0.         0.         0.\n",
      "  0.         0.         0.         0.         0.         0.        ]]\n"
     ]
    }
   ],
   "source": [
    "zr1 = np.array([[x.solution_value() for x in z_r_1]])\n",
    "print('distances to 79.2 if voxel value is above 79.2\\n',zr1)"
   ]
  },
  {
   "cell_type": "code",
   "execution_count": 30,
   "metadata": {},
   "outputs": [
    {
     "name": "stdout",
     "output_type": "stream",
     "text": [
      "are there values more than 79.2?\n",
      "True\n",
      "how many percentage of voxel values are more than 79.2?\n",
      "4.0 %\n"
     ]
    }
   ],
   "source": [
    "# check if there's value larger than 79.2\n",
    "print('are there values more than 79.2?')\n",
    "print(max(Rectal_voxel) > 79.2)\n",
    "\n",
    "print('how many percentage of voxel values are more than 79.2?')\n",
    "\n",
    "print(round(sum((np.array(Rectal_voxel) >79.2)*1)/len(Rectal_voxel),2)*100,'%')"
   ]
  },
  {
   "cell_type": "code",
   "execution_count": 31,
   "metadata": {},
   "outputs": [
    {
     "name": "stdout",
     "output_type": "stream",
     "text": [
      "average dose received by bladder voxels are  62.37176117500001\n",
      "slack variable to bring down the value to below 40:  22.371761174754084\n"
     ]
    }
   ],
   "source": [
    "# average dose should be <= 40\n",
    "print('average dose received by bladder voxels are ',sum(Rectal_voxel)/len(Rectal_voxel))\n",
    "print('slack variable to bring down the value to below 40: ',z_r_2.solution_value())"
   ]
  },
  {
   "cell_type": "markdown",
   "metadata": {},
   "source": [
    "**Unspecified**"
   ]
  },
  {
   "cell_type": "code",
   "execution_count": 32,
   "metadata": {},
   "outputs": [
    {
     "data": {
      "text/plain": [
       "array([ 64.613,  46.555,  30.304,  23.189,  24.231,  25.255,  19.884,\n",
       "        11.228,   5.907,   5.639,   7.81 ,  10.612,  15.415,  22.115,\n",
       "        26.161,  25.249,  22.754,  21.46 ,  20.987,  21.075,  66.938,\n",
       "        59.317,  44.38 ,  33.177,  30.617,  30.384,  24.51 ,  14.838,\n",
       "         8.26 ,   7.177,   9.291,  12.899,  19.423,  28.254,  33.544,\n",
       "        32.005,  27.438,  24.072,  22.802,  23.522,  55.336,  61.291,\n",
       "        55.789,  45.894,  39.933,  36.633,  29.544,  19.371,  12.097,\n",
       "        10.367,  12.587,  17.424,  25.962,  36.364,  41.366,  37.6  ,\n",
       "        30.449,  25.825,  24.907,  26.176,  36.456,  50.684,  57.516,\n",
       "        56.279,  51.652,  45.251,  35.257,  24.223,  17.306,  16.181,\n",
       "        19.269,  25.377,  34.961,  45.06 ,  47.942,  41.316,  32.37 ,\n",
       "        27.684,  27.151,  27.126,  19.189,  33.502,  47.901,  58.017,\n",
       "        61.378,  56.003,  42.923,  52.536,  43.751,  34.233,  29.619,\n",
       "        27.773,  24.355,   8.105,  17.805,  63.48 ,  65.248,  46.114,\n",
       "        24.834,  18.044,   2.769,  68.38 ,  10.743,   0.787,  65.106,\n",
       "        70.222,  66.12 ,   5.088,   0.225,  60.947,  74.295,  72.998,\n",
       "         1.976,   0.179,  62.568,   0.923,   0.55 ,  72.151,   1.451,\n",
       "         1.994,  86.224,  90.284,  74.199,   3.964,   6.171,  14.763,\n",
       "        82.097,  99.116,  94.728,  79.072,  75.309,  69.489,  55.731,\n",
       "        17.445,   9.547,  15.633,  30.062,  49.619,  73.372,  96.769,\n",
       "       107.235,  96.601,  67.095,  54.34 ,  41.766,  34.008,  27.119,\n",
       "        18.631,  32.404,  51.114,  69.987,  88.428, 105.228, 110.678,\n",
       "        97.087,  67.168,  53.2  ,  39.895,  35.45 ,  34.176,  29.213,\n",
       "        55.494,  73.258,  85.791,  96.471, 108.147, 111.735,  97.19 ,\n",
       "        72.348,  65.074,  67.428,  52.962,  37.013,  32.211,  35.261,\n",
       "        36.817,  79.778,  90.363,  93.812,  98.278, 108.249, 112.107,\n",
       "        95.84 ,  66.479,  42.311,  31.427,  30.09 ,  34.196,  45.964,\n",
       "        61.936,  66.236,  52.438,  34.832,  27.534,  30.913,  37.684,\n",
       "        98.515,  98.877,  94.881,  96.837, 107.496, 110.914,  90.676,\n",
       "        56.69 ,  31.577,  23.748,  26.275,  32.461,  44.511,  60.164,\n",
       "        64.276,  50.576,  32.726,  23.713,  24.797,  32.343, 107.79 ,\n",
       "        99.693,  92.27 ,  94.337, 105.02 , 105.7  ,  81.376,  45.956,\n",
       "        23.45 ,  19.916,  25.7  ,  33.283,  45.526,  60.625,  63.312,\n",
       "        48.055,  29.693,  20.445,  19.747,  24.904, 108.565,  96.397,\n",
       "        88.414,  89.901,  98.194,  96.107,  71.159,  38.027,  19.247,\n",
       "        18.979,  26.724,  35.195,  47.936,  63.067,  64.342,  46.441,\n",
       "        26.177,  16.704,  15.766,  18.76 ])"
      ]
     },
     "execution_count": 32,
     "metadata": {},
     "output_type": "execute_result"
    }
   ],
   "source": [
    "# Max dose to a voxel: 72\n",
    "Un_voxel = []\n",
    "every = 0\n",
    "for i in Un_index:\n",
    "    every = round(voxels[i].solution_value(),3)\n",
    "    Un_voxel.append(every)\n",
    "np.array(Un_voxel)"
   ]
  },
  {
   "cell_type": "code",
   "execution_count": 33,
   "metadata": {},
   "outputs": [
    {
     "name": "stdout",
     "output_type": "stream",
     "text": [
      "Are there voxel values more than 72?\n"
     ]
    },
    {
     "data": {
      "text/plain": [
       "True"
      ]
     },
     "execution_count": 33,
     "metadata": {},
     "output_type": "execute_result"
    }
   ],
   "source": [
    "print('Are there voxel values more than 72?')\n",
    "max(Un_voxel) > 72"
   ]
  },
  {
   "cell_type": "code",
   "execution_count": 34,
   "metadata": {},
   "outputs": [
    {
     "name": "stdout",
     "output_type": "stream",
     "text": [
      "how many percentage of voxel values are more than 72?\n",
      "21.0 %\n"
     ]
    }
   ],
   "source": [
    "print('how many percentage of voxel values are more than 72?')\n",
    "\n",
    "print(round(sum((np.array(Un_voxel) >72)*1)/len(Un_voxel),2)*100,'%')"
   ]
  },
  {
   "cell_type": "markdown",
   "metadata": {},
   "source": [
    "**Left Femur Head**"
   ]
  },
  {
   "cell_type": "code",
   "execution_count": 35,
   "metadata": {},
   "outputs": [
    {
     "name": "stdout",
     "output_type": "stream",
     "text": [
      "left femur head voxel values\n"
     ]
    },
    {
     "data": {
      "text/plain": [
       "array([36.16, 30.01, 48.94, 36.78, 27.02, 18.48, 51.53, 34.59, 20.87,\n",
       "       11.23, 52.98, 30.42, 14.37,  5.79, 53.69, 27.65, 10.91,  3.48,\n",
       "       54.73, 29.24, 12.46,  4.54, 55.85, 34.64, 18.81,  9.24, 40.  ,\n",
       "       27.4 ])"
      ]
     },
     "execution_count": 35,
     "metadata": {},
     "output_type": "execute_result"
    }
   ],
   "source": [
    "# max dose to be voxel 50\n",
    "Left_voxel = []\n",
    "every = 0\n",
    "for i in Left_index:\n",
    "    every = round(voxels[i].solution_value(),2)\n",
    "    Left_voxel.append(every)\n",
    "print('left femur head voxel values')\n",
    "np.array(Left_voxel)"
   ]
  },
  {
   "cell_type": "code",
   "execution_count": 36,
   "metadata": {},
   "outputs": [
    {
     "name": "stdout",
     "output_type": "stream",
     "text": [
      "distances to 79.2 if voxel value is above 50\n",
      " [[0.         0.         0.         0.         0.         0.\n",
      "  1.52893492 0.         0.         0.         2.97707026 0.\n",
      "  0.         0.         3.68619995 0.         0.         0.\n",
      "  4.72795855 0.         0.         0.         5.85005815 0.\n",
      "  0.         0.         0.         0.        ]]\n"
     ]
    }
   ],
   "source": [
    "zl1 = np.array([[x.solution_value() for x in z_l_1]])\n",
    "print('distances to 79.2 if voxel value is above 50\\n',zl1)"
   ]
  },
  {
   "cell_type": "code",
   "execution_count": 37,
   "metadata": {},
   "outputs": [
    {
     "name": "stdout",
     "output_type": "stream",
     "text": [
      "are there values more than 50?\n",
      "True\n",
      "how many percentage of voxel values are more than 50?\n",
      "18.0 %\n"
     ]
    }
   ],
   "source": [
    "print('are there values more than 50?')\n",
    "print(max(Left_voxel) > 50)\n",
    "\n",
    "print('how many percentage of voxel values are more than 50?')\n",
    "\n",
    "print(round(sum((np.array(Left_voxel) >50)*1)/len(Left_voxel),2)*100,'%')"
   ]
  },
  {
   "cell_type": "code",
   "execution_count": 38,
   "metadata": {},
   "outputs": [
    {
     "name": "stdout",
     "output_type": "stream",
     "text": [
      "voxel that are larger that 40 are indicated by 1 \n",
      " [0. 0. 1. 0. 0. 0. 1. 0. 0. 0. 1. 0. 0. 0. 1. 0. 0. 0. 1. 0. 0. 0. 1. 0.\n",
      " 0. 0. 0. 0.]\n"
     ]
    }
   ],
   "source": [
    "# at most 15% of the left femur head should receive > 40\n",
    "y_left_value = np.array([t.solution_value() for t in y_left])\n",
    "print('voxel that are larger that 40 are indicated by 1 \\n',y_left_value)"
   ]
  },
  {
   "cell_type": "code",
   "execution_count": 39,
   "metadata": {},
   "outputs": [
    {
     "name": "stdout",
     "output_type": "stream",
     "text": [
      "0.2143  of the left femur voxels are above 40\n"
     ]
    }
   ],
   "source": [
    "test_left_femur = np.array(list(map(lambda x: 1 if x >40.00 else 0,Left_voxel)))\n",
    "print(round(sum(test_left_femur)/len(test_left_femur),4), ' of the left femur voxels are above 40')"
   ]
  },
  {
   "cell_type": "code",
   "execution_count": 40,
   "metadata": {},
   "outputs": [
    {
     "name": "stdout",
     "output_type": "stream",
     "text": [
      "voxel that are larger that 40 are indicated by 1 \n",
      " [0 0 1 0 0 0 1 0 0 0 1 0 0 0 1 0 0 0 1 0 0 0 1 0 0 0 0 0]\n"
     ]
    }
   ],
   "source": [
    "print('voxel that are larger that 40 are indicated by 1 \\n',test_left_femur)"
   ]
  },
  {
   "cell_type": "code",
   "execution_count": 41,
   "metadata": {},
   "outputs": [
    {
     "data": {
      "text/plain": [
       "array([ True,  True,  True,  True,  True,  True,  True,  True,  True,\n",
       "        True,  True,  True,  True,  True,  True,  True,  True,  True,\n",
       "        True,  True,  True,  True,  True,  True,  True,  True,  True,\n",
       "        True])"
      ]
     },
     "execution_count": 41,
     "metadata": {},
     "output_type": "execute_result"
    }
   ],
   "source": [
    "test_left_femur == y_left_value"
   ]
  },
  {
   "cell_type": "code",
   "execution_count": 42,
   "metadata": {},
   "outputs": [
    {
     "name": "stdout",
     "output_type": "stream",
     "text": [
      "the number of constraints we have to set loose to be above 40 2.0\n"
     ]
    }
   ],
   "source": [
    "print('the number of constraints we have to set loose to be above 40',z_y_left.solution_value())"
   ]
  },
  {
   "cell_type": "markdown",
   "metadata": {},
   "source": [
    "**Right Femur Head**"
   ]
  },
  {
   "cell_type": "code",
   "execution_count": 43,
   "metadata": {},
   "outputs": [
    {
     "name": "stdout",
     "output_type": "stream",
     "text": [
      "right femur head voxel values\n"
     ]
    },
    {
     "data": {
      "text/plain": [
       "array([17.8 , 32.36,  2.77,  7.74, 18.21, 35.88,  0.79,  2.92,  9.26,\n",
       "       23.72,  0.23,  1.22,  5.33, 17.07,  0.18,  1.08,  5.07, 16.84,\n",
       "        0.55,  2.31,  8.24, 23.18,  1.99,  6.12, 16.17, 36.13, 14.76,\n",
       "       30.26])"
      ]
     },
     "execution_count": 43,
     "metadata": {},
     "output_type": "execute_result"
    }
   ],
   "source": [
    "# max dose to a voxel: 50 \n",
    "Right_voxel = []\n",
    "every = 0\n",
    "for i in Right_index:\n",
    "    every = round(voxels[i].solution_value(),2)\n",
    "    Right_voxel.append(every)\n",
    "print(\"right femur head voxel values\")\n",
    "np.array(Right_voxel)"
   ]
  },
  {
   "cell_type": "code",
   "execution_count": 44,
   "metadata": {},
   "outputs": [
    {
     "name": "stdout",
     "output_type": "stream",
     "text": [
      "distances to 79.2 if voxel value is above 50\n",
      " [[0. 0. 0. 0. 0. 0. 0. 0. 0. 0. 0. 0. 0. 0. 0. 0. 0. 0. 0. 0. 0. 0. 0. 0.\n",
      "  0. 0. 0. 0.]]\n"
     ]
    }
   ],
   "source": [
    "# slack variable needed to fullfill the constraints\n",
    "zrl1 = np.array([[x.solution_value() for x in z_rl_1]])\n",
    "print('distances to 79.2 if voxel value is above 50\\n',zrl1)"
   ]
  },
  {
   "cell_type": "code",
   "execution_count": 45,
   "metadata": {},
   "outputs": [
    {
     "name": "stdout",
     "output_type": "stream",
     "text": [
      "are there values more than 50?\n",
      "False\n",
      "how many percentage of voxel values are more than 50?\n",
      "0.0 %\n"
     ]
    }
   ],
   "source": [
    "# check if there's any right voxel value that is bigger than 50\n",
    "print('are there values more than 50?')\n",
    "print(max(Right_voxel) > 50)\n",
    "\n",
    "print('how many percentage of voxel values are more than 50?')\n",
    "\n",
    "print(round(sum((np.array(Right_voxel) >50)*1)/len(Right_voxel),2)*100,'%')"
   ]
  },
  {
   "cell_type": "code",
   "execution_count": 46,
   "metadata": {},
   "outputs": [
    {
     "name": "stdout",
     "output_type": "stream",
     "text": [
      "voxel that are larger that 40 are indicated by 1 \n",
      " [0. 0. 0. 0. 0. 0. 0. 0. 0. 0. 0. 0. 0. 0. 0. 0. 0. 0. 0. 0. 0. 0. 0. 0.\n",
      " 0. 0. 0. 0.]\n"
     ]
    }
   ],
   "source": [
    "# at most 15% of the right  femur head should receive > 40\n",
    "y_right_value = np.array([t.solution_value() for t in y_right])\n",
    "print('voxel that are larger that 40 are indicated by 1 \\n',y_right_value)"
   ]
  },
  {
   "cell_type": "code",
   "execution_count": 47,
   "metadata": {},
   "outputs": [
    {
     "name": "stdout",
     "output_type": "stream",
     "text": [
      "0.0  of the right femur voxels are above 40\n"
     ]
    }
   ],
   "source": [
    "test_right = np.array(list(map(lambda x: 1 if x > 40.00 else 0,Right_voxel)))\n",
    "print(round(sum(test_right)/len(test_right),4), ' of the right femur voxels are above 40')"
   ]
  },
  {
   "cell_type": "code",
   "execution_count": 48,
   "metadata": {},
   "outputs": [
    {
     "name": "stdout",
     "output_type": "stream",
     "text": [
      "voxel that are larger that 40 are indicated by 1 \n",
      " [0 0 0 0 0 0 0 0 0 0 0 0 0 0 0 0 0 0 0 0 0 0 0 0 0 0 0 0]\n"
     ]
    }
   ],
   "source": [
    "print('voxel that are larger that 40 are indicated by 1 \\n',test_right)"
   ]
  },
  {
   "cell_type": "code",
   "execution_count": 49,
   "metadata": {},
   "outputs": [
    {
     "data": {
      "text/plain": [
       "array([ True,  True,  True,  True,  True,  True,  True,  True,  True,\n",
       "        True,  True,  True,  True,  True,  True,  True,  True,  True,\n",
       "        True,  True,  True,  True,  True,  True,  True,  True,  True,\n",
       "        True])"
      ]
     },
     "execution_count": 49,
     "metadata": {},
     "output_type": "execute_result"
    }
   ],
   "source": [
    "test_right == y_right_value"
   ]
  },
  {
   "cell_type": "code",
   "execution_count": 50,
   "metadata": {},
   "outputs": [
    {
     "name": "stdout",
     "output_type": "stream",
     "text": [
      "the number of constraints we have to set loose to be above 40 0.0\n"
     ]
    }
   ],
   "source": [
    "print('the number of constraints we have to set loose to be above 40',z_y_right.solution_value())"
   ]
  },
  {
   "cell_type": "code",
   "execution_count": null,
   "metadata": {},
   "outputs": [],
   "source": []
  }
 ],
 "metadata": {
  "kernelspec": {
   "display_name": "Python 3",
   "language": "python",
   "name": "python3"
  },
  "language_info": {
   "codemirror_mode": {
    "name": "ipython",
    "version": 3
   },
   "file_extension": ".py",
   "mimetype": "text/x-python",
   "name": "python",
   "nbconvert_exporter": "python",
   "pygments_lexer": "ipython3",
   "version": "3.8.3"
  }
 },
 "nbformat": 4,
 "nbformat_minor": 4
}
