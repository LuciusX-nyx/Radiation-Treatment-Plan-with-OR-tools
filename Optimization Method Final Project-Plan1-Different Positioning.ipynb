{
 "cells": [
  {
   "cell_type": "code",
   "execution_count": 1,
   "metadata": {},
   "outputs": [],
   "source": [
    "from ortools.linear_solver import pywraplp\n",
    "from ortools.linear_solver import pywraplp\n",
    "import numpy as np\n",
    "from itertools import combinations\n",
    "import pandas as pd\n",
    "import numpy as np"
   ]
  },
  {
   "cell_type": "code",
   "execution_count": 2,
   "metadata": {},
   "outputs": [],
   "source": [
    "dose_matrix = pd.read_csv('DoseMatrix.csv')"
   ]
  },
  {
   "cell_type": "code",
   "execution_count": 3,
   "metadata": {},
   "outputs": [],
   "source": [
    "dose_matrix =np.array(dose_matrix)"
   ]
  },
  {
   "cell_type": "code",
   "execution_count": 4,
   "metadata": {},
   "outputs": [],
   "source": [
    "CTV_index=[167, 168, 169, 170, 171, 172, 173, 186, 187, 188, 189, 190, \n",
    "     191, 192, 193, 194, 206, 207, 208, 209, 210, 211, 212, 213, \n",
    "     214, 227, 228, 229, 230, 231, 232, 233]\n",
    "\n",
    "bladder_index=[87, 88, 89, 90, 91, 92, 93, 106, 107, 108, 109, 110, \n",
    "         111, 112, 113, 114, 126, 127, 128, 129, 130, 131, 132, \n",
    "         133, 134, 147, 148, 149, 150, 151, 152, 153]\n",
    "\n",
    "Rectal_index=[248, 249, 250, 251, 252, 267, 268, 269, 270, 271, 272, \n",
    "        273, 287, 288, 289, 290, 291, 292, 293, 308, 309, 310, 311, 312]\n",
    "\n",
    "Un_index=[0, 1, 2, 3, 4, 5, 6, 7, 8, 9, 10, 11, 12, 13, 14, 15, 16, 17, 18, 19, 20, \n",
    "             21, 22, 23, 24, 25, 26, 27, 28, 29, 30, 31, 32, 33, 34, 35, 36, 37, 38, 39, 40, \n",
    "             41, 42, 43, 44, 45, 46, 47, 48, 49, 50, 51, 52, 53, 54, 55, 56, 57, 58, 59, 60, \n",
    "             61, 62, 63, 64, 65, 66, 67, 68, 69, 70, 71, 72, 73, 74, 75, 76, 77, 78, 79, 80, \n",
    "             81, 82, 83, 84, 85, 86, 94, 95, 96, 97, 98, 99, 100, 101, 104, 105, 115, 118, 119, 120,\n",
    "             125, 139, 140, 145, 146, 154, 159, 160, 165, 166, 174, 179, 180, 185, 199, 200, 205, 219, 220, \n",
    "             225, 226, 234, 239, 240, 241, 244, 245, 246, 247, 253, 254, 255, 258, 259, 260, 261, 262, 263, \n",
    "             264, 265, 266, 274, 275, 276, 277, 278, 279, 280, 281, 282, 283, 284, 285, 286, 294, 295, 296, \n",
    "             297, 298, 299, 300, 301, 302, 303, 304, 305, 306, 307, 313, 314, 315, 316, 317, 318, 319, 320, \n",
    "             321, 322, 323, 324, 325, 326, 327, 328, 329, 330, 331, 332, 333, 334, 335, 336, 337, 338, 339, \n",
    "             340, 341, 342, 343, 344, 345, 346, 347, 348, 349, 350, 351, 352, 353, 354, 355, 356, 357, 358, \n",
    "             359, 360, 361, 362, 363, 364, 365, 366, 367, 368, 369, 370, 371, 372, 373, 374, 375, 376, 377, \n",
    "             378, 379, 380, 381, 382, 383, 384, 385, 386, 387, 388, 389, 390, 391, 392, 393, 394, 395, 396, \n",
    "             397, 398, 399]\n",
    "\n",
    "Left_index=[116, 117, 135, 136, 137, 138, 155, 156, 157, 158, 175, 176, 177, 178,\n",
    "       195, 196, 197, 198, 215, 216, 217, 218, 235, 236, 237, 238, 256, 257]\n",
    "\n",
    "Right_index=[101, 102, 120, 121, 122, 123, 140, 141, 142, 143, 160, 161, 162, \n",
    "       163, 180, 181, 182, 183, 200, 201, 202, 203, 220, 221, 222, 223, 241, 242]"
   ]
  },
  {
   "cell_type": "code",
   "execution_count": 5,
   "metadata": {},
   "outputs": [],
   "source": [
    "CTV_index = list(map(lambda x: x-21, CTV_index))\n",
    "bladder_index = list(map(lambda x: x-21, bladder_index))\n",
    "Rectal_index = list(map(lambda x: x-21, Rectal_index))\n",
    "Left_index = list(map(lambda x: x-21, Left_index))\n",
    "Right_index = list(map(lambda x: x-21, Right_index))\n",
    "Un_index = []\n",
    "for i in range(400):\n",
    "    if i not in CTV_index+bladder_index+Rectal_index+Left_index+Right_index:\n",
    "        Un_index.append(i)"
   ]
  },
  {
   "cell_type": "code",
   "execution_count": 6,
   "metadata": {},
   "outputs": [
    {
     "name": "stdout",
     "output_type": "stream",
     "text": [
      "Problem solved in 12400.000000 milliseconds\n",
      "error 303650.98651829123\n"
     ]
    }
   ],
   "source": [
    "solver = pywraplp.Solver('Final Project',\n",
    "                         pywraplp.Solver.CBC_MIXED_INTEGER_PROGRAMMING)\n",
    "objective=solver.Objective() \n",
    "objective.SetMinimization()\n",
    "\n",
    "# Decision Variables\n",
    "beamlets = []\n",
    "for i in range(60):\n",
    "    beamlets.append(solver.NumVar(0,solver.infinity(), 'beamlets[%d]' % i))\n",
    "voxels = []    \n",
    "for i in range(400):\n",
    "    voxels.append(solver.NumVar(0,solver.infinity(),'voxels[%d]' % i))\n",
    "\n",
    "    \n",
    "#Constraints\n",
    "voxel_constraints = [0 for _ in range(400)]\n",
    "for i in range(400):\n",
    "    voxel_constraints[i] = solver.Constraint(0,0)\n",
    "    for j in range(60):\n",
    "        voxel_constraints[i].SetCoefficient(beamlets[j],dose_matrix[i,j+1])\n",
    "    voxel_constraints[i].SetCoefficient(voxels[i], -1)\n",
    "        \n",
    "######################################################## CTV#################################################\n",
    "\n",
    "# every voxel receives a uniform dose of 82.8       ( = 82.8)\n",
    "z_p = [0 for _ in range(len(CTV_index))]\n",
    "z_n = [0 for _ in range(len(CTV_index))]\n",
    "\n",
    "for i in range(len(CTV_index)):\n",
    "    z_p[i] = solver.NumVar(0, 82.8*0.08, \"Z plus CTV %d\" %i)\n",
    "    z_n[i] = solver.NumVar(0, 82.8*0.05, \"Z minus CTV %d\" %i)\n",
    "     \n",
    "CTV_constraint = [0 for _ in range(len(CTV_index))]\n",
    "for i in range(len(CTV_index)):\n",
    "    CTV_constraint[i] = solver.Constraint(82.8,82.8)\n",
    "    \n",
    "    for j in range(60):\n",
    "        CTV_constraint[i].SetCoefficient(beamlets[j],dose_matrix[CTV_index[i],j+1])\n",
    "    CTV_constraint[i].SetCoefficient(z_p[i],1)\n",
    "    CTV_constraint[i].SetCoefficient(z_n[i],-1)\n",
    "\n",
    "    \n",
    "    \n",
    "############################################ bladder ####################################################\n",
    "\n",
    "# # max dose to a voxel 81 ( < = 81)\n",
    "z_b_1 = [0 for _ in range(len(bladder_index))]\n",
    "\n",
    "for i in range(len(bladder_index)):\n",
    "    z_b_1[i] = solver.NumVar(0, solver.infinity(), \"z bladder #1 %d\" %i)\n",
    "    \n",
    "\n",
    "bladder_constraint_1 = [0 for _ in range(len(bladder_index))]\n",
    "for i in range(len(bladder_index)):\n",
    "    bladder_constraint_1[i] = solver.Constraint(-solver.infinity(),81)\n",
    "    for j in range(60):\n",
    "        bladder_constraint_1[i].SetCoefficient(beamlets[j],dose_matrix[bladder_index[i],j+1])\n",
    "    bladder_constraint_1[i].SetCoefficient(z_b_1[i],-1)\n",
    "\n",
    "\n",
    "# Average dose should be <= 50     ( <= 50)\n",
    "\n",
    "z_b_2 = solver.NumVar(0, solver.infinity(), \"z bladder #2 %d\" %i)\n",
    "bladder_constraint_2 = solver.Constraint(-solver.infinity(), 50)\n",
    "bladder_constraint_2.SetCoefficient(z_b_2, -1)\n",
    "\n",
    "for i in bladder_index:\n",
    "    bladder_constraint_2.SetCoefficient(voxels[i],1/len(bladder_index))\n",
    "\n",
    "        \n",
    "    \n",
    "# at most 10% of the bladder should receive a dose >65          ( >65)\n",
    "y = [0 for _ in range(len(bladder_index))]\n",
    "z_y = solver.IntVar(0,1, \"z y constraint bladder\")\n",
    "\n",
    "for i in range(len(bladder_index)):\n",
    "     y[i] = solver.IntVar(0,1,\"y bladder %d\" %i)\n",
    "\n",
    "bladder_constraint_3 = [0 for _ in range(len(bladder_index))]\n",
    "for i in range(len(bladder_index)):\n",
    "    bladder_constraint_3[i] = solver.Constraint(-solver.infinity(),65)\n",
    "    for j in range(60):\n",
    "        bladder_constraint_3[i].SetCoefficient(beamlets[j],dose_matrix[bladder_index[i],j+1])\n",
    "    bladder_constraint_3[i].SetCoefficient(y[i],-100)\n",
    "\n",
    "bladder_constraint_3b = solver.Constraint(-solver.infinity(),0.1*len(bladder_index))\n",
    "for j in range(len(bladder_index)):\n",
    "     bladder_constraint_3b.SetCoefficient(y[j],1)\n",
    "bladder_constraint_3b.SetCoefficient(z_y, -1)\n",
    "\n",
    "        \n",
    "        \n",
    "\n",
    "        \n",
    "# ####################### Rectal########################################\n",
    "\n",
    "#max dose to a voxel: 79.2              ( < = 79.2)\n",
    "\n",
    "z_r_1 = [0 for _ in range(len(Rectal_index))]\n",
    "\n",
    "for i in range(len(Rectal_index)):\n",
    "    z_r_1[i] = solver.NumVar(0, solver.infinity(), \"z rectal #1 %d\" %i)\n",
    "    \n",
    "\n",
    "Rectal_constraint_1 = [0 for _ in range(len(Rectal_index))]\n",
    "for i in range(len(Rectal_index)):\n",
    "    Rectal_constraint_1[i] = solver.Constraint(-solver.infinity(),79.2)\n",
    "    for j in range(60):\n",
    "        Rectal_constraint_1[i].SetCoefficient(beamlets[j],dose_matrix[Rectal_index[i],j+1])\n",
    "    Rectal_constraint_1[i].SetCoefficient(z_r_1[i],-1)\n",
    "\n",
    "    \n",
    "    \n",
    "# #average dose should be <= 40\n",
    "\n",
    "z_r_2 = solver.NumVar(0, solver.infinity(), \"z rectal #2 %d\" %i)\n",
    "Rectal_constraint_2 = solver.Constraint(-solver.infinity(), 40)\n",
    "Rectal_constraint_2.SetCoefficient(z_r_2, -1.0)\n",
    "\n",
    "for i in Rectal_index:\n",
    "    Rectal_constraint_2.SetCoefficient(voxels[i],1/len(Rectal_index))\n",
    "\n",
    "\n",
    "\n",
    "# ############################## Unspecified ############################\n",
    "\n",
    "# max dose to a voxel: 72         ( < =72)\n",
    "\n",
    "z_u_1 = [0 for _ in range(len(Un_index))]\n",
    "\n",
    "for i in range(len(Un_index)):\n",
    "    z_u_1[i] = solver.NumVar(0, solver.infinity(), \"z Unspecified #1 %d\" %i)\n",
    "    \n",
    "\n",
    "Un_constraint_1 = [0 for _ in range(len(Un_index))]\n",
    "for i in range(len(Un_index)):\n",
    "    Un_constraint_1[i] = solver.Constraint(-solver.infinity(),72)\n",
    "    for j in range(60):\n",
    "        Un_constraint_1[i].SetCoefficient(beamlets[j],dose_matrix[Un_index[i],j+1])\n",
    "    Un_constraint_1[i].SetCoefficient(z_u_1[i],-1)\n",
    "\n",
    "\n",
    "#############################Left femur head ##########################\n",
    "\n",
    "#max dose to a voxel: 50            ( <= 50)\n",
    "  \n",
    "z_l_1 = [0 for _ in range(len(Left_index))]\n",
    "\n",
    "for i in range(len(Left_index)):\n",
    "    z_l_1[i] = solver.NumVar(0, solver.infinity(), \"z left femur #1 %d\" %i)\n",
    "    \n",
    "\n",
    "left_constraint_1 = [0 for _ in range(len(Left_index))]\n",
    "for i in range(len(Left_index)):\n",
    "    left_constraint_1[i] = solver.Constraint(-solver.infinity(),50)\n",
    "    for j in range(60):\n",
    "        left_constraint_1[i].SetCoefficient(beamlets[j],dose_matrix[Left_index[i],j+1])\n",
    "    left_constraint_1[i].SetCoefficient(z_l_1[i],-1)    \n",
    "        \n",
    "\n",
    "        \n",
    "# at most 10% of the left femur should receive a dose > 40 \n",
    "y_left = [0 for _ in range(len(Left_index))]\n",
    "z_y_left = solver.IntVar(0,1, \"z y constraint left femur\")\n",
    "\n",
    "for i in range(len(Left_index)):\n",
    "     y_left[i] = solver.IntVar(0,1,\"y left femur %d\" %i)\n",
    "\n",
    "Left_constraint_3 = [0 for _ in range(len(Left_index))]\n",
    "for i in range(len(Left_index)):\n",
    "    Left_constraint_3[i] = solver.Constraint(-solver.infinity(),40)\n",
    "    for j in range(60):\n",
    "        Left_constraint_3[i].SetCoefficient(beamlets[j],dose_matrix[Left_index[i],j+1])\n",
    "    Left_constraint_3[i].SetCoefficient(y_left[i],-100)\n",
    "\n",
    "Left_constraint_3b = solver.Constraint(-solver.infinity(),0.15*len(Left_index))\n",
    "for j in range(len(Left_index)):\n",
    "     Left_constraint_3b.SetCoefficient(y_left[j],1)\n",
    "Left_constraint_3b.SetCoefficient(z_y_left,-1)\n",
    "\n",
    "\n",
    "############################# right femur head ##########################\n",
    "\n",
    "\n",
    "#max dose to a voxel: 50               ( <= 50 )\n",
    "z_rl_1 = [0 for _ in range(len(Right_index))]\n",
    "\n",
    "for i in range(len(Right_index)):\n",
    "    z_rl_1[i] = solver.NumVar(0, solver.infinity(), \"z right femur #1 %d\" %i)\n",
    "    \n",
    "\n",
    "Right_constraint_1 = [0 for _ in range(len(Right_index))]\n",
    "for i in range(len(Right_index)):\n",
    "    Right_constraint_1[i] = solver.Constraint(-solver.infinity(),50)\n",
    "    for j in range(60):\n",
    "        Right_constraint_1[i].SetCoefficient(beamlets[j],dose_matrix[Right_index[i],j+1])\n",
    "    Right_constraint_1[i].SetCoefficient(z_rl_1[i],-1)    \n",
    "        \n",
    "\n",
    "        \n",
    "# at most 10% of the right femur should receive a dose > 40 \n",
    "y_right = [0 for _ in range(len(Right_index))]\n",
    "z_y_right = solver.IntVar(0,2, \"z y constraint right femur\")\n",
    "\n",
    "for i in range(len(Right_index)):\n",
    "     y_right[i] = solver.IntVar(0,1,\"y right femur %d\" %i)\n",
    "\n",
    "Right_constraint_3 = [0 for _ in range(len(Right_index))]\n",
    "for i in range(len(Right_index)):\n",
    "    \n",
    "    # <= 40\n",
    "    Right_constraint_3[i] = solver.Constraint(-solver.infinity(),40)\n",
    "    for j in range(60):\n",
    "        Right_constraint_3[i].SetCoefficient(beamlets[j],dose_matrix[Right_index[i],j+1])\n",
    "    # Big M constraint\n",
    "    Right_constraint_3[i].SetCoefficient(y_right[i],-100)\n",
    "\n",
    "Right_constraint_3b = solver.Constraint(-solver.infinity(),0.15*len(Right_index))\n",
    "for j in range(len(Right_index)):\n",
    "     Right_constraint_3b.SetCoefficient(y_right[j],1)\n",
    "Right_constraint_3b.SetCoefficient(z_y_right, -1)\n",
    "        \n",
    "        \n",
    "########################## Objective Function ###########################\n",
    "\n",
    "# CTV\n",
    "for i in range(len(z_p)):\n",
    "    objective.SetCoefficient(z_p[i],1000)\n",
    "    objective.SetCoefficient(z_n[i],1000)\n",
    "\n",
    "# Bladders\n",
    "for i in range(len(z_b_1)):\n",
    "    objective.SetCoefficient(z_b_1[i],1)\n",
    "\n",
    "objective.SetCoefficient(z_b_2,100)\n",
    "\n",
    "# Rectal Solids\n",
    "for i in range(len(z_r_1)):\n",
    "    objective.SetCoefficient(z_r_1[i],1)\n",
    "    \n",
    "objective.SetCoefficient(z_r_2,6000)\n",
    "\n",
    "#Unspecified\n",
    "for i in range(len(z_u_1)):\n",
    "    objective.SetCoefficient(z_u_1[i],1)\n",
    "\n",
    "# left femur head\n",
    "for i in range(len(z_l_1)):\n",
    "    objective.SetCoefficient(z_l_1[i],5000)\n",
    "\n",
    "#right femur head\n",
    "for i in range(len(z_rl_1)):\n",
    "    objective.SetCoefficient(z_rl_1[i],1)\n",
    "\n",
    "# bladder, left femur, right femur's at most constraint\n",
    "objective.SetCoefficient(z_y,1)\n",
    "objective.SetCoefficient(z_y_left,1)\n",
    "objective.SetCoefficient(z_y_right,1)\n",
    "\n",
    "status = solver.Solve()\n",
    "\n",
    "if status == solver.OPTIMAL:\n",
    "    print('Problem solved in %f milliseconds' %solver.wall_time())\n",
    "elif status == solver.FEASIBLE:\n",
    "    print('Solver claims feasibility but not optimality')\n",
    "else:\n",
    "    print('Solver ran to completion but did not find an optimal solution')\n",
    "\n",
    "print('error',objective.Value()) \n",
    "\n",
    "\n",
    "#print(bladder_constraint_2.dual_value())\n",
    "\n",
    "#print(solver.ExportModelAsLpFormat(False).replace('\\\\', '').replace(',_', ','), sep='\\n')"
   ]
  },
  {
   "cell_type": "code",
   "execution_count": 7,
   "metadata": {},
   "outputs": [
    {
     "name": "stdout",
     "output_type": "stream",
     "text": [
      "0.0\n"
     ]
    }
   ],
   "source": [
    "print(bladder_constraint_2.dual_value())"
   ]
  },
  {
   "cell_type": "code",
   "execution_count": 8,
   "metadata": {},
   "outputs": [],
   "source": [
    "#print(solver.ExportModelAsLpFormat(False).replace('\\\\', '').replace(',_', ','), sep='\\n')"
   ]
  },
  {
   "cell_type": "markdown",
   "metadata": {},
   "source": [
    "## All Voxels"
   ]
  },
  {
   "cell_type": "code",
   "execution_count": 9,
   "metadata": {
    "scrolled": true
   },
   "outputs": [
    {
     "data": {
      "text/html": [
       "<div>\n",
       "<style scoped>\n",
       "    .dataframe tbody tr th:only-of-type {\n",
       "        vertical-align: middle;\n",
       "    }\n",
       "\n",
       "    .dataframe tbody tr th {\n",
       "        vertical-align: top;\n",
       "    }\n",
       "\n",
       "    .dataframe thead th {\n",
       "        text-align: right;\n",
       "    }\n",
       "</style>\n",
       "<table border=\"1\" class=\"dataframe\">\n",
       "  <thead>\n",
       "    <tr style=\"text-align: right;\">\n",
       "      <th></th>\n",
       "      <th>1</th>\n",
       "      <th>2</th>\n",
       "      <th>3</th>\n",
       "      <th>4</th>\n",
       "      <th>5</th>\n",
       "      <th>6</th>\n",
       "      <th>7</th>\n",
       "      <th>8</th>\n",
       "      <th>9</th>\n",
       "      <th>10</th>\n",
       "      <th>11</th>\n",
       "      <th>12</th>\n",
       "      <th>13</th>\n",
       "      <th>14</th>\n",
       "      <th>15</th>\n",
       "      <th>16</th>\n",
       "      <th>17</th>\n",
       "      <th>18</th>\n",
       "      <th>19</th>\n",
       "      <th>20</th>\n",
       "    </tr>\n",
       "  </thead>\n",
       "  <tbody>\n",
       "    <tr>\n",
       "      <th>1</th>\n",
       "      <td>79.66</td>\n",
       "      <td>63.93</td>\n",
       "      <td>51.48</td>\n",
       "      <td>44.19</td>\n",
       "      <td>38.93</td>\n",
       "      <td>31.45</td>\n",
       "      <td>22.01</td>\n",
       "      <td>16.07</td>\n",
       "      <td>16.48</td>\n",
       "      <td>18.41</td>\n",
       "      <td>17.83</td>\n",
       "      <td>18.13</td>\n",
       "      <td>20.84</td>\n",
       "      <td>22.00</td>\n",
       "      <td>20.43</td>\n",
       "      <td>18.47</td>\n",
       "      <td>17.42</td>\n",
       "      <td>18.04</td>\n",
       "      <td>21.94</td>\n",
       "      <td>29.67</td>\n",
       "    </tr>\n",
       "    <tr>\n",
       "      <th>2</th>\n",
       "      <td>84.74</td>\n",
       "      <td>72.81</td>\n",
       "      <td>59.23</td>\n",
       "      <td>49.51</td>\n",
       "      <td>44.52</td>\n",
       "      <td>39.42</td>\n",
       "      <td>31.06</td>\n",
       "      <td>23.42</td>\n",
       "      <td>20.81</td>\n",
       "      <td>20.72</td>\n",
       "      <td>20.30</td>\n",
       "      <td>22.34</td>\n",
       "      <td>26.68</td>\n",
       "      <td>27.89</td>\n",
       "      <td>24.71</td>\n",
       "      <td>20.91</td>\n",
       "      <td>19.66</td>\n",
       "      <td>22.43</td>\n",
       "      <td>29.07</td>\n",
       "      <td>36.53</td>\n",
       "    </tr>\n",
       "    <tr>\n",
       "      <th>3</th>\n",
       "      <td>82.09</td>\n",
       "      <td>77.30</td>\n",
       "      <td>67.09</td>\n",
       "      <td>56.30</td>\n",
       "      <td>49.20</td>\n",
       "      <td>44.53</td>\n",
       "      <td>38.53</td>\n",
       "      <td>32.13</td>\n",
       "      <td>28.54</td>\n",
       "      <td>26.92</td>\n",
       "      <td>26.27</td>\n",
       "      <td>29.08</td>\n",
       "      <td>33.42</td>\n",
       "      <td>32.97</td>\n",
       "      <td>27.58</td>\n",
       "      <td>23.11</td>\n",
       "      <td>23.61</td>\n",
       "      <td>28.81</td>\n",
       "      <td>35.08</td>\n",
       "      <td>37.40</td>\n",
       "    </tr>\n",
       "    <tr>\n",
       "      <th>4</th>\n",
       "      <td>71.89</td>\n",
       "      <td>74.84</td>\n",
       "      <td>71.07</td>\n",
       "      <td>63.28</td>\n",
       "      <td>55.18</td>\n",
       "      <td>48.62</td>\n",
       "      <td>43.29</td>\n",
       "      <td>39.84</td>\n",
       "      <td>38.80</td>\n",
       "      <td>37.95</td>\n",
       "      <td>36.77</td>\n",
       "      <td>38.07</td>\n",
       "      <td>39.89</td>\n",
       "      <td>36.65</td>\n",
       "      <td>30.02</td>\n",
       "      <td>26.77</td>\n",
       "      <td>29.32</td>\n",
       "      <td>34.03</td>\n",
       "      <td>35.45</td>\n",
       "      <td>30.73</td>\n",
       "    </tr>\n",
       "    <tr>\n",
       "      <th>5</th>\n",
       "      <td>55.76</td>\n",
       "      <td>65.56</td>\n",
       "      <td>68.82</td>\n",
       "      <td>66.90</td>\n",
       "      <td>61.54</td>\n",
       "      <td>54.13</td>\n",
       "      <td>47.57</td>\n",
       "      <td>46.06</td>\n",
       "      <td>49.53</td>\n",
       "      <td>52.08</td>\n",
       "      <td>50.65</td>\n",
       "      <td>48.49</td>\n",
       "      <td>46.06</td>\n",
       "      <td>40.32</td>\n",
       "      <td>33.93</td>\n",
       "      <td>32.06</td>\n",
       "      <td>33.84</td>\n",
       "      <td>33.92</td>\n",
       "      <td>28.87</td>\n",
       "      <td>19.97</td>\n",
       "    </tr>\n",
       "    <tr>\n",
       "      <th>6</th>\n",
       "      <td>36.97</td>\n",
       "      <td>50.89</td>\n",
       "      <td>60.42</td>\n",
       "      <td>65.04</td>\n",
       "      <td>65.33</td>\n",
       "      <td>60.96</td>\n",
       "      <td>54.62</td>\n",
       "      <td>53.36</td>\n",
       "      <td>59.34</td>\n",
       "      <td>65.00</td>\n",
       "      <td>64.07</td>\n",
       "      <td>59.36</td>\n",
       "      <td>53.81</td>\n",
       "      <td>46.66</td>\n",
       "      <td>40.00</td>\n",
       "      <td>36.38</td>\n",
       "      <td>33.37</td>\n",
       "      <td>27.39</td>\n",
       "      <td>18.65</td>\n",
       "      <td>10.21</td>\n",
       "    </tr>\n",
       "    <tr>\n",
       "      <th>7</th>\n",
       "      <td>20.22</td>\n",
       "      <td>33.82</td>\n",
       "      <td>47.24</td>\n",
       "      <td>58.01</td>\n",
       "      <td>65.17</td>\n",
       "      <td>67.30</td>\n",
       "      <td>65.00</td>\n",
       "      <td>64.06</td>\n",
       "      <td>68.30</td>\n",
       "      <td>72.97</td>\n",
       "      <td>72.81</td>\n",
       "      <td>69.63</td>\n",
       "      <td>65.00</td>\n",
       "      <td>56.91</td>\n",
       "      <td>46.52</td>\n",
       "      <td>36.66</td>\n",
       "      <td>27.22</td>\n",
       "      <td>17.70</td>\n",
       "      <td>9.51</td>\n",
       "      <td>4.10</td>\n",
       "    </tr>\n",
       "    <tr>\n",
       "      <th>8</th>\n",
       "      <td>8.93</td>\n",
       "      <td>18.73</td>\n",
       "      <td>32.28</td>\n",
       "      <td>47.66</td>\n",
       "      <td>62.23</td>\n",
       "      <td>72.39</td>\n",
       "      <td>76.18</td>\n",
       "      <td>76.31</td>\n",
       "      <td>76.30</td>\n",
       "      <td>76.18</td>\n",
       "      <td>76.18</td>\n",
       "      <td>78.08</td>\n",
       "      <td>77.90</td>\n",
       "      <td>68.51</td>\n",
       "      <td>51.17</td>\n",
       "      <td>33.22</td>\n",
       "      <td>19.08</td>\n",
       "      <td>9.48</td>\n",
       "      <td>3.92</td>\n",
       "      <td>1.31</td>\n",
       "    </tr>\n",
       "    <tr>\n",
       "      <th>9</th>\n",
       "      <td>3.31</td>\n",
       "      <td>9.04</td>\n",
       "      <td>20.24</td>\n",
       "      <td>37.74</td>\n",
       "      <td>58.73</td>\n",
       "      <td>76.18</td>\n",
       "      <td>84.55</td>\n",
       "      <td>85.06</td>\n",
       "      <td>81.84</td>\n",
       "      <td>77.93</td>\n",
       "      <td>77.64</td>\n",
       "      <td>83.39</td>\n",
       "      <td>86.79</td>\n",
       "      <td>76.18</td>\n",
       "      <td>53.39</td>\n",
       "      <td>30.19</td>\n",
       "      <td>14.13</td>\n",
       "      <td>5.50</td>\n",
       "      <td>1.76</td>\n",
       "      <td>0.45</td>\n",
       "    </tr>\n",
       "    <tr>\n",
       "      <th>10</th>\n",
       "      <td>1.72</td>\n",
       "      <td>5.72</td>\n",
       "      <td>15.35</td>\n",
       "      <td>33.16</td>\n",
       "      <td>56.93</td>\n",
       "      <td>77.52</td>\n",
       "      <td>86.94</td>\n",
       "      <td>86.94</td>\n",
       "      <td>83.76</td>\n",
       "      <td>80.57</td>\n",
       "      <td>80.17</td>\n",
       "      <td>84.67</td>\n",
       "      <td>86.94</td>\n",
       "      <td>76.18</td>\n",
       "      <td>53.96</td>\n",
       "      <td>31.37</td>\n",
       "      <td>15.44</td>\n",
       "      <td>6.50</td>\n",
       "      <td>2.30</td>\n",
       "      <td>0.67</td>\n",
       "    </tr>\n",
       "    <tr>\n",
       "      <th>11</th>\n",
       "      <td>3.18</td>\n",
       "      <td>8.53</td>\n",
       "      <td>19.19</td>\n",
       "      <td>36.50</td>\n",
       "      <td>57.83</td>\n",
       "      <td>75.08</td>\n",
       "      <td>82.18</td>\n",
       "      <td>82.59</td>\n",
       "      <td>82.65</td>\n",
       "      <td>82.80</td>\n",
       "      <td>81.94</td>\n",
       "      <td>81.78</td>\n",
       "      <td>79.74</td>\n",
       "      <td>69.70</td>\n",
       "      <td>52.94</td>\n",
       "      <td>36.07</td>\n",
       "      <td>22.43</td>\n",
       "      <td>12.33</td>\n",
       "      <td>5.72</td>\n",
       "      <td>2.17</td>\n",
       "    </tr>\n",
       "    <tr>\n",
       "      <th>12</th>\n",
       "      <td>8.36</td>\n",
       "      <td>17.35</td>\n",
       "      <td>30.16</td>\n",
       "      <td>45.41</td>\n",
       "      <td>60.08</td>\n",
       "      <td>69.65</td>\n",
       "      <td>72.96</td>\n",
       "      <td>74.98</td>\n",
       "      <td>78.76</td>\n",
       "      <td>80.75</td>\n",
       "      <td>78.70</td>\n",
       "      <td>75.59</td>\n",
       "      <td>71.13</td>\n",
       "      <td>61.76</td>\n",
       "      <td>49.92</td>\n",
       "      <td>40.00</td>\n",
       "      <td>31.27</td>\n",
       "      <td>21.85</td>\n",
       "      <td>12.78</td>\n",
       "      <td>6.10</td>\n",
       "    </tr>\n",
       "    <tr>\n",
       "      <th>13</th>\n",
       "      <td>18.67</td>\n",
       "      <td>31.24</td>\n",
       "      <td>43.97</td>\n",
       "      <td>54.36</td>\n",
       "      <td>61.38</td>\n",
       "      <td>64.24</td>\n",
       "      <td>64.40</td>\n",
       "      <td>66.30</td>\n",
       "      <td>70.27</td>\n",
       "      <td>71.44</td>\n",
       "      <td>69.22</td>\n",
       "      <td>67.89</td>\n",
       "      <td>65.52</td>\n",
       "      <td>56.83</td>\n",
       "      <td>45.93</td>\n",
       "      <td>39.81</td>\n",
       "      <td>36.95</td>\n",
       "      <td>31.84</td>\n",
       "      <td>23.14</td>\n",
       "      <td>13.74</td>\n",
       "    </tr>\n",
       "    <tr>\n",
       "      <th>14</th>\n",
       "      <td>34.06</td>\n",
       "      <td>46.91</td>\n",
       "      <td>55.28</td>\n",
       "      <td>59.21</td>\n",
       "      <td>61.30</td>\n",
       "      <td>61.58</td>\n",
       "      <td>59.10</td>\n",
       "      <td>56.60</td>\n",
       "      <td>56.06</td>\n",
       "      <td>55.73</td>\n",
       "      <td>56.29</td>\n",
       "      <td>60.51</td>\n",
       "      <td>63.05</td>\n",
       "      <td>55.67</td>\n",
       "      <td>43.07</td>\n",
       "      <td>36.26</td>\n",
       "      <td>36.79</td>\n",
       "      <td>37.79</td>\n",
       "      <td>33.75</td>\n",
       "      <td>24.84</td>\n",
       "    </tr>\n",
       "    <tr>\n",
       "      <th>15</th>\n",
       "      <td>51.29</td>\n",
       "      <td>59.38</td>\n",
       "      <td>60.84</td>\n",
       "      <td>60.16</td>\n",
       "      <td>61.36</td>\n",
       "      <td>61.17</td>\n",
       "      <td>54.69</td>\n",
       "      <td>45.10</td>\n",
       "      <td>38.93</td>\n",
       "      <td>38.20</td>\n",
       "      <td>43.37</td>\n",
       "      <td>54.07</td>\n",
       "      <td>61.71</td>\n",
       "      <td>56.24</td>\n",
       "      <td>42.18</td>\n",
       "      <td>32.49</td>\n",
       "      <td>32.33</td>\n",
       "      <td>37.21</td>\n",
       "      <td>39.91</td>\n",
       "      <td>36.13</td>\n",
       "    </tr>\n",
       "    <tr>\n",
       "      <th>16</th>\n",
       "      <td>64.97</td>\n",
       "      <td>65.38</td>\n",
       "      <td>61.60</td>\n",
       "      <td>60.00</td>\n",
       "      <td>61.68</td>\n",
       "      <td>59.32</td>\n",
       "      <td>47.55</td>\n",
       "      <td>32.65</td>\n",
       "      <td>23.88</td>\n",
       "      <td>23.90</td>\n",
       "      <td>32.58</td>\n",
       "      <td>48.10</td>\n",
       "      <td>59.85</td>\n",
       "      <td>56.44</td>\n",
       "      <td>42.20</td>\n",
       "      <td>30.36</td>\n",
       "      <td>27.35</td>\n",
       "      <td>31.83</td>\n",
       "      <td>38.92</td>\n",
       "      <td>42.54</td>\n",
       "    </tr>\n",
       "    <tr>\n",
       "      <th>17</th>\n",
       "      <td>71.51</td>\n",
       "      <td>66.01</td>\n",
       "      <td>60.91</td>\n",
       "      <td>59.60</td>\n",
       "      <td>59.41</td>\n",
       "      <td>52.87</td>\n",
       "      <td>37.58</td>\n",
       "      <td>21.82</td>\n",
       "      <td>13.99</td>\n",
       "      <td>15.09</td>\n",
       "      <td>24.91</td>\n",
       "      <td>42.49</td>\n",
       "      <td>56.86</td>\n",
       "      <td>55.31</td>\n",
       "      <td>41.71</td>\n",
       "      <td>29.30</td>\n",
       "      <td>24.13</td>\n",
       "      <td>25.78</td>\n",
       "      <td>32.63</td>\n",
       "      <td>41.15</td>\n",
       "    </tr>\n",
       "    <tr>\n",
       "      <th>18</th>\n",
       "      <td>72.09</td>\n",
       "      <td>64.92</td>\n",
       "      <td>59.79</td>\n",
       "      <td>56.25</td>\n",
       "      <td>51.99</td>\n",
       "      <td>42.80</td>\n",
       "      <td>27.95</td>\n",
       "      <td>14.61</td>\n",
       "      <td>9.02</td>\n",
       "      <td>10.92</td>\n",
       "      <td>20.54</td>\n",
       "      <td>38.16</td>\n",
       "      <td>53.36</td>\n",
       "      <td>52.84</td>\n",
       "      <td>40.00</td>\n",
       "      <td>28.01</td>\n",
       "      <td>22.31</td>\n",
       "      <td>21.66</td>\n",
       "      <td>25.52</td>\n",
       "      <td>33.92</td>\n",
       "    </tr>\n",
       "    <tr>\n",
       "      <th>19</th>\n",
       "      <td>70.66</td>\n",
       "      <td>63.26</td>\n",
       "      <td>55.44</td>\n",
       "      <td>47.42</td>\n",
       "      <td>40.83</td>\n",
       "      <td>33.06</td>\n",
       "      <td>21.50</td>\n",
       "      <td>11.06</td>\n",
       "      <td>7.06</td>\n",
       "      <td>9.39</td>\n",
       "      <td>18.79</td>\n",
       "      <td>36.01</td>\n",
       "      <td>50.73</td>\n",
       "      <td>49.81</td>\n",
       "      <td>37.04</td>\n",
       "      <td>25.69</td>\n",
       "      <td>20.59</td>\n",
       "      <td>19.32</td>\n",
       "      <td>20.55</td>\n",
       "      <td>25.69</td>\n",
       "    </tr>\n",
       "    <tr>\n",
       "      <th>20</th>\n",
       "      <td>68.52</td>\n",
       "      <td>58.04</td>\n",
       "      <td>45.25</td>\n",
       "      <td>34.77</td>\n",
       "      <td>30.23</td>\n",
       "      <td>26.74</td>\n",
       "      <td>18.63</td>\n",
       "      <td>9.88</td>\n",
       "      <td>6.45</td>\n",
       "      <td>8.97</td>\n",
       "      <td>18.61</td>\n",
       "      <td>35.98</td>\n",
       "      <td>50.06</td>\n",
       "      <td>47.57</td>\n",
       "      <td>33.53</td>\n",
       "      <td>22.25</td>\n",
       "      <td>18.07</td>\n",
       "      <td>17.40</td>\n",
       "      <td>17.73</td>\n",
       "      <td>19.83</td>\n",
       "    </tr>\n",
       "  </tbody>\n",
       "</table>\n",
       "</div>"
      ],
      "text/plain": [
       "       1      2      3      4      5      6      7      8      9      10  \\\n",
       "1   79.66  63.93  51.48  44.19  38.93  31.45  22.01  16.07  16.48  18.41   \n",
       "2   84.74  72.81  59.23  49.51  44.52  39.42  31.06  23.42  20.81  20.72   \n",
       "3   82.09  77.30  67.09  56.30  49.20  44.53  38.53  32.13  28.54  26.92   \n",
       "4   71.89  74.84  71.07  63.28  55.18  48.62  43.29  39.84  38.80  37.95   \n",
       "5   55.76  65.56  68.82  66.90  61.54  54.13  47.57  46.06  49.53  52.08   \n",
       "6   36.97  50.89  60.42  65.04  65.33  60.96  54.62  53.36  59.34  65.00   \n",
       "7   20.22  33.82  47.24  58.01  65.17  67.30  65.00  64.06  68.30  72.97   \n",
       "8    8.93  18.73  32.28  47.66  62.23  72.39  76.18  76.31  76.30  76.18   \n",
       "9    3.31   9.04  20.24  37.74  58.73  76.18  84.55  85.06  81.84  77.93   \n",
       "10   1.72   5.72  15.35  33.16  56.93  77.52  86.94  86.94  83.76  80.57   \n",
       "11   3.18   8.53  19.19  36.50  57.83  75.08  82.18  82.59  82.65  82.80   \n",
       "12   8.36  17.35  30.16  45.41  60.08  69.65  72.96  74.98  78.76  80.75   \n",
       "13  18.67  31.24  43.97  54.36  61.38  64.24  64.40  66.30  70.27  71.44   \n",
       "14  34.06  46.91  55.28  59.21  61.30  61.58  59.10  56.60  56.06  55.73   \n",
       "15  51.29  59.38  60.84  60.16  61.36  61.17  54.69  45.10  38.93  38.20   \n",
       "16  64.97  65.38  61.60  60.00  61.68  59.32  47.55  32.65  23.88  23.90   \n",
       "17  71.51  66.01  60.91  59.60  59.41  52.87  37.58  21.82  13.99  15.09   \n",
       "18  72.09  64.92  59.79  56.25  51.99  42.80  27.95  14.61   9.02  10.92   \n",
       "19  70.66  63.26  55.44  47.42  40.83  33.06  21.50  11.06   7.06   9.39   \n",
       "20  68.52  58.04  45.25  34.77  30.23  26.74  18.63   9.88   6.45   8.97   \n",
       "\n",
       "       11     12     13     14     15     16     17     18     19     20  \n",
       "1   17.83  18.13  20.84  22.00  20.43  18.47  17.42  18.04  21.94  29.67  \n",
       "2   20.30  22.34  26.68  27.89  24.71  20.91  19.66  22.43  29.07  36.53  \n",
       "3   26.27  29.08  33.42  32.97  27.58  23.11  23.61  28.81  35.08  37.40  \n",
       "4   36.77  38.07  39.89  36.65  30.02  26.77  29.32  34.03  35.45  30.73  \n",
       "5   50.65  48.49  46.06  40.32  33.93  32.06  33.84  33.92  28.87  19.97  \n",
       "6   64.07  59.36  53.81  46.66  40.00  36.38  33.37  27.39  18.65  10.21  \n",
       "7   72.81  69.63  65.00  56.91  46.52  36.66  27.22  17.70   9.51   4.10  \n",
       "8   76.18  78.08  77.90  68.51  51.17  33.22  19.08   9.48   3.92   1.31  \n",
       "9   77.64  83.39  86.79  76.18  53.39  30.19  14.13   5.50   1.76   0.45  \n",
       "10  80.17  84.67  86.94  76.18  53.96  31.37  15.44   6.50   2.30   0.67  \n",
       "11  81.94  81.78  79.74  69.70  52.94  36.07  22.43  12.33   5.72   2.17  \n",
       "12  78.70  75.59  71.13  61.76  49.92  40.00  31.27  21.85  12.78   6.10  \n",
       "13  69.22  67.89  65.52  56.83  45.93  39.81  36.95  31.84  23.14  13.74  \n",
       "14  56.29  60.51  63.05  55.67  43.07  36.26  36.79  37.79  33.75  24.84  \n",
       "15  43.37  54.07  61.71  56.24  42.18  32.49  32.33  37.21  39.91  36.13  \n",
       "16  32.58  48.10  59.85  56.44  42.20  30.36  27.35  31.83  38.92  42.54  \n",
       "17  24.91  42.49  56.86  55.31  41.71  29.30  24.13  25.78  32.63  41.15  \n",
       "18  20.54  38.16  53.36  52.84  40.00  28.01  22.31  21.66  25.52  33.92  \n",
       "19  18.79  36.01  50.73  49.81  37.04  25.69  20.59  19.32  20.55  25.69  \n",
       "20  18.61  35.98  50.06  47.57  33.53  22.25  18.07  17.40  17.73  19.83  "
      ]
     },
     "execution_count": 9,
     "metadata": {},
     "output_type": "execute_result"
    }
   ],
   "source": [
    "All_voxels = np.zeros((400)).astype(np.float)\n",
    "for i in range(400):\n",
    "    All_voxels[i] = voxels[i].solution_value()\n",
    "#print(All_voxels.reshape(20,20))\n",
    "All_voxels = pd.DataFrame(All_voxels.reshape((20,20)), index=[i for i in range(1,21)],\n",
    "                          columns = [i for i in range(1,21)]).round(2)\n",
    "All_voxels"
   ]
  },
  {
   "cell_type": "code",
   "execution_count": 10,
   "metadata": {},
   "outputs": [],
   "source": [
    "OUTPUT  = 'output/cross_section_position.csv'\n",
    "cross_section = All_voxels.to_csv(OUTPUT, index=[i for i in range(1,21)], columns = [i for i in range(1,21)])"
   ]
  },
  {
   "cell_type": "markdown",
   "metadata": {},
   "source": [
    "## Check Constraint"
   ]
  },
  {
   "cell_type": "markdown",
   "metadata": {},
   "source": [
    "**Beamlets Check**"
   ]
  },
  {
   "cell_type": "code",
   "execution_count": 11,
   "metadata": {},
   "outputs": [
    {
     "name": "stdout",
     "output_type": "stream",
     "text": [
      "Beamlets values are \n",
      "[20.55970392  0.          0.          0.          0.          0.\n",
      "  0.         36.52299544 13.1127899   0.          0.          0.\n",
      "  0.          0.          0.          0.          0.         27.9853068\n",
      " 18.60689836  0.          0.          0.          0.         32.9550896\n",
      "  0.          0.          0.          0.          0.          0.\n",
      "  0.          0.          0.          0.          0.         15.59957222\n",
      "  0.          0.          0.          0.          0.          0.\n",
      " 25.50722382  0.          9.47975179 56.46998712  0.         53.5601302\n",
      "  0.          0.          0.         28.24880935 35.71354163 24.06832245\n",
      "  0.         45.58915876  0.          0.          0.          0.        ]\n"
     ]
    }
   ],
   "source": [
    "# check beamlets value\n",
    "beamlets_value = []\n",
    "for i in range(60):\n",
    "    beamlets_value.append(beamlets[i].solution_value())\n",
    "print('Beamlets values are ')\n",
    "print(np.array(beamlets_value))   "
   ]
  },
  {
   "cell_type": "markdown",
   "metadata": {},
   "source": [
    "**CTV check**"
   ]
  },
  {
   "cell_type": "code",
   "execution_count": 12,
   "metadata": {},
   "outputs": [
    {
     "name": "stdout",
     "output_type": "stream",
     "text": [
      "CTV voxel dose(Gy)\n",
      "[76.176      76.30531598 76.29912281 76.176      76.176      78.08153973\n",
      " 77.90098743 76.176      84.54652825 85.06297181 81.83948787 77.9284102\n",
      " 77.63883615 83.39126232 86.79116593 76.176      77.51876689 86.94\n",
      " 86.94       83.75862756 80.5735029  80.1682479  84.6690191  86.94\n",
      " 76.176      82.18225277 82.59258355 82.65064755 82.8        81.94123001\n",
      " 81.78313229 79.73935537]\n"
     ]
    }
   ],
   "source": [
    "#Every voxel receives a uniform dose of 82.8 \n",
    "CTV_voxel = []\n",
    "every = 0\n",
    "for i in CTV_index:\n",
    "    every = voxels[i].solution_value() \n",
    "    CTV_voxel.append(every)\n",
    "print('CTV voxel dose(Gy)')\n",
    "print(np.array(CTV_voxel))"
   ]
  },
  {
   "cell_type": "code",
   "execution_count": 13,
   "metadata": {},
   "outputs": [
    {
     "name": "stdout",
     "output_type": "stream",
     "text": [
      "Positive distance to 82.8 \n",
      " [[6.624      6.49468402 6.50087719 6.624      6.624      4.71846027\n",
      "  4.89901257 6.624      0.         0.         0.96051213 4.8715898\n",
      "  5.16116385 0.         0.         6.624      5.28123311 0.\n",
      "  0.         0.         2.2264971  2.6317521  0.         0.\n",
      "  6.624      0.61774723 0.20741645 0.14935245 0.         0.85876999\n",
      "  1.01686771 3.06064463]]\n",
      "\n",
      "\n",
      "Negative distance to 82.8 \n",
      " [[0.         0.         0.         0.         0.         0.\n",
      "  0.         0.         1.74652825 2.26297181 0.         0.\n",
      "  0.         0.59126232 3.99116593 0.         0.         4.14\n",
      "  4.14       0.95862756 0.         0.         1.8690191  4.14\n",
      "  0.         0.         0.         0.         0.         0.\n",
      "  0.         0.        ]]\n"
     ]
    }
   ],
   "source": [
    "# the distance to 82.8\n",
    "zp0 = np.array([[x.solution_value() for x in z_p]])\n",
    "zn0 = np.array([[x.solution_value() for x in z_n]])\n",
    "print('Positive distance to 82.8 \\n',zp0)\n",
    "print('\\n')\n",
    "print('Negative distance to 82.8 \\n',zn0)"
   ]
  },
  {
   "cell_type": "code",
   "execution_count": 14,
   "metadata": {},
   "outputs": [
    {
     "name": "stdout",
     "output_type": "stream",
     "text": [
      "maximum difference of CTV voxels values to 82.8 are  0.05000000000000893 0.08000000000003135\n"
     ]
    }
   ],
   "source": [
    "print('maximum difference of CTV voxels values to 82.8 are ', (max(CTV_voxel)-82.8)/82.8, (82.8- min(CTV_voxel))/82.8)"
   ]
  },
  {
   "cell_type": "code",
   "execution_count": 15,
   "metadata": {},
   "outputs": [
    {
     "name": "stdout",
     "output_type": "stream",
     "text": [
      "maximum CTV voxels value is  86.94000000000074\n"
     ]
    }
   ],
   "source": [
    "print('maximum CTV voxels value is ', max(CTV_voxel))"
   ]
  },
  {
   "cell_type": "code",
   "execution_count": 16,
   "metadata": {},
   "outputs": [
    {
     "name": "stdout",
     "output_type": "stream",
     "text": [
      "minimum CTV voxels value is  76.1759999999974\n"
     ]
    }
   ],
   "source": [
    "print('minimum CTV voxels value is ', min(CTV_voxel))"
   ]
  },
  {
   "cell_type": "code",
   "execution_count": 17,
   "metadata": {},
   "outputs": [
    {
     "name": "stdout",
     "output_type": "stream",
     "text": [
      "percentage of voxels below 79: 0.40625\n"
     ]
    }
   ],
   "source": [
    "print('percentage of voxels below 79:', sum((np.array(CTV_voxel) < 79)*1) / len(CTV_voxel))"
   ]
  },
  {
   "cell_type": "code",
   "execution_count": 18,
   "metadata": {},
   "outputs": [
    {
     "name": "stdout",
     "output_type": "stream",
     "text": [
      "percentage of voxels Above 86.94: 0.03125\n"
     ]
    }
   ],
   "source": [
    "print('percentage of voxels Above 86.94:', sum((np.array(CTV_voxel) > 82.8*1.05)*1) / len(CTV_voxel))"
   ]
  },
  {
   "cell_type": "markdown",
   "metadata": {},
   "source": [
    "**Bladder Check**"
   ]
  },
  {
   "cell_type": "code",
   "execution_count": 19,
   "metadata": {},
   "outputs": [
    {
     "name": "stdout",
     "output_type": "stream",
     "text": [
      "Bladder Voxel Doses\n",
      " [43.2862 39.8437 38.7974 37.9507 36.7672 38.0749 39.8875 54.1347 47.5704\n",
      " 46.0627 49.5281 52.0841 50.6462 48.4924 46.0552 40.321  60.9597 54.6208\n",
      " 53.3589 59.3382 65.     64.0699 59.3555 53.8123 46.6637 65.     64.0648\n",
      " 68.2992 72.9705 72.8126 69.6349 65.    ]\n"
     ]
    }
   ],
   "source": [
    "# Max dose to a voxel: 81\n",
    "bladder_voxel = []\n",
    "every = 0\n",
    "for i in bladder_index:\n",
    "    every = round(voxels[i].solution_value(),4)\n",
    "    bladder_voxel.append(every)\n",
    "print('Bladder Voxel Doses\\n',np.array(bladder_voxel))"
   ]
  },
  {
   "cell_type": "code",
   "execution_count": 20,
   "metadata": {},
   "outputs": [
    {
     "name": "stdout",
     "output_type": "stream",
     "text": [
      "distances to 81 if voxel value is above 81\n",
      " [[0. 0. 0. 0. 0. 0. 0. 0. 0. 0. 0. 0. 0. 0. 0. 0. 0. 0. 0. 0. 0. 0. 0. 0.\n",
      "  0. 0. 0. 0. 0. 0. 0. 0.]]\n"
     ]
    }
   ],
   "source": [
    "# if any voxel has more than 81\n",
    "zb1 = np.array([[x.solution_value() for x in z_b_1]])\n",
    "print('distances to 81 if voxel value is above 81\\n',zb1)"
   ]
  },
  {
   "cell_type": "code",
   "execution_count": 21,
   "metadata": {},
   "outputs": [
    {
     "name": "stdout",
     "output_type": "stream",
     "text": [
      "are there values more than 81?\n",
      "False\n",
      "how many percentage of voxel values are more than 81?\n",
      "0.0 %\n"
     ]
    }
   ],
   "source": [
    "# check if there are voxel with value more than 81\n",
    "print('are there values more than 81?')\n",
    "print(max(bladder_voxel) > 81)\n",
    "\n",
    "print('how many percentage of voxel values are more than 81?')\n",
    "\n",
    "print(round(sum((np.array(bladder_voxel) >81)*1)/len(bladder_voxel),2)*100,'%')"
   ]
  },
  {
   "cell_type": "code",
   "execution_count": 22,
   "metadata": {},
   "outputs": [
    {
     "name": "stdout",
     "output_type": "stream",
     "text": [
      "average dose received by bladder voxels are  53.26448125\n",
      "slack variable to bring down the value to below 50:  3.26447889318345\n"
     ]
    }
   ],
   "source": [
    "# average dose shouldbe <= 50\n",
    "print('average dose received by bladder voxels are ',sum(bladder_voxel)/len(bladder_voxel))\n",
    "print('slack variable to bring down the value to below 50: ', z_b_2.solution_value())"
   ]
  },
  {
   "cell_type": "code",
   "execution_count": 23,
   "metadata": {},
   "outputs": [
    {
     "name": "stdout",
     "output_type": "stream",
     "text": [
      "voxel that are larger that 65 are indicated by 1 \n",
      " [0. 0. 0. 0. 0. 0. 0. 0. 0. 0. 0. 0. 0. 0. 0. 0. 0. 0. 0. 0. 0. 0. 0. 0.\n",
      " 0. 0. 0. 1. 1. 1. 1. 0.]\n"
     ]
    }
   ],
   "source": [
    "# at most 10% of the bladder should receive a dose > 65\n",
    "y_value = np.array([t.solution_value() for t in y])\n",
    "print('voxel that are larger that 65 are indicated by 1 \\n',y_value)"
   ]
  },
  {
   "cell_type": "code",
   "execution_count": 24,
   "metadata": {},
   "outputs": [
    {
     "name": "stdout",
     "output_type": "stream",
     "text": [
      "0.125  of the voxels are above 65\n"
     ]
    }
   ],
   "source": [
    "test = np.array(list(map(lambda x: 1 if x > 65.00 else 0,bladder_voxel)))\n",
    "print(round(sum(test)/len(test),4), ' of the voxels are above 65')"
   ]
  },
  {
   "cell_type": "code",
   "execution_count": 25,
   "metadata": {},
   "outputs": [
    {
     "name": "stdout",
     "output_type": "stream",
     "text": [
      "voxel that are larger that 65 are indicated by 1 \n",
      " [0 0 0 0 0 0 0 0 0 0 0 0 0 0 0 0 0 0 0 0 0 0 0 0 0 0 0 1 1 1 1 0]\n"
     ]
    }
   ],
   "source": [
    "print('voxel that are larger that 65 are indicated by 1 \\n',test)"
   ]
  },
  {
   "cell_type": "code",
   "execution_count": 26,
   "metadata": {},
   "outputs": [
    {
     "data": {
      "text/plain": [
       "array([ True,  True,  True,  True,  True,  True,  True,  True,  True,\n",
       "        True,  True,  True,  True,  True,  True,  True,  True,  True,\n",
       "        True,  True,  True,  True,  True,  True,  True,  True,  True,\n",
       "        True,  True,  True,  True,  True])"
      ]
     },
     "execution_count": 26,
     "metadata": {},
     "output_type": "execute_result"
    }
   ],
   "source": [
    "y_value == test"
   ]
  },
  {
   "cell_type": "code",
   "execution_count": 27,
   "metadata": {},
   "outputs": [
    {
     "name": "stdout",
     "output_type": "stream",
     "text": [
      "the number of constraints we have to set loose to be above 65 1.0\n"
     ]
    }
   ],
   "source": [
    "print('the number of constraints we have to set loose to be above 65',z_y.solution_value())"
   ]
  },
  {
   "cell_type": "markdown",
   "metadata": {},
   "source": [
    "**Rectal Solid Check**"
   ]
  },
  {
   "cell_type": "code",
   "execution_count": 28,
   "metadata": {},
   "outputs": [
    {
     "name": "stdout",
     "output_type": "stream",
     "text": [
      "rectal voxel dose values\n",
      "[74.97703129 78.76234331 80.74631613 78.69528504 75.59220848 64.40162376\n",
      " 66.29956081 70.26933321 71.44049447 69.21690546 67.89260056 65.5151556\n",
      " 59.09950183 56.59713444 56.06194993 55.72983923 56.28717524 60.51321308\n",
      " 63.04564436 45.09996447 38.93107193 38.19759749 43.3739319  54.07429969]\n"
     ]
    }
   ],
   "source": [
    "# max dose to a voxel: 79.2\n",
    "Rectal_voxel = []\n",
    "every = 0\n",
    "for i in Rectal_index:\n",
    "    every = round(voxels[i].solution_value(),8)\n",
    "    Rectal_voxel.append(every)\n",
    "print('rectal voxel dose values')\n",
    "print(np.array(Rectal_voxel))"
   ]
  },
  {
   "cell_type": "code",
   "execution_count": 29,
   "metadata": {},
   "outputs": [
    {
     "name": "stdout",
     "output_type": "stream",
     "text": [
      "distances to 79.2 if voxel value is above 79.2\n",
      " [[0.         0.         1.54631613 0.         0.         0.\n",
      "  0.         0.         0.         0.         0.         0.\n",
      "  0.         0.         0.         0.         0.         0.\n",
      "  0.         0.         0.         0.         0.         0.        ]]\n"
     ]
    }
   ],
   "source": [
    "zr1 = np.array([[x.solution_value() for x in z_r_1]])\n",
    "print('distances to 79.2 if voxel value is above 79.2\\n',zr1)"
   ]
  },
  {
   "cell_type": "code",
   "execution_count": 30,
   "metadata": {},
   "outputs": [
    {
     "name": "stdout",
     "output_type": "stream",
     "text": [
      "are there values more than 79.2?\n",
      "True\n",
      "how many percentage of voxel values are more than 79.2?\n",
      "4.0 %\n"
     ]
    }
   ],
   "source": [
    "# check if there's value larger than 79.2\n",
    "print('are there values more than 79.2?')\n",
    "print(max(Rectal_voxel) > 79.2)\n",
    "\n",
    "print('how many percentage of voxel values are more than 79.2?')\n",
    "\n",
    "print(round(sum((np.array(Rectal_voxel) >79.2)*1)/len(Rectal_voxel),2)*100,'%')"
   ]
  },
  {
   "cell_type": "code",
   "execution_count": 31,
   "metadata": {},
   "outputs": [
    {
     "name": "stdout",
     "output_type": "stream",
     "text": [
      "average dose received by bladder voxels are  62.11750757125\n",
      "slack variable to bring down the value to below 40:  22.117507570425275\n"
     ]
    }
   ],
   "source": [
    "# average dose should be <= 40\n",
    "print('average dose received by bladder voxels are ',sum(Rectal_voxel)/len(Rectal_voxel))\n",
    "print('slack variable to bring down the value to below 40: ',z_r_2.solution_value())"
   ]
  },
  {
   "cell_type": "markdown",
   "metadata": {},
   "source": [
    "**Unspecified**"
   ]
  },
  {
   "cell_type": "code",
   "execution_count": 32,
   "metadata": {},
   "outputs": [
    {
     "data": {
      "text/plain": [
       "array([79.662, 63.928, 51.484, 44.191, 38.928, 31.449, 22.011, 16.071,\n",
       "       16.483, 18.405, 17.828, 18.133, 20.84 , 21.995, 20.432, 18.471,\n",
       "       17.416, 18.037, 21.937, 29.673, 84.737, 72.81 , 59.233, 49.514,\n",
       "       44.524, 39.422, 31.063, 23.418, 20.812, 20.715, 20.298, 22.345,\n",
       "       26.68 , 27.886, 24.715, 20.914, 19.664, 22.434, 29.07 , 36.53 ,\n",
       "       82.085, 77.301, 67.086, 56.297, 49.2  , 44.532, 38.532, 32.135,\n",
       "       28.543, 26.922, 26.273, 29.079, 33.425, 32.97 , 27.579, 23.11 ,\n",
       "       23.612, 28.808, 35.077, 37.395, 71.892, 74.841, 71.068, 63.28 ,\n",
       "       55.178, 48.619, 36.651, 30.016, 26.769, 29.318, 34.025, 35.449,\n",
       "       30.725, 68.815, 66.899, 61.541, 33.931, 33.915, 28.868, 65.044,\n",
       "       65.329, 18.648, 58.01 , 65.175, 67.3  , 56.915,  9.511, 47.662,\n",
       "       62.227, 72.391, 68.513,  3.922, 37.741, 58.729,  1.759, 33.156,\n",
       "       56.925,  2.3  , 36.498, 57.826, 75.083, 69.696,  5.716,  2.171,\n",
       "       30.16 , 45.411, 60.083, 69.648, 72.958, 71.125, 61.761, 49.922,\n",
       "       21.846, 12.784,  6.097, 18.668, 31.239, 43.968, 54.357, 61.378,\n",
       "       64.24 , 56.833, 45.926, 39.808, 36.953, 31.836, 23.142, 13.742,\n",
       "       34.064, 46.91 , 55.28 , 59.208, 61.299, 61.577, 55.675, 43.068,\n",
       "       36.256, 36.788, 37.794, 33.75 , 24.839, 51.293, 59.378, 60.837,\n",
       "       60.158, 61.361, 61.173, 54.686, 61.712, 56.243, 42.18 , 32.493,\n",
       "       32.329, 37.208, 39.906, 36.128, 64.97 , 65.376, 61.604, 59.998,\n",
       "       61.678, 59.317, 47.552, 32.655, 23.882, 23.899, 32.579, 48.097,\n",
       "       59.847, 56.438, 42.199, 30.356, 27.353, 31.831, 38.917, 42.54 ,\n",
       "       71.505, 66.014, 60.908, 59.596, 59.405, 52.871, 37.58 , 21.822,\n",
       "       13.993, 15.086, 24.908, 42.487, 56.861, 55.313, 41.714, 29.298,\n",
       "       24.13 , 25.777, 32.634, 41.15 , 72.086, 64.921, 59.795, 56.245,\n",
       "       51.986, 42.799, 27.953, 14.615,  9.018, 10.918, 20.536, 38.159,\n",
       "       53.357, 52.843, 40.003, 28.007, 22.314, 21.661, 25.517, 33.917,\n",
       "       70.661, 63.261, 55.436, 47.417, 40.832, 33.06 , 21.501, 11.056,\n",
       "        7.061,  9.393, 18.793, 36.006, 50.734, 49.812, 37.042, 25.694,\n",
       "       20.59 , 19.316, 20.546, 25.686, 68.518, 58.045, 45.246, 34.77 ,\n",
       "       30.233, 26.744, 18.633,  9.878,  6.446,  8.967, 18.615, 35.984,\n",
       "       50.064, 47.568, 33.53 , 22.246, 18.07 , 17.404, 17.731, 19.831])"
      ]
     },
     "execution_count": 32,
     "metadata": {},
     "output_type": "execute_result"
    }
   ],
   "source": [
    "# Max dose to a voxel: 72\n",
    "Un_voxel = []\n",
    "every = 0\n",
    "for i in Un_index:\n",
    "    every = round(voxels[i].solution_value(),3)\n",
    "    Un_voxel.append(every)\n",
    "np.array(Un_voxel)"
   ]
  },
  {
   "cell_type": "code",
   "execution_count": 33,
   "metadata": {},
   "outputs": [
    {
     "name": "stdout",
     "output_type": "stream",
     "text": [
      "Are there voxel values more than 72?\n"
     ]
    },
    {
     "data": {
      "text/plain": [
       "True"
      ]
     },
     "execution_count": 33,
     "metadata": {},
     "output_type": "execute_result"
    }
   ],
   "source": [
    "print('Are there voxel values more than 72?')\n",
    "max(Un_voxel) > 72"
   ]
  },
  {
   "cell_type": "code",
   "execution_count": 34,
   "metadata": {},
   "outputs": [
    {
     "name": "stdout",
     "output_type": "stream",
     "text": [
      "how many percentage of voxel values are more than 72?\n",
      "4.0 %\n"
     ]
    }
   ],
   "source": [
    "print('how many percentage of voxel values are more than 72?')\n",
    "\n",
    "print(round(sum((np.array(Un_voxel) >72)*1)/len(Un_voxel),2)*100,'%')"
   ]
  },
  {
   "cell_type": "markdown",
   "metadata": {},
   "source": [
    "**Left Femur Head**"
   ]
  },
  {
   "cell_type": "code",
   "execution_count": 35,
   "metadata": {},
   "outputs": [
    {
     "name": "stdout",
     "output_type": "stream",
     "text": [
      "left femur head voxel values\n"
     ]
    },
    {
     "data": {
      "text/plain": [
       "array([32.06, 33.84, 40.  , 36.38, 33.37, 27.39, 46.52, 36.66, 27.22,\n",
       "       17.7 , 51.17, 33.22, 19.08,  9.48, 53.39, 30.19, 14.13,  5.5 ,\n",
       "       53.96, 31.37, 15.44,  6.5 , 52.94, 36.07, 22.43, 12.33, 40.  ,\n",
       "       31.27])"
      ]
     },
     "execution_count": 35,
     "metadata": {},
     "output_type": "execute_result"
    }
   ],
   "source": [
    "# max dose to be voxel 50\n",
    "Left_voxel = []\n",
    "every = 0\n",
    "for i in Left_index:\n",
    "    every = round(voxels[i].solution_value(),2)\n",
    "    Left_voxel.append(every)\n",
    "print('left femur head voxel values')\n",
    "np.array(Left_voxel)"
   ]
  },
  {
   "cell_type": "code",
   "execution_count": 36,
   "metadata": {},
   "outputs": [
    {
     "name": "stdout",
     "output_type": "stream",
     "text": [
      "distances to 79.2 if voxel value is above 50\n",
      " [[0.         0.         0.         0.         0.         0.\n",
      "  0.         0.         0.         0.         1.17017694 0.\n",
      "  0.         0.         3.38680897 0.         0.         0.\n",
      "  3.95957661 0.         0.         0.         2.9430803  0.\n",
      "  0.         0.         0.         0.        ]]\n"
     ]
    }
   ],
   "source": [
    "zl1 = np.array([[x.solution_value() for x in z_l_1]])\n",
    "print('distances to 79.2 if voxel value is above 50\\n',zl1)"
   ]
  },
  {
   "cell_type": "code",
   "execution_count": 37,
   "metadata": {},
   "outputs": [
    {
     "name": "stdout",
     "output_type": "stream",
     "text": [
      "are there values more than 50?\n",
      "True\n",
      "how many percentage of voxel values are more than 50?\n",
      "14.000000000000002 %\n"
     ]
    }
   ],
   "source": [
    "print('are there values more than 50?')\n",
    "print(max(Left_voxel) > 50)\n",
    "\n",
    "print('how many percentage of voxel values are more than 50?')\n",
    "\n",
    "print(round(sum((np.array(Left_voxel) >50)*1)/len(Left_voxel),2)*100,'%')"
   ]
  },
  {
   "cell_type": "code",
   "execution_count": 38,
   "metadata": {},
   "outputs": [
    {
     "name": "stdout",
     "output_type": "stream",
     "text": [
      "voxel that are larger that 40 are indicated by 1 \n",
      " [0. 0. 0. 0. 0. 0. 1. 0. 0. 0. 1. 0. 0. 0. 1. 0. 0. 0. 1. 0. 0. 0. 1. 0.\n",
      " 0. 0. 0. 0.]\n"
     ]
    }
   ],
   "source": [
    "# at most 15% of the left femur head should receive > 40\n",
    "y_left_value = np.array([t.solution_value() for t in y_left])\n",
    "print('voxel that are larger that 40 are indicated by 1 \\n',y_left_value)"
   ]
  },
  {
   "cell_type": "code",
   "execution_count": 39,
   "metadata": {},
   "outputs": [
    {
     "name": "stdout",
     "output_type": "stream",
     "text": [
      "0.1786  of the left femur voxels are above 40\n"
     ]
    }
   ],
   "source": [
    "test_left_femur = np.array(list(map(lambda x: 1 if x >40.00 else 0,Left_voxel)))\n",
    "print(round(sum(test_left_femur)/len(test_left_femur),4), ' of the left femur voxels are above 40')"
   ]
  },
  {
   "cell_type": "code",
   "execution_count": 40,
   "metadata": {},
   "outputs": [
    {
     "name": "stdout",
     "output_type": "stream",
     "text": [
      "voxel that are larger that 40 are indicated by 1 \n",
      " [0 0 0 0 0 0 1 0 0 0 1 0 0 0 1 0 0 0 1 0 0 0 1 0 0 0 0 0]\n"
     ]
    }
   ],
   "source": [
    "print('voxel that are larger that 40 are indicated by 1 \\n',test_left_femur)"
   ]
  },
  {
   "cell_type": "code",
   "execution_count": 41,
   "metadata": {},
   "outputs": [
    {
     "data": {
      "text/plain": [
       "array([ True,  True,  True,  True,  True,  True,  True,  True,  True,\n",
       "        True,  True,  True,  True,  True,  True,  True,  True,  True,\n",
       "        True,  True,  True,  True,  True,  True,  True,  True,  True,\n",
       "        True])"
      ]
     },
     "execution_count": 41,
     "metadata": {},
     "output_type": "execute_result"
    }
   ],
   "source": [
    "test_left_femur == y_left_value"
   ]
  },
  {
   "cell_type": "code",
   "execution_count": 42,
   "metadata": {},
   "outputs": [
    {
     "name": "stdout",
     "output_type": "stream",
     "text": [
      "the number of constraints we have to set loose to be above 40 1.0\n"
     ]
    }
   ],
   "source": [
    "print('the number of constraints we have to set loose to be above 40',z_y_left.solution_value())"
   ]
  },
  {
   "cell_type": "markdown",
   "metadata": {},
   "source": [
    "**Right Femur Head**"
   ]
  },
  {
   "cell_type": "code",
   "execution_count": 43,
   "metadata": {},
   "outputs": [
    {
     "name": "stdout",
     "output_type": "stream",
     "text": [
      "right femur head voxel values\n"
     ]
    },
    {
     "data": {
      "text/plain": [
       "array([55.76, 65.56, 19.97, 36.97, 50.89, 60.42, 10.21, 20.22, 33.82,\n",
       "       47.24,  4.1 ,  8.93, 18.73, 32.28,  1.31,  3.31,  9.04, 20.24,\n",
       "        0.45,  1.72,  5.72, 15.35,  0.67,  3.18,  8.53, 19.19,  8.36,\n",
       "       17.35])"
      ]
     },
     "execution_count": 43,
     "metadata": {},
     "output_type": "execute_result"
    }
   ],
   "source": [
    "# max dose to a voxel: 50 \n",
    "Right_voxel = []\n",
    "every = 0\n",
    "for i in Right_index:\n",
    "    every = round(voxels[i].solution_value(),2)\n",
    "    Right_voxel.append(every)\n",
    "print(\"right femur head voxel values\")\n",
    "np.array(Right_voxel)"
   ]
  },
  {
   "cell_type": "code",
   "execution_count": 44,
   "metadata": {},
   "outputs": [
    {
     "name": "stdout",
     "output_type": "stream",
     "text": [
      "distances to 79.2 if voxel value is above 50\n",
      " [[ 5.762998   15.55636267  0.          0.          0.8860241  10.41823422\n",
      "   0.          0.          0.          0.          0.          0.\n",
      "   0.          0.          0.          0.          0.          0.\n",
      "   0.          0.          0.          0.          0.          0.\n",
      "   0.          0.          0.          0.        ]]\n"
     ]
    }
   ],
   "source": [
    "# slack variable needed to fullfill the constraints\n",
    "zrl1 = np.array([[x.solution_value() for x in z_rl_1]])\n",
    "print('distances to 79.2 if voxel value is above 50\\n',zrl1)"
   ]
  },
  {
   "cell_type": "code",
   "execution_count": 45,
   "metadata": {},
   "outputs": [
    {
     "name": "stdout",
     "output_type": "stream",
     "text": [
      "are there values more than 50?\n",
      "True\n",
      "how many percentage of voxel values are more than 50?\n",
      "14.000000000000002 %\n"
     ]
    }
   ],
   "source": [
    "# check if there's any right voxel value that is bigger than 50\n",
    "print('are there values more than 50?')\n",
    "print(max(Right_voxel) > 50)\n",
    "\n",
    "print('how many percentage of voxel values are more than 50?')\n",
    "\n",
    "print(round(sum((np.array(Right_voxel) >50)*1)/len(Right_voxel),2)*100,'%')"
   ]
  },
  {
   "cell_type": "code",
   "execution_count": 46,
   "metadata": {},
   "outputs": [
    {
     "name": "stdout",
     "output_type": "stream",
     "text": [
      "voxel that are larger that 40 are indicated by 1 \n",
      " [1. 1. 0. 0. 1. 1. 0. 0. 0. 1. 0. 0. 0. 0. 0. 0. 0. 0. 0. 0. 0. 0. 0. 0.\n",
      " 0. 0. 0. 0.]\n"
     ]
    }
   ],
   "source": [
    "# at most 15% of the right  femur head should receive > 40\n",
    "y_right_value = np.array([t.solution_value() for t in y_right])\n",
    "print('voxel that are larger that 40 are indicated by 1 \\n',y_right_value)"
   ]
  },
  {
   "cell_type": "code",
   "execution_count": 47,
   "metadata": {},
   "outputs": [
    {
     "name": "stdout",
     "output_type": "stream",
     "text": [
      "0.1786  of the right femur voxels are above 40\n"
     ]
    }
   ],
   "source": [
    "test_right = np.array(list(map(lambda x: 1 if x > 40.00 else 0,Right_voxel)))\n",
    "print(round(sum(test_right)/len(test_right),4), ' of the right femur voxels are above 40')"
   ]
  },
  {
   "cell_type": "code",
   "execution_count": 48,
   "metadata": {},
   "outputs": [
    {
     "name": "stdout",
     "output_type": "stream",
     "text": [
      "voxel that are larger that 40 are indicated by 1 \n",
      " [1 1 0 0 1 1 0 0 0 1 0 0 0 0 0 0 0 0 0 0 0 0 0 0 0 0 0 0]\n"
     ]
    }
   ],
   "source": [
    "print('voxel that are larger that 40 are indicated by 1 \\n',test_right)"
   ]
  },
  {
   "cell_type": "code",
   "execution_count": 49,
   "metadata": {},
   "outputs": [
    {
     "data": {
      "text/plain": [
       "array([ True,  True,  True,  True,  True,  True,  True,  True,  True,\n",
       "        True,  True,  True,  True,  True,  True,  True,  True,  True,\n",
       "        True,  True,  True,  True,  True,  True,  True,  True,  True,\n",
       "        True])"
      ]
     },
     "execution_count": 49,
     "metadata": {},
     "output_type": "execute_result"
    }
   ],
   "source": [
    "test_right == y_right_value"
   ]
  },
  {
   "cell_type": "code",
   "execution_count": 50,
   "metadata": {},
   "outputs": [
    {
     "name": "stdout",
     "output_type": "stream",
     "text": [
      "the number of constraints we have to set loose to be above 40 1.0\n"
     ]
    }
   ],
   "source": [
    "print('the number of constraints we have to set loose to be above 40',z_y_right.solution_value())"
   ]
  },
  {
   "cell_type": "code",
   "execution_count": null,
   "metadata": {},
   "outputs": [],
   "source": []
  },
  {
   "cell_type": "code",
   "execution_count": null,
   "metadata": {},
   "outputs": [],
   "source": []
  }
 ],
 "metadata": {
  "kernelspec": {
   "display_name": "Python 3",
   "language": "python",
   "name": "python3"
  },
  "language_info": {
   "codemirror_mode": {
    "name": "ipython",
    "version": 3
   },
   "file_extension": ".py",
   "mimetype": "text/x-python",
   "name": "python",
   "nbconvert_exporter": "python",
   "pygments_lexer": "ipython3",
   "version": "3.8.3"
  }
 },
 "nbformat": 4,
 "nbformat_minor": 4
}
