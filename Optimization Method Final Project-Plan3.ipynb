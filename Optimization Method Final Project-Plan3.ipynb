{
 "cells": [
  {
   "cell_type": "code",
   "execution_count": 1,
   "metadata": {},
   "outputs": [],
   "source": [
    "from ortools.linear_solver import pywraplp\n",
    "from ortools.linear_solver import pywraplp\n",
    "import numpy as np\n",
    "from itertools import combinations\n",
    "import pandas as pd\n",
    "import numpy as np"
   ]
  },
  {
   "cell_type": "code",
   "execution_count": 2,
   "metadata": {},
   "outputs": [],
   "source": [
    "dose_matrix = pd.read_csv('DoseMatrix.csv')"
   ]
  },
  {
   "cell_type": "code",
   "execution_count": 3,
   "metadata": {},
   "outputs": [],
   "source": [
    "dose_matrix =np.array(dose_matrix)"
   ]
  },
  {
   "cell_type": "code",
   "execution_count": 4,
   "metadata": {},
   "outputs": [],
   "source": [
    "CTV_index=[167, 168, 169, 170, 171, 172, 173,\n",
    "      186, 187, 188, 189, 190, 191, 192, 193, 194,\n",
    "      206, 207, 208, 209, 210, 211, 212, 213, 214, \n",
    "           227, 228, 229, 230, 231, 232, 233]\n",
    "\n",
    "bladder_index=[87, 88, 89, 90, 91, 92, 93, \n",
    "         106, 107, 108, 109, 110, 111, 112, 113, 114, \n",
    "         126, 127, 128, 129, 130, 131, 132, 133, 134, \n",
    "             147, 148, 149, 150, 151, 152, 153]\n",
    "\n",
    "Rectal_index=[248, 249, 250, 251, 252, \n",
    "        267, 268, 269, 270, 271, 272, 273, \n",
    "        287, 288, 289, 290, 291, 292, 293, \n",
    "              308, 309, 310, 311, 312]\n",
    "\n",
    "Un_index=[0, 1, 2, 3, 4, 5, 6, 7, 8, 9, 10, 11, 12, 13, 14, 15, 16, 17, 18, 19, 20, \n",
    "             21, 22, 23, 24, 25, 26, 27, 28, 29, 30, 31, 32, 33, 34, 35, 36, 37, 38, 39, 40, \n",
    "             41, 42, 43, 44, 45, 46, 47, 48, 49, 50, 51, 52, 53, 54, 55, 56, 57, 58, 59, 60, \n",
    "             61, 62, 63, 64, 65, 66, 67, 68, 69, 70, 71, 72, 73, 74, 75, 76, 77, 78, 79, 80, \n",
    "             81, 82, 83, 84, 85, 86, 94, 95, 96, 97, 98, 99, 100, 101, 104, 105, 115, 118, 119, 120,\n",
    "             125, 139, 140, 145, 146, 154, 159, 160, 165, 166, 174, 179, 180, 185, 199, 200, 205, 219, 220, \n",
    "             225, 226, 234, 239, 240, 241, 244, 245, 246, 247, 253, 254, 255, 258, 259, 260, 261, 262, 263, \n",
    "             264, 265, 266, 274, 275, 276, 277, 278, 279, 280, 281, 282, 283, 284, 285, 286, 294, 295, 296, \n",
    "             297, 298, 299, 300, 301, 302, 303, 304, 305, 306, 307, 313, 314, 315, 316, 317, 318, 319, 320, \n",
    "             321, 322, 323, 324, 325, 326, 327, 328, 329, 330, 331, 332, 333, 334, 335, 336, 337, 338, 339, \n",
    "             340, 341, 342, 343, 344, 345, 346, 347, 348, 349, 350, 351, 352, 353, 354, 355, 356, 357, 358, \n",
    "             359, 360, 361, 362, 363, 364, 365, 366, 367, 368, 369, 370, 371, 372, 373, 374, 375, 376, 377, \n",
    "             378, 379, 380, 381, 382, 383, 384, 385, 386, 387, 388, 389, 390, 391, 392, 393, 394, 395, 396, \n",
    "             397, 398, 399]\n",
    "\n",
    "Left_index=[116, 117, \n",
    "       135, 136, 137, 138, \n",
    "       155, 156, 157, 158, \n",
    "       175, 176, 177, 178,\n",
    "       195, 196, 197, 198, \n",
    "       215, 216, 217, 218, \n",
    "       235, 236, 237, 238, \n",
    "            256, 257]\n",
    "\n",
    "Right_index=[101, 102, \n",
    "        120, 121, 122, 123, \n",
    "        140, 141, 142, 143, \n",
    "        160, 161, 162, 163, \n",
    "        180, 181, 182, 183, \n",
    "        200, 201, 202, 203, \n",
    "        220, 221, 222, 223, \n",
    "             241, 242]"
   ]
  },
  {
   "cell_type": "code",
   "execution_count": 5,
   "metadata": {},
   "outputs": [
    {
     "data": {
      "text/plain": [
       "400"
      ]
     },
     "execution_count": 5,
     "metadata": {},
     "output_type": "execute_result"
    }
   ],
   "source": [
    "len(CTV_index)+len(bladder_index)+len(Rectal_index)+len(Un_index)+len(Left_index)+len(Right_index)"
   ]
  },
  {
   "cell_type": "code",
   "execution_count": 6,
   "metadata": {},
   "outputs": [
    {
     "name": "stdout",
     "output_type": "stream",
     "text": [
      "Problem solved in 37851.000000 milliseconds\n",
      "weighted slack total 1751086.3214159876\n"
     ]
    }
   ],
   "source": [
    "solver = pywraplp.Solver('Final Project',\n",
    "                         pywraplp.Solver.CBC_MIXED_INTEGER_PROGRAMMING)\n",
    "objective=solver.Objective() \n",
    "objective.SetMinimization()\n",
    "\n",
    "# Decision Variables\n",
    "beamlets = []\n",
    "for i in range(60):\n",
    "    beamlets.append(solver.NumVar(0,solver.infinity(), 'beamlets[%d]' % i))\n",
    "voxels = []    \n",
    "for i in range(400):\n",
    "    voxels.append(solver.NumVar(0,solver.infinity(),'voxels[%d]' % i))\n",
    "\n",
    "    \n",
    "#Constraints\n",
    "voxel_constraints = [0 for _ in range(400)]\n",
    "for i in range(400):\n",
    "    voxel_constraints[i] = solver.Constraint(0,0)\n",
    "    for j in range(60):\n",
    "        voxel_constraints[i].SetCoefficient(beamlets[j],dose_matrix[i,j+1])\n",
    "    voxel_constraints[i].SetCoefficient(voxels[i], -1)\n",
    "        \n",
    "######################################################## CTV#################################################\n",
    "\n",
    "# every voxel receives a uniform dose of 82.8       ( = 82.8)\n",
    "z_p = [0 for _ in range(len(CTV_index))]\n",
    "z_n = [0 for _ in range(len(CTV_index))]\n",
    "\n",
    "for i in range(len(CTV_index)):\n",
    "    z_p[i] = solver.NumVar(0, solver.infinity(), \"Z plus CTV %d\" %i)\n",
    "    z_n[i] = solver.NumVar(0, solver.infinity(), \"Z minus CTV %d\" %i)\n",
    "     \n",
    "CTV_constraint = [0 for _ in range(len(CTV_index))]\n",
    "for i in range(len(CTV_index)):\n",
    "    CTV_constraint[i] = solver.Constraint(82.8,82.8)\n",
    "    \n",
    "    for j in range(60):\n",
    "        CTV_constraint[i].SetCoefficient(beamlets[j],dose_matrix[CTV_index[i],j+1])\n",
    "    CTV_constraint[i].SetCoefficient(z_p[i],1)\n",
    "    CTV_constraint[i].SetCoefficient(z_n[i],-1)\n",
    "\n",
    "CTV_constraint_2 = [[0 for _ in range(len(CTV_index))]for _ in range(len(CTV_index))]\n",
    "for i in range(len(CTV_index)):\n",
    "    for j in range(len(CTV_index)):\n",
    "        CTV_constraint_2[i][j] = solver.Constraint(0, 0.08*82.8)\n",
    "        CTV_constraint_2[i][j].SetCoefficient(z_p[i],1)\n",
    "        CTV_constraint_2[i][j].SetCoefficient(z_n[j],1.08)\n",
    "        \n",
    "        \n",
    "    \n",
    "############################################ bladder ####################################################\n",
    "\n",
    "# # max dose to a voxel 81 ( < = 81)\n",
    "z_b_1 = [0 for _ in range(len(bladder_index))]\n",
    "\n",
    "for i in range(len(bladder_index)):\n",
    "    z_b_1[i] = solver.NumVar(0, solver.infinity(), \"z bladder #1 %d\" %i)\n",
    "    \n",
    "\n",
    "bladder_constraint_1 = [0 for _ in range(len(bladder_index))]\n",
    "for i in range(len(bladder_index)):\n",
    "    bladder_constraint_1[i] = solver.Constraint(-solver.infinity(),81)\n",
    "    for j in range(60):\n",
    "        bladder_constraint_1[i].SetCoefficient(beamlets[j],dose_matrix[bladder_index[i],j+1])\n",
    "    bladder_constraint_1[i].SetCoefficient(z_b_1[i],-1)\n",
    "\n",
    "\n",
    "# Average dose should be <= 50     ( <= 50)\n",
    "\n",
    "z_b_2 = solver.NumVar(0, solver.infinity(), \"z bladder #2 %d\" %i)\n",
    "bladder_constraint_2 = solver.Constraint(-solver.infinity(), 50)\n",
    "bladder_constraint_2.SetCoefficient(z_b_2, -1)\n",
    "\n",
    "for i in bladder_index:\n",
    "    bladder_constraint_2.SetCoefficient(voxels[i],1/len(bladder_index))\n",
    "\n",
    "        \n",
    "    \n",
    "# at most 10% of the bladder should receive a dose >65          ( >65)\n",
    "y = [0 for _ in range(len(bladder_index))]\n",
    "z_y = solver.IntVar(0,1, \"z y constraint bladder\")\n",
    "\n",
    "for i in range(len(bladder_index)):\n",
    "     y[i] = solver.IntVar(0,1,\"y bladder %d\" %i)\n",
    "\n",
    "bladder_constraint_3 = [0 for _ in range(len(bladder_index))]\n",
    "for i in range(len(bladder_index)):\n",
    "    bladder_constraint_3[i] = solver.Constraint(-solver.infinity(),65)\n",
    "    for j in range(60):\n",
    "        bladder_constraint_3[i].SetCoefficient(beamlets[j],dose_matrix[bladder_index[i],j+1])\n",
    "    bladder_constraint_3[i].SetCoefficient(y[i],-100)\n",
    "\n",
    "bladder_constraint_3b = solver.Constraint(-solver.infinity(),0.1*len(bladder_index))\n",
    "for j in range(len(bladder_index)):\n",
    "     bladder_constraint_3b.SetCoefficient(y[j],1)\n",
    "bladder_constraint_3b.SetCoefficient(z_y, -1)\n",
    "\n",
    "        \n",
    "        \n",
    "\n",
    "        \n",
    "# ####################### Rectal########################################\n",
    "\n",
    "#max dose to a voxel: 79.2              ( < = 79.2)\n",
    "\n",
    "z_r_1 = [0 for _ in range(len(Rectal_index))]\n",
    "\n",
    "for i in range(len(Rectal_index)):\n",
    "    z_r_1[i] = solver.NumVar(0, solver.infinity(), \"z rectal #1 %d\" %i)\n",
    "    \n",
    "\n",
    "Rectal_constraint_1 = [0 for _ in range(len(Rectal_index))]\n",
    "for i in range(len(Rectal_index)):\n",
    "    Rectal_constraint_1[i] = solver.Constraint(-solver.infinity(),79.2)\n",
    "    for j in range(60):\n",
    "        Rectal_constraint_1[i].SetCoefficient(beamlets[j],dose_matrix[Rectal_index[i],j+1])\n",
    "    Rectal_constraint_1[i].SetCoefficient(z_r_1[i],-1)\n",
    "\n",
    "    \n",
    "    \n",
    "# #average dose should be <= 40\n",
    "\n",
    "z_r_2 = solver.NumVar(0, solver.infinity(), \"z rectal #2 %d\" %i)\n",
    "Rectal_constraint_2 = solver.Constraint(-solver.infinity(), 40)\n",
    "Rectal_constraint_2.SetCoefficient(z_r_2, -1.0)\n",
    "\n",
    "for i in Rectal_index:\n",
    "    Rectal_constraint_2.SetCoefficient(voxels[i],1/len(Rectal_index))\n",
    "\n",
    "\n",
    "\n",
    "# ############################## Unspecified ############################\n",
    "\n",
    "# max dose to a voxel: 72         ( < =72)\n",
    "\n",
    "z_u_1 = [0 for _ in range(len(Un_index))]\n",
    "\n",
    "for i in range(len(Un_index)):\n",
    "    z_u_1[i] = solver.NumVar(0, solver.infinity(), \"z Unspecified #1 %d\" %i)\n",
    "    \n",
    "\n",
    "Un_constraint_1 = [0 for _ in range(len(Un_index))]\n",
    "for i in range(len(Un_index)):\n",
    "    Un_constraint_1[i] = solver.Constraint(-solver.infinity(),72)\n",
    "    for j in range(60):\n",
    "        Un_constraint_1[i].SetCoefficient(beamlets[j],dose_matrix[Un_index[i],j+1])\n",
    "    Un_constraint_1[i].SetCoefficient(z_u_1[i],-1)\n",
    "\n",
    "\n",
    "#############################Left femur head ##########################\n",
    "\n",
    "#max dose to a voxel: 50            ( <= 50)\n",
    "  \n",
    "z_l_1 = [0 for _ in range(len(Left_index))]\n",
    "\n",
    "for i in range(len(Left_index)):\n",
    "    z_l_1[i] = solver.NumVar(0, solver.infinity(), \"z left femur #1 %d\" %i)\n",
    "    \n",
    "\n",
    "left_constraint_1 = [0 for _ in range(len(Left_index))]\n",
    "for i in range(len(Left_index)):\n",
    "    left_constraint_1[i] = solver.Constraint(-solver.infinity(),50)\n",
    "    for j in range(60):\n",
    "        left_constraint_1[i].SetCoefficient(beamlets[j],dose_matrix[Left_index[i],j+1])\n",
    "    left_constraint_1[i].SetCoefficient(z_l_1[i],-1)    \n",
    "        \n",
    "\n",
    "        \n",
    "# at most 10% of the left femur should receive a dose > 40 \n",
    "y_left = [0 for _ in range(len(Left_index))]\n",
    "z_y_left = solver.IntVar(0,2, \"z y constraint left femur\")\n",
    "\n",
    "for i in range(len(Left_index)):\n",
    "     y_left[i] = solver.IntVar(0,1,\"y left femur %d\" %i)\n",
    "\n",
    "Left_constraint_3 = [0 for _ in range(len(Left_index))]\n",
    "for i in range(len(Left_index)):\n",
    "    Left_constraint_3[i] = solver.Constraint(-solver.infinity(),40)\n",
    "    for j in range(60):\n",
    "        Left_constraint_3[i].SetCoefficient(beamlets[j],dose_matrix[Left_index[i],j+1])\n",
    "    Left_constraint_3[i].SetCoefficient(y_left[i],-100)\n",
    "\n",
    "Left_constraint_3b = solver.Constraint(-solver.infinity(),0.15*len(Left_index))\n",
    "for j in range(len(Left_index)):\n",
    "     Left_constraint_3b.SetCoefficient(y_left[j],1)\n",
    "Left_constraint_3b.SetCoefficient(z_y_left,-1)\n",
    "\n",
    "\n",
    "############################# right femur head ##########################\n",
    "\n",
    "\n",
    "#max dose to a voxel: 50               ( <= 50 )\n",
    "z_rl_1 = [0 for _ in range(len(Right_index))]\n",
    "\n",
    "for i in range(len(Right_index)):\n",
    "    z_rl_1[i] = solver.NumVar(0, solver.infinity(), \"z right femur #1 %d\" %i)\n",
    "    \n",
    "\n",
    "Right_constraint_1 = [0 for _ in range(len(Right_index))]\n",
    "for i in range(len(Right_index)):\n",
    "    Right_constraint_1[i] = solver.Constraint(-solver.infinity(),50)\n",
    "    for j in range(60):\n",
    "        Right_constraint_1[i].SetCoefficient(beamlets[j],dose_matrix[Right_index[i],j+1])\n",
    "    Right_constraint_1[i].SetCoefficient(z_rl_1[i],-1)    \n",
    "        \n",
    "\n",
    "        \n",
    "# at most 10% of the right femur should receive a dose > 40 \n",
    "y_right = [0 for _ in range(len(Right_index))]\n",
    "z_y_right = solver.IntVar(0,2, \"z y constraint right femur\")\n",
    "\n",
    "for i in range(len(Right_index)):\n",
    "     y_right[i] = solver.IntVar(0,1,\"y right femur %d\" %i)\n",
    "\n",
    "Right_constraint_3 = [0 for _ in range(len(Right_index))]\n",
    "for i in range(len(Right_index)):\n",
    "    \n",
    "    # <= 40\n",
    "    Right_constraint_3[i] = solver.Constraint(-solver.infinity(),40)\n",
    "    for j in range(60):\n",
    "        Right_constraint_3[i].SetCoefficient(beamlets[j],dose_matrix[Right_index[i],j+1])\n",
    "    # Big M constraint\n",
    "    Right_constraint_3[i].SetCoefficient(y_right[i],-100)\n",
    "\n",
    "Right_constraint_3b = solver.Constraint(-solver.infinity(),0.15*len(Right_index))\n",
    "for j in range(len(Right_index)):\n",
    "     Right_constraint_3b.SetCoefficient(y_right[j],1)\n",
    "Right_constraint_3b.SetCoefficient(z_y_right, -1)\n",
    "        \n",
    "        \n",
    "########################## Objective Function ###########################\n",
    "\n",
    "# CTV\n",
    "for i in range(len(z_p)):\n",
    "    objective.SetCoefficient(z_p[i],20000)\n",
    "    objective.SetCoefficient(z_n[i],20000)\n",
    "\n",
    "# Bladders\n",
    "for i in range(len(z_b_1)):\n",
    "    objective.SetCoefficient(z_b_1[i],1)\n",
    "\n",
    "objective.SetCoefficient(z_b_2,1)\n",
    "\n",
    "# Rectal Solids\n",
    "for i in range(len(z_r_1)):\n",
    "    objective.SetCoefficient(z_r_1[i],1000)\n",
    "    \n",
    "objective.SetCoefficient(z_r_2,1)\n",
    "\n",
    "#Unspecified\n",
    "for i in range(len(z_u_1)):\n",
    "    objective.SetCoefficient(z_u_1[i],1)\n",
    "\n",
    "# left femur head\n",
    "for i in range(len(z_l_1)):\n",
    "    objective.SetCoefficient(z_l_1[i],1000)\n",
    "\n",
    "#right femur head\n",
    "for i in range(len(z_rl_1)):\n",
    "    objective.SetCoefficient(z_rl_1[i],1)\n",
    "\n",
    "# bladder, left femur, right femur's at most constraint\n",
    "objective.SetCoefficient(z_y,1)\n",
    "objective.SetCoefficient(z_y_left,1)\n",
    "objective.SetCoefficient(z_y_right,1)\n",
    "\n",
    "status = solver.Solve()\n",
    "\n",
    "if status == solver.OPTIMAL:\n",
    "    print('Problem solved in %f milliseconds' %solver.wall_time())\n",
    "elif status == solver.FEASIBLE:\n",
    "    print('Solver claims feasibility but not optimality')\n",
    "else:\n",
    "    print('Solver ran to completion but did not find an optimal solution')\n",
    "\n",
    "print('weighted slack total',objective.Value()) \n",
    "\n",
    "\n",
    "#print(bladder_constraint_2.dual_value())\n",
    "\n",
    "#print(solver.ExportModelAsLpFormat(False).replace('\\\\', '').replace(',_', ','), sep='\\n')"
   ]
  },
  {
   "cell_type": "code",
   "execution_count": 7,
   "metadata": {},
   "outputs": [
    {
     "name": "stdout",
     "output_type": "stream",
     "text": [
      "0.0\n"
     ]
    }
   ],
   "source": [
    "print(bladder_constraint_2.dual_value())"
   ]
  },
  {
   "cell_type": "code",
   "execution_count": 8,
   "metadata": {},
   "outputs": [],
   "source": [
    "#print(solver.ExportModelAsLpFormat(False).replace('\\\\', '').replace(',_', ','), sep='\\n')"
   ]
  },
  {
   "cell_type": "markdown",
   "metadata": {},
   "source": [
    "## All Voxels"
   ]
  },
  {
   "cell_type": "code",
   "execution_count": 9,
   "metadata": {},
   "outputs": [
    {
     "data": {
      "text/html": [
       "<div>\n",
       "<style scoped>\n",
       "    .dataframe tbody tr th:only-of-type {\n",
       "        vertical-align: middle;\n",
       "    }\n",
       "\n",
       "    .dataframe tbody tr th {\n",
       "        vertical-align: top;\n",
       "    }\n",
       "\n",
       "    .dataframe thead th {\n",
       "        text-align: right;\n",
       "    }\n",
       "</style>\n",
       "<table border=\"1\" class=\"dataframe\">\n",
       "  <thead>\n",
       "    <tr style=\"text-align: right;\">\n",
       "      <th></th>\n",
       "      <th>1</th>\n",
       "      <th>2</th>\n",
       "      <th>3</th>\n",
       "      <th>4</th>\n",
       "      <th>5</th>\n",
       "      <th>6</th>\n",
       "      <th>7</th>\n",
       "      <th>8</th>\n",
       "      <th>9</th>\n",
       "      <th>10</th>\n",
       "      <th>11</th>\n",
       "      <th>12</th>\n",
       "      <th>13</th>\n",
       "      <th>14</th>\n",
       "      <th>15</th>\n",
       "      <th>16</th>\n",
       "      <th>17</th>\n",
       "      <th>18</th>\n",
       "      <th>19</th>\n",
       "      <th>20</th>\n",
       "    </tr>\n",
       "  </thead>\n",
       "  <tbody>\n",
       "    <tr>\n",
       "      <th>1</th>\n",
       "      <td>61.15</td>\n",
       "      <td>47.56</td>\n",
       "      <td>33.95</td>\n",
       "      <td>26.17</td>\n",
       "      <td>25.01</td>\n",
       "      <td>24.21</td>\n",
       "      <td>18.26</td>\n",
       "      <td>9.91</td>\n",
       "      <td>4.44</td>\n",
       "      <td>3.19</td>\n",
       "      <td>5.08</td>\n",
       "      <td>8.62</td>\n",
       "      <td>13.43</td>\n",
       "      <td>19.91</td>\n",
       "      <td>25.30</td>\n",
       "      <td>26.07</td>\n",
       "      <td>24.15</td>\n",
       "      <td>23.48</td>\n",
       "      <td>25.04</td>\n",
       "      <td>28.03</td>\n",
       "    </tr>\n",
       "    <tr>\n",
       "      <th>2</th>\n",
       "      <td>62.15</td>\n",
       "      <td>56.33</td>\n",
       "      <td>45.39</td>\n",
       "      <td>36.21</td>\n",
       "      <td>32.29</td>\n",
       "      <td>29.44</td>\n",
       "      <td>22.47</td>\n",
       "      <td>13.49</td>\n",
       "      <td>7.25</td>\n",
       "      <td>5.29</td>\n",
       "      <td>7.14</td>\n",
       "      <td>11.70</td>\n",
       "      <td>18.34</td>\n",
       "      <td>26.53</td>\n",
       "      <td>32.36</td>\n",
       "      <td>32.19</td>\n",
       "      <td>29.03</td>\n",
       "      <td>27.76</td>\n",
       "      <td>29.12</td>\n",
       "      <td>31.31</td>\n",
       "    </tr>\n",
       "    <tr>\n",
       "      <th>3</th>\n",
       "      <td>53.26</td>\n",
       "      <td>57.05</td>\n",
       "      <td>53.20</td>\n",
       "      <td>46.65</td>\n",
       "      <td>41.72</td>\n",
       "      <td>36.39</td>\n",
       "      <td>27.37</td>\n",
       "      <td>17.53</td>\n",
       "      <td>11.19</td>\n",
       "      <td>9.35</td>\n",
       "      <td>11.79</td>\n",
       "      <td>17.64</td>\n",
       "      <td>25.66</td>\n",
       "      <td>34.27</td>\n",
       "      <td>39.29</td>\n",
       "      <td>37.73</td>\n",
       "      <td>33.49</td>\n",
       "      <td>31.53</td>\n",
       "      <td>31.91</td>\n",
       "      <td>32.02</td>\n",
       "    </tr>\n",
       "    <tr>\n",
       "      <th>4</th>\n",
       "      <td>38.02</td>\n",
       "      <td>48.85</td>\n",
       "      <td>53.72</td>\n",
       "      <td>53.76</td>\n",
       "      <td>51.44</td>\n",
       "      <td>45.16</td>\n",
       "      <td>33.66</td>\n",
       "      <td>22.23</td>\n",
       "      <td>16.22</td>\n",
       "      <td>16.01</td>\n",
       "      <td>20.22</td>\n",
       "      <td>27.05</td>\n",
       "      <td>34.73</td>\n",
       "      <td>42.04</td>\n",
       "      <td>45.55</td>\n",
       "      <td>42.63</td>\n",
       "      <td>37.18</td>\n",
       "      <td>33.94</td>\n",
       "      <td>32.40</td>\n",
       "      <td>29.72</td>\n",
       "    </tr>\n",
       "    <tr>\n",
       "      <th>5</th>\n",
       "      <td>22.31</td>\n",
       "      <td>34.94</td>\n",
       "      <td>46.23</td>\n",
       "      <td>54.32</td>\n",
       "      <td>58.16</td>\n",
       "      <td>54.18</td>\n",
       "      <td>41.72</td>\n",
       "      <td>28.77</td>\n",
       "      <td>23.21</td>\n",
       "      <td>25.54</td>\n",
       "      <td>32.16</td>\n",
       "      <td>39.09</td>\n",
       "      <td>44.72</td>\n",
       "      <td>49.58</td>\n",
       "      <td>51.17</td>\n",
       "      <td>46.58</td>\n",
       "      <td>39.46</td>\n",
       "      <td>34.29</td>\n",
       "      <td>30.29</td>\n",
       "      <td>25.03</td>\n",
       "    </tr>\n",
       "    <tr>\n",
       "      <th>6</th>\n",
       "      <td>10.63</td>\n",
       "      <td>20.64</td>\n",
       "      <td>33.62</td>\n",
       "      <td>47.72</td>\n",
       "      <td>59.10</td>\n",
       "      <td>60.80</td>\n",
       "      <td>50.80</td>\n",
       "      <td>38.44</td>\n",
       "      <td>33.73</td>\n",
       "      <td>37.69</td>\n",
       "      <td>45.45</td>\n",
       "      <td>51.72</td>\n",
       "      <td>55.10</td>\n",
       "      <td>57.24</td>\n",
       "      <td>56.27</td>\n",
       "      <td>49.35</td>\n",
       "      <td>40.00</td>\n",
       "      <td>32.46</td>\n",
       "      <td>26.02</td>\n",
       "      <td>19.06</td>\n",
       "    </tr>\n",
       "    <tr>\n",
       "      <th>7</th>\n",
       "      <td>4.08</td>\n",
       "      <td>10.03</td>\n",
       "      <td>20.73</td>\n",
       "      <td>36.68</td>\n",
       "      <td>54.04</td>\n",
       "      <td>63.27</td>\n",
       "      <td>59.58</td>\n",
       "      <td>51.23</td>\n",
       "      <td>48.06</td>\n",
       "      <td>51.45</td>\n",
       "      <td>57.80</td>\n",
       "      <td>62.91</td>\n",
       "      <td>65.00</td>\n",
       "      <td>65.00</td>\n",
       "      <td>61.23</td>\n",
       "      <td>51.36</td>\n",
       "      <td>39.08</td>\n",
       "      <td>28.78</td>\n",
       "      <td>20.34</td>\n",
       "      <td>12.87</td>\n",
       "    </tr>\n",
       "    <tr>\n",
       "      <th>8</th>\n",
       "      <td>1.27</td>\n",
       "      <td>4.12</td>\n",
       "      <td>11.33</td>\n",
       "      <td>25.85</td>\n",
       "      <td>46.18</td>\n",
       "      <td>62.54</td>\n",
       "      <td>67.24</td>\n",
       "      <td>65.00</td>\n",
       "      <td>63.59</td>\n",
       "      <td>65.00</td>\n",
       "      <td>68.35</td>\n",
       "      <td>71.54</td>\n",
       "      <td>72.83</td>\n",
       "      <td>72.14</td>\n",
       "      <td>66.67</td>\n",
       "      <td>53.57</td>\n",
       "      <td>37.34</td>\n",
       "      <td>23.90</td>\n",
       "      <td>14.26</td>\n",
       "      <td>7.51</td>\n",
       "    </tr>\n",
       "    <tr>\n",
       "      <th>9</th>\n",
       "      <td>0.37</td>\n",
       "      <td>1.74</td>\n",
       "      <td>6.67</td>\n",
       "      <td>19.48</td>\n",
       "      <td>40.96</td>\n",
       "      <td>62.25</td>\n",
       "      <td>73.55</td>\n",
       "      <td>76.19</td>\n",
       "      <td>76.19</td>\n",
       "      <td>76.19</td>\n",
       "      <td>76.78</td>\n",
       "      <td>77.37</td>\n",
       "      <td>77.76</td>\n",
       "      <td>77.83</td>\n",
       "      <td>72.29</td>\n",
       "      <td>56.28</td>\n",
       "      <td>35.65</td>\n",
       "      <td>19.21</td>\n",
       "      <td>9.18</td>\n",
       "      <td>3.83</td>\n",
       "    </tr>\n",
       "    <tr>\n",
       "      <th>10</th>\n",
       "      <td>0.30</td>\n",
       "      <td>1.59</td>\n",
       "      <td>6.58</td>\n",
       "      <td>20.02</td>\n",
       "      <td>42.99</td>\n",
       "      <td>66.04</td>\n",
       "      <td>78.59</td>\n",
       "      <td>82.09</td>\n",
       "      <td>82.81</td>\n",
       "      <td>82.71</td>\n",
       "      <td>81.93</td>\n",
       "      <td>80.85</td>\n",
       "      <td>80.75</td>\n",
       "      <td>81.55</td>\n",
       "      <td>76.19</td>\n",
       "      <td>58.43</td>\n",
       "      <td>35.06</td>\n",
       "      <td>16.86</td>\n",
       "      <td>6.76</td>\n",
       "      <td>2.27</td>\n",
       "    </tr>\n",
       "    <tr>\n",
       "      <th>11</th>\n",
       "      <td>0.99</td>\n",
       "      <td>3.67</td>\n",
       "      <td>11.35</td>\n",
       "      <td>28.19</td>\n",
       "      <td>53.12</td>\n",
       "      <td>74.54</td>\n",
       "      <td>82.80</td>\n",
       "      <td>82.81</td>\n",
       "      <td>82.52</td>\n",
       "      <td>82.80</td>\n",
       "      <td>82.81</td>\n",
       "      <td>82.64</td>\n",
       "      <td>82.80</td>\n",
       "      <td>82.81</td>\n",
       "      <td>76.50</td>\n",
       "      <td>58.69</td>\n",
       "      <td>36.09</td>\n",
       "      <td>18.50</td>\n",
       "      <td>8.23</td>\n",
       "      <td>3.14</td>\n",
       "    </tr>\n",
       "    <tr>\n",
       "      <th>12</th>\n",
       "      <td>3.48</td>\n",
       "      <td>9.54</td>\n",
       "      <td>21.94</td>\n",
       "      <td>42.74</td>\n",
       "      <td>68.10</td>\n",
       "      <td>85.39</td>\n",
       "      <td>86.75</td>\n",
       "      <td>80.27</td>\n",
       "      <td>76.37</td>\n",
       "      <td>76.89</td>\n",
       "      <td>79.91</td>\n",
       "      <td>82.51</td>\n",
       "      <td>82.80</td>\n",
       "      <td>80.95</td>\n",
       "      <td>73.47</td>\n",
       "      <td>57.16</td>\n",
       "      <td>38.13</td>\n",
       "      <td>23.53</td>\n",
       "      <td>13.69</td>\n",
       "      <td>6.99</td>\n",
       "    </tr>\n",
       "    <tr>\n",
       "      <th>13</th>\n",
       "      <td>9.94</td>\n",
       "      <td>21.21</td>\n",
       "      <td>38.10</td>\n",
       "      <td>60.25</td>\n",
       "      <td>83.34</td>\n",
       "      <td>95.62</td>\n",
       "      <td>89.95</td>\n",
       "      <td>76.07</td>\n",
       "      <td>67.57</td>\n",
       "      <td>68.26</td>\n",
       "      <td>74.25</td>\n",
       "      <td>78.74</td>\n",
       "      <td>78.57</td>\n",
       "      <td>75.90</td>\n",
       "      <td>69.14</td>\n",
       "      <td>55.27</td>\n",
       "      <td>40.00</td>\n",
       "      <td>29.29</td>\n",
       "      <td>21.49</td>\n",
       "      <td>14.03</td>\n",
       "    </tr>\n",
       "    <tr>\n",
       "      <th>14</th>\n",
       "      <td>22.74</td>\n",
       "      <td>38.81</td>\n",
       "      <td>56.93</td>\n",
       "      <td>76.70</td>\n",
       "      <td>95.73</td>\n",
       "      <td>102.92</td>\n",
       "      <td>91.00</td>\n",
       "      <td>71.55</td>\n",
       "      <td>60.25</td>\n",
       "      <td>60.34</td>\n",
       "      <td>65.96</td>\n",
       "      <td>69.70</td>\n",
       "      <td>69.59</td>\n",
       "      <td>68.90</td>\n",
       "      <td>65.27</td>\n",
       "      <td>54.07</td>\n",
       "      <td>41.05</td>\n",
       "      <td>33.28</td>\n",
       "      <td>28.75</td>\n",
       "      <td>22.94</td>\n",
       "    </tr>\n",
       "    <tr>\n",
       "      <th>15</th>\n",
       "      <td>42.04</td>\n",
       "      <td>59.30</td>\n",
       "      <td>74.38</td>\n",
       "      <td>89.41</td>\n",
       "      <td>103.62</td>\n",
       "      <td>105.90</td>\n",
       "      <td>89.91</td>\n",
       "      <td>68.58</td>\n",
       "      <td>56.24</td>\n",
       "      <td>53.45</td>\n",
       "      <td>54.85</td>\n",
       "      <td>56.37</td>\n",
       "      <td>58.02</td>\n",
       "      <td>61.78</td>\n",
       "      <td>62.27</td>\n",
       "      <td>53.19</td>\n",
       "      <td>41.06</td>\n",
       "      <td>34.74</td>\n",
       "      <td>33.17</td>\n",
       "      <td>30.91</td>\n",
       "    </tr>\n",
       "    <tr>\n",
       "      <th>16</th>\n",
       "      <td>64.50</td>\n",
       "      <td>78.23</td>\n",
       "      <td>87.61</td>\n",
       "      <td>96.89</td>\n",
       "      <td>106.19</td>\n",
       "      <td>105.50</td>\n",
       "      <td>88.99</td>\n",
       "      <td>67.80</td>\n",
       "      <td>53.21</td>\n",
       "      <td>45.39</td>\n",
       "      <td>42.12</td>\n",
       "      <td>42.63</td>\n",
       "      <td>47.25</td>\n",
       "      <td>55.66</td>\n",
       "      <td>59.66</td>\n",
       "      <td>51.80</td>\n",
       "      <td>39.78</td>\n",
       "      <td>34.00</td>\n",
       "      <td>34.32</td>\n",
       "      <td>35.57</td>\n",
       "    </tr>\n",
       "    <tr>\n",
       "      <th>17</th>\n",
       "      <td>85.24</td>\n",
       "      <td>92.47</td>\n",
       "      <td>94.97</td>\n",
       "      <td>98.36</td>\n",
       "      <td>104.90</td>\n",
       "      <td>105.07</td>\n",
       "      <td>89.82</td>\n",
       "      <td>66.73</td>\n",
       "      <td>47.31</td>\n",
       "      <td>35.05</td>\n",
       "      <td>30.44</td>\n",
       "      <td>32.42</td>\n",
       "      <td>39.72</td>\n",
       "      <td>50.96</td>\n",
       "      <td>56.98</td>\n",
       "      <td>49.60</td>\n",
       "      <td>37.17</td>\n",
       "      <td>31.41</td>\n",
       "      <td>32.77</td>\n",
       "      <td>36.46</td>\n",
       "    </tr>\n",
       "    <tr>\n",
       "      <th>18</th>\n",
       "      <td>100.78</td>\n",
       "      <td>100.18</td>\n",
       "      <td>95.62</td>\n",
       "      <td>95.50</td>\n",
       "      <td>103.65</td>\n",
       "      <td>106.69</td>\n",
       "      <td>90.17</td>\n",
       "      <td>61.66</td>\n",
       "      <td>37.35</td>\n",
       "      <td>24.26</td>\n",
       "      <td>22.18</td>\n",
       "      <td>27.13</td>\n",
       "      <td>36.07</td>\n",
       "      <td>48.04</td>\n",
       "      <td>54.43</td>\n",
       "      <td>46.79</td>\n",
       "      <td>33.62</td>\n",
       "      <td>27.39</td>\n",
       "      <td>29.11</td>\n",
       "      <td>34.23</td>\n",
       "    </tr>\n",
       "    <tr>\n",
       "      <th>19</th>\n",
       "      <td>109.09</td>\n",
       "      <td>100.44</td>\n",
       "      <td>91.47</td>\n",
       "      <td>92.74</td>\n",
       "      <td>104.78</td>\n",
       "      <td>107.95</td>\n",
       "      <td>86.10</td>\n",
       "      <td>51.73</td>\n",
       "      <td>25.98</td>\n",
       "      <td>15.82</td>\n",
       "      <td>17.91</td>\n",
       "      <td>25.67</td>\n",
       "      <td>35.47</td>\n",
       "      <td>47.18</td>\n",
       "      <td>52.79</td>\n",
       "      <td>44.00</td>\n",
       "      <td>29.70</td>\n",
       "      <td>22.66</td>\n",
       "      <td>24.02</td>\n",
       "      <td>29.62</td>\n",
       "    </tr>\n",
       "    <tr>\n",
       "      <th>20</th>\n",
       "      <td>109.17</td>\n",
       "      <td>95.42</td>\n",
       "      <td>87.47</td>\n",
       "      <td>92.67</td>\n",
       "      <td>105.57</td>\n",
       "      <td>104.36</td>\n",
       "      <td>76.66</td>\n",
       "      <td>40.10</td>\n",
       "      <td>16.81</td>\n",
       "      <td>10.96</td>\n",
       "      <td>16.60</td>\n",
       "      <td>26.30</td>\n",
       "      <td>36.73</td>\n",
       "      <td>48.23</td>\n",
       "      <td>52.76</td>\n",
       "      <td>42.06</td>\n",
       "      <td>26.00</td>\n",
       "      <td>17.88</td>\n",
       "      <td>18.48</td>\n",
       "      <td>23.59</td>\n",
       "    </tr>\n",
       "  </tbody>\n",
       "</table>\n",
       "</div>"
      ],
      "text/plain": [
       "        1       2      3      4       5       6      7      8      9      10  \\\n",
       "1    61.15   47.56  33.95  26.17   25.01   24.21  18.26   9.91   4.44   3.19   \n",
       "2    62.15   56.33  45.39  36.21   32.29   29.44  22.47  13.49   7.25   5.29   \n",
       "3    53.26   57.05  53.20  46.65   41.72   36.39  27.37  17.53  11.19   9.35   \n",
       "4    38.02   48.85  53.72  53.76   51.44   45.16  33.66  22.23  16.22  16.01   \n",
       "5    22.31   34.94  46.23  54.32   58.16   54.18  41.72  28.77  23.21  25.54   \n",
       "6    10.63   20.64  33.62  47.72   59.10   60.80  50.80  38.44  33.73  37.69   \n",
       "7     4.08   10.03  20.73  36.68   54.04   63.27  59.58  51.23  48.06  51.45   \n",
       "8     1.27    4.12  11.33  25.85   46.18   62.54  67.24  65.00  63.59  65.00   \n",
       "9     0.37    1.74   6.67  19.48   40.96   62.25  73.55  76.19  76.19  76.19   \n",
       "10    0.30    1.59   6.58  20.02   42.99   66.04  78.59  82.09  82.81  82.71   \n",
       "11    0.99    3.67  11.35  28.19   53.12   74.54  82.80  82.81  82.52  82.80   \n",
       "12    3.48    9.54  21.94  42.74   68.10   85.39  86.75  80.27  76.37  76.89   \n",
       "13    9.94   21.21  38.10  60.25   83.34   95.62  89.95  76.07  67.57  68.26   \n",
       "14   22.74   38.81  56.93  76.70   95.73  102.92  91.00  71.55  60.25  60.34   \n",
       "15   42.04   59.30  74.38  89.41  103.62  105.90  89.91  68.58  56.24  53.45   \n",
       "16   64.50   78.23  87.61  96.89  106.19  105.50  88.99  67.80  53.21  45.39   \n",
       "17   85.24   92.47  94.97  98.36  104.90  105.07  89.82  66.73  47.31  35.05   \n",
       "18  100.78  100.18  95.62  95.50  103.65  106.69  90.17  61.66  37.35  24.26   \n",
       "19  109.09  100.44  91.47  92.74  104.78  107.95  86.10  51.73  25.98  15.82   \n",
       "20  109.17   95.42  87.47  92.67  105.57  104.36  76.66  40.10  16.81  10.96   \n",
       "\n",
       "       11     12     13     14     15     16     17     18     19     20  \n",
       "1    5.08   8.62  13.43  19.91  25.30  26.07  24.15  23.48  25.04  28.03  \n",
       "2    7.14  11.70  18.34  26.53  32.36  32.19  29.03  27.76  29.12  31.31  \n",
       "3   11.79  17.64  25.66  34.27  39.29  37.73  33.49  31.53  31.91  32.02  \n",
       "4   20.22  27.05  34.73  42.04  45.55  42.63  37.18  33.94  32.40  29.72  \n",
       "5   32.16  39.09  44.72  49.58  51.17  46.58  39.46  34.29  30.29  25.03  \n",
       "6   45.45  51.72  55.10  57.24  56.27  49.35  40.00  32.46  26.02  19.06  \n",
       "7   57.80  62.91  65.00  65.00  61.23  51.36  39.08  28.78  20.34  12.87  \n",
       "8   68.35  71.54  72.83  72.14  66.67  53.57  37.34  23.90  14.26   7.51  \n",
       "9   76.78  77.37  77.76  77.83  72.29  56.28  35.65  19.21   9.18   3.83  \n",
       "10  81.93  80.85  80.75  81.55  76.19  58.43  35.06  16.86   6.76   2.27  \n",
       "11  82.81  82.64  82.80  82.81  76.50  58.69  36.09  18.50   8.23   3.14  \n",
       "12  79.91  82.51  82.80  80.95  73.47  57.16  38.13  23.53  13.69   6.99  \n",
       "13  74.25  78.74  78.57  75.90  69.14  55.27  40.00  29.29  21.49  14.03  \n",
       "14  65.96  69.70  69.59  68.90  65.27  54.07  41.05  33.28  28.75  22.94  \n",
       "15  54.85  56.37  58.02  61.78  62.27  53.19  41.06  34.74  33.17  30.91  \n",
       "16  42.12  42.63  47.25  55.66  59.66  51.80  39.78  34.00  34.32  35.57  \n",
       "17  30.44  32.42  39.72  50.96  56.98  49.60  37.17  31.41  32.77  36.46  \n",
       "18  22.18  27.13  36.07  48.04  54.43  46.79  33.62  27.39  29.11  34.23  \n",
       "19  17.91  25.67  35.47  47.18  52.79  44.00  29.70  22.66  24.02  29.62  \n",
       "20  16.60  26.30  36.73  48.23  52.76  42.06  26.00  17.88  18.48  23.59  "
      ]
     },
     "execution_count": 9,
     "metadata": {},
     "output_type": "execute_result"
    }
   ],
   "source": [
    "All_voxels = np.zeros((400)).astype(np.float)\n",
    "for i in range(400):\n",
    "    All_voxels[i] = voxels[i].solution_value()\n",
    "#print(All_voxels.reshape(20,20))\n",
    "All_voxels = pd.DataFrame(All_voxels.reshape((20,20)), index=[i for i in range(1,21)],\n",
    "                          columns = [i for i in range(1,21)]).round(2)\n",
    "All_voxels"
   ]
  },
  {
   "cell_type": "code",
   "execution_count": 10,
   "metadata": {},
   "outputs": [],
   "source": [
    "OUTPUT  = 'output/cross_section_p3.csv'\n",
    "cross_section = All_voxels.to_csv(OUTPUT, index=[i for i in range(1,21)], columns = [i for i in range(1,21)])"
   ]
  },
  {
   "cell_type": "markdown",
   "metadata": {},
   "source": [
    "## Check Constraint"
   ]
  },
  {
   "cell_type": "markdown",
   "metadata": {},
   "source": [
    "**Beamlets Check**"
   ]
  },
  {
   "cell_type": "code",
   "execution_count": 11,
   "metadata": {},
   "outputs": [
    {
     "name": "stdout",
     "output_type": "stream",
     "text": [
      "Beamlets values are \n",
      "[50.43845111  0.          0.          0.          0.          0.\n",
      " 15.03947086  7.86649076  0.         45.42306822  0.          0.\n",
      "  0.          0.          0.          0.29861694 21.00289673  0.\n",
      " 30.92672474  0.          0.          0.          0.         17.72607875\n",
      "  0.          0.          0.          0.          0.          0.\n",
      "  0.          0.          0.          0.          0.          0.\n",
      "  0.          0.          0.          0.          0.          0.\n",
      "  0.          0.         19.14968843 25.50748258 29.64211471  0.\n",
      "  0.          0.          0.          0.         58.4461621   5.01907445\n",
      " 61.76836803 26.78295081  0.         35.37092775 35.78554921  0.        ]\n"
     ]
    }
   ],
   "source": [
    "# check beamlets value\n",
    "beamlets_value = []\n",
    "for i in range(60):\n",
    "    beamlets_value.append(beamlets[i].solution_value())\n",
    "print('Beamlets values are ')\n",
    "print(np.array(beamlets_value))   "
   ]
  },
  {
   "cell_type": "markdown",
   "metadata": {},
   "source": [
    "**CTV check**"
   ]
  },
  {
   "cell_type": "code",
   "execution_count": 12,
   "metadata": {},
   "outputs": [
    {
     "name": "stdout",
     "output_type": "stream",
     "text": [
      "CTV voxel dose(Gy)\n",
      "[76.18780219 76.18780219 76.18780219 76.77714098 77.36663773 77.7551038\n",
      " 77.83301214 78.58912122 82.09046074 82.81092796 82.71351287 81.92846393\n",
      " 80.85384888 80.7538158  81.55119154 76.18780219 82.8        82.81092796\n",
      " 82.51677043 82.8        82.81092796 82.64372452 82.8        82.81092796\n",
      " 76.50186898 80.27054339 76.36921416 76.88997075 79.90667134 82.50817487\n",
      " 82.8        80.95075448]\n"
     ]
    }
   ],
   "source": [
    "#Every voxel receives a uniform dose of 82.8 \n",
    "CTV_voxel = []\n",
    "every = 0\n",
    "for i in CTV_index:\n",
    "    every = voxels[i].solution_value() \n",
    "    CTV_voxel.append(every)\n",
    "print('CTV voxel dose(Gy)')\n",
    "print(np.array(CTV_voxel))"
   ]
  },
  {
   "cell_type": "code",
   "execution_count": 13,
   "metadata": {},
   "outputs": [
    {
     "name": "stdout",
     "output_type": "stream",
     "text": [
      "Positive distance to 82.8 \n",
      " [[ 6.61219781e+00  6.61219781e+00  6.61219781e+00  6.02285902e+00\n",
      "   5.43336227e+00  5.04489620e+00  4.96698786e+00  4.21087878e+00\n",
      "   7.09539258e-01 -4.99020130e-13  8.64871315e-02  8.71536071e-01\n",
      "   1.94615112e+00  2.04618420e+00  1.24880846e+00  6.61219781e+00\n",
      "  -4.99018803e-13 -1.39988608e-18  2.83229570e-01 -1.39988608e-18\n",
      "  -4.99018816e-13  1.56275478e-01 -1.95247638e-12 -4.71942795e-19\n",
      "   6.29813102e+00  2.52945661e+00  6.43078584e+00  5.91002925e+00\n",
      "   2.89332866e+00  2.91825126e-01 -4.99019979e-13  1.84924552e+00]]\n",
      "\n",
      "\n",
      "Negative distance to 82.8 \n",
      " [[4.62054447e-13 0.00000000e+00 4.62055537e-13 0.00000000e+00\n",
      "  4.62054459e-13 4.62054459e-13 0.00000000e+00 4.62054460e-13\n",
      "  0.00000000e+00 1.09279561e-02 0.00000000e+00 0.00000000e+00\n",
      "  0.00000000e+00 1.29619081e-18 1.29614308e-18 0.00000000e+00\n",
      "  3.08562696e-12 1.09279561e-02 4.62054459e-13 1.29619081e-18\n",
      "  1.09279561e-02 0.00000000e+00 0.00000000e+00 1.09279561e-02\n",
      "  0.00000000e+00 0.00000000e+00 0.00000000e+00 0.00000000e+00\n",
      "  4.62055536e-13 0.00000000e+00 0.00000000e+00 0.00000000e+00]]\n"
     ]
    }
   ],
   "source": [
    "# the distance to 82.8\n",
    "zp0 = np.array([[x.solution_value() for x in z_p]])\n",
    "zn0 = np.array([[x.solution_value() for x in z_n]])\n",
    "print('Positive distance to 82.8 \\n',zp0)\n",
    "print('\\n')\n",
    "print('Negative distance to 82.8 \\n',zn0)"
   ]
  },
  {
   "cell_type": "code",
   "execution_count": 14,
   "metadata": {},
   "outputs": [
    {
     "name": "stdout",
     "output_type": "stream",
     "text": [
      "maximum difference of CTV voxels values to 82.8 are  0.00013198014609482265 0.07985746144222423\n"
     ]
    }
   ],
   "source": [
    "print('maximum difference of CTV voxels values to 82.8 are ', (max(CTV_voxel)-82.8)/82.8, (82.8- min(CTV_voxel))/82.8)"
   ]
  },
  {
   "cell_type": "code",
   "execution_count": 15,
   "metadata": {},
   "outputs": [
    {
     "name": "stdout",
     "output_type": "stream",
     "text": [
      "maximum CTV voxels value is  82.81092795609665\n"
     ]
    }
   ],
   "source": [
    "print('maximum CTV voxels value is ', max(CTV_voxel))"
   ]
  },
  {
   "cell_type": "code",
   "execution_count": 16,
   "metadata": {},
   "outputs": [
    {
     "name": "stdout",
     "output_type": "stream",
     "text": [
      "minimum CTV voxels value is  76.18780219258383\n"
     ]
    }
   ],
   "source": [
    "print('minimum CTV voxels value is ', min(CTV_voxel))"
   ]
  },
  {
   "cell_type": "code",
   "execution_count": 17,
   "metadata": {},
   "outputs": [
    {
     "name": "stdout",
     "output_type": "stream",
     "text": [
      "percentage of voxels below 79: 0.375\n"
     ]
    }
   ],
   "source": [
    "print('percentage of voxels below 79:', sum((np.array(CTV_voxel) < 79)*1) / len(CTV_voxel))"
   ]
  },
  {
   "cell_type": "code",
   "execution_count": 18,
   "metadata": {},
   "outputs": [
    {
     "name": "stdout",
     "output_type": "stream",
     "text": [
      "percentage of voxels Above 86.94: 0.0\n"
     ]
    }
   ],
   "source": [
    "print('percentage of voxels Above 86.94:', sum((np.array(CTV_voxel) > 86.94)*1) / len(CTV_voxel))"
   ]
  },
  {
   "cell_type": "markdown",
   "metadata": {},
   "source": [
    "**Bladder Check**"
   ]
  },
  {
   "cell_type": "code",
   "execution_count": 19,
   "metadata": {},
   "outputs": [
    {
     "name": "stdout",
     "output_type": "stream",
     "text": [
      "Bladder Voxel Doses\n",
      " [28.7708 23.2106 25.5366 32.1555 39.0918 44.717  49.5758 50.7951 38.4414\n",
      " 33.7347 37.6926 45.4473 51.7212 55.0967 57.2351 56.2652 59.5783 51.2274\n",
      " 48.0582 51.4455 57.7967 62.9131 65.     65.     61.2277 65.     63.5869\n",
      " 65.     68.3508 71.5364 72.8291 72.144 ]\n"
     ]
    }
   ],
   "source": [
    "# Max dose to a voxel: 81\n",
    "bladder_voxel = []\n",
    "every = 0\n",
    "for i in bladder_index:\n",
    "    every = round(voxels[i].solution_value(),4)\n",
    "    bladder_voxel.append(every)\n",
    "print('Bladder Voxel Doses\\n',np.array(bladder_voxel))"
   ]
  },
  {
   "cell_type": "code",
   "execution_count": 20,
   "metadata": {},
   "outputs": [
    {
     "name": "stdout",
     "output_type": "stream",
     "text": [
      "distances to 81 if voxel value is above 81\n",
      " [[0. 0. 0. 0. 0. 0. 0. 0. 0. 0. 0. 0. 0. 0. 0. 0. 0. 0. 0. 0. 0. 0. 0. 0.\n",
      "  0. 0. 0. 0. 0. 0. 0. 0.]]\n"
     ]
    }
   ],
   "source": [
    "# if any voxel has more than 81\n",
    "zb1 = np.array([[x.solution_value() for x in z_b_1]])\n",
    "print('distances to 81 if voxel value is above 81\\n',zb1)"
   ]
  },
  {
   "cell_type": "code",
   "execution_count": 21,
   "metadata": {},
   "outputs": [
    {
     "name": "stdout",
     "output_type": "stream",
     "text": [
      "are there values more than 81?\n",
      "False\n",
      "how many percentage of voxel values are more than 81?\n",
      "0.0 %\n"
     ]
    }
   ],
   "source": [
    "# check if there are voxel with value more than 81\n",
    "print('are there values more than 81?')\n",
    "print(max(bladder_voxel) > 81)\n",
    "\n",
    "print('how many percentage of voxel values are more than 81?')\n",
    "\n",
    "print(round(sum((np.array(bladder_voxel) >81)*1)/len(bladder_voxel),2)*100,'%')"
   ]
  },
  {
   "cell_type": "code",
   "execution_count": 22,
   "metadata": {},
   "outputs": [
    {
     "name": "stdout",
     "output_type": "stream",
     "text": [
      "average dose received by bladder voxels are  52.193171875\n",
      "slack variable to bring down the value to below 50:  2.1931753621115346\n"
     ]
    }
   ],
   "source": [
    "# average dose shouldbe <= 50\n",
    "print('average dose received by bladder voxels are ',sum(bladder_voxel)/len(bladder_voxel))\n",
    "print('slack variable to bring down the value to below 50: ', z_b_2.solution_value())"
   ]
  },
  {
   "cell_type": "code",
   "execution_count": 23,
   "metadata": {},
   "outputs": [
    {
     "name": "stdout",
     "output_type": "stream",
     "text": [
      "voxel that are larger that 65 are indicated by 1 \n",
      " [0. 0. 0. 0. 0. 0. 0. 0. 0. 0. 0. 0. 0. 0. 0. 0. 0. 0. 0. 0. 0. 0. 0. 0.\n",
      " 0. 0. 0. 0. 1. 1. 1. 1.]\n"
     ]
    }
   ],
   "source": [
    "# at most 10% of the bladder should receive a dose > 65\n",
    "y_value = np.array([t.solution_value() for t in y])\n",
    "print('voxel that are larger that 65 are indicated by 1 \\n',y_value)"
   ]
  },
  {
   "cell_type": "code",
   "execution_count": 24,
   "metadata": {},
   "outputs": [
    {
     "name": "stdout",
     "output_type": "stream",
     "text": [
      "0.125  of the voxels are above 65\n"
     ]
    }
   ],
   "source": [
    "test = np.array(list(map(lambda x: 1 if x > 65.00 else 0,bladder_voxel)))\n",
    "print(round(sum(test)/len(test),4), ' of the voxels are above 65')"
   ]
  },
  {
   "cell_type": "code",
   "execution_count": 25,
   "metadata": {},
   "outputs": [
    {
     "name": "stdout",
     "output_type": "stream",
     "text": [
      "voxel that are larger that 65 are indicated by 1 \n",
      " [0 0 0 0 0 0 0 0 0 0 0 0 0 0 0 0 0 0 0 0 0 0 0 0 0 0 0 0 1 1 1 1]\n"
     ]
    }
   ],
   "source": [
    "print('voxel that are larger that 65 are indicated by 1 \\n',test)"
   ]
  },
  {
   "cell_type": "code",
   "execution_count": 26,
   "metadata": {},
   "outputs": [
    {
     "data": {
      "text/plain": [
       "array([ True,  True,  True,  True,  True,  True,  True,  True,  True,\n",
       "        True,  True,  True,  True,  True,  True,  True,  True,  True,\n",
       "        True,  True,  True,  True,  True,  True,  True,  True,  True,\n",
       "        True,  True,  True,  True,  True])"
      ]
     },
     "execution_count": 26,
     "metadata": {},
     "output_type": "execute_result"
    }
   ],
   "source": [
    "y_value == test"
   ]
  },
  {
   "cell_type": "code",
   "execution_count": 27,
   "metadata": {},
   "outputs": [
    {
     "name": "stdout",
     "output_type": "stream",
     "text": [
      "the number of constraints we have to set loose to be above 65 1.0\n"
     ]
    }
   ],
   "source": [
    "print('the number of constraints we have to set loose to be above 65',z_y.solution_value())"
   ]
  },
  {
   "cell_type": "markdown",
   "metadata": {},
   "source": [
    "**Rectal Solid Check**"
   ]
  },
  {
   "cell_type": "code",
   "execution_count": 28,
   "metadata": {},
   "outputs": [
    {
     "name": "stdout",
     "output_type": "stream",
     "text": [
      "rectal voxel dose values\n",
      "[67.56869621 68.25976529 74.24698358 78.74413373 78.56926956 71.55490377\n",
      " 60.25251736 60.34143422 65.9590885  69.70228509 69.58681232 68.90427419\n",
      " 68.58469233 56.23523342 53.45223921 54.85493708 56.36899501 58.02414282\n",
      " 61.78222682 53.21336604 45.38561012 42.12151037 42.62691084 47.2479847 ]\n"
     ]
    }
   ],
   "source": [
    "# max dose to a voxel: 79.2\n",
    "Rectal_voxel = []\n",
    "every = 0\n",
    "for i in Rectal_index:\n",
    "    every = round(voxels[i].solution_value(),8)\n",
    "    Rectal_voxel.append(every)\n",
    "print('rectal voxel dose values')\n",
    "print(np.array(Rectal_voxel))"
   ]
  },
  {
   "cell_type": "code",
   "execution_count": 29,
   "metadata": {},
   "outputs": [
    {
     "name": "stdout",
     "output_type": "stream",
     "text": [
      "distances to 79.2 if voxel value is above 79.2\n",
      " [[0. 0. 0. 0. 0. 0. 0. 0. 0. 0. 0. 0. 0. 0. 0. 0. 0. 0. 0. 0. 0. 0. 0. 0.]]\n"
     ]
    }
   ],
   "source": [
    "zr1 = np.array([[x.solution_value() for x in z_r_1]])\n",
    "print('distances to 79.2 if voxel value is above 79.2\\n',zr1)"
   ]
  },
  {
   "cell_type": "code",
   "execution_count": 30,
   "metadata": {},
   "outputs": [
    {
     "name": "stdout",
     "output_type": "stream",
     "text": [
      "are there values more than 79.2?\n",
      "False\n",
      "how many percentage of voxel values are more than 79.2?\n",
      "0.0 %\n"
     ]
    }
   ],
   "source": [
    "# check if there's value larger than 79.2\n",
    "print('are there values more than 79.2?')\n",
    "print(max(Rectal_voxel) > 79.2)\n",
    "\n",
    "print('how many percentage of voxel values are more than 79.2?')\n",
    "\n",
    "print(round(sum((np.array(Rectal_voxel) >79.2)*1)/len(Rectal_voxel),2)*100,'%')"
   ]
  },
  {
   "cell_type": "code",
   "execution_count": 31,
   "metadata": {},
   "outputs": [
    {
     "name": "stdout",
     "output_type": "stream",
     "text": [
      "average dose received by bladder voxels are  61.399500524166655\n",
      "slack variable to bring down the value to below 40:  21.399500523801827\n"
     ]
    }
   ],
   "source": [
    "# average dose should be <= 40\n",
    "print('average dose received by bladder voxels are ',sum(Rectal_voxel)/len(Rectal_voxel))\n",
    "print('slack variable to bring down the value to below 40: ',z_r_2.solution_value())"
   ]
  },
  {
   "cell_type": "markdown",
   "metadata": {},
   "source": [
    "**Unspecified**"
   ]
  },
  {
   "cell_type": "code",
   "execution_count": 32,
   "metadata": {},
   "outputs": [
    {
     "data": {
      "text/plain": [
       "array([ 61.152,  47.562,  33.949,  26.174,  25.007,  24.214,  18.259,\n",
       "         9.912,   4.439,   3.194,   5.084,   8.617,  13.432,  19.914,\n",
       "        25.296,  26.07 ,  24.15 ,  23.48 ,  25.042,  28.029,  62.145,\n",
       "        56.334,  45.394,  36.214,  32.288,  29.444,  22.475,  13.489,\n",
       "         7.251,   5.293,   7.144,  11.7  ,  18.345,  26.527,  32.36 ,\n",
       "        32.188,  29.034,  27.762,  29.117,  31.306,  53.261,  57.048,\n",
       "        53.198,  46.648,  41.72 ,  36.391,  27.367,  17.527,  11.187,\n",
       "         9.35 ,  11.787,  17.641,  25.655,  34.268,  39.285,  37.734,\n",
       "        33.492,  31.532,  31.912,  32.018,  38.024,  48.852,  53.721,\n",
       "        53.761,  51.439,  45.158,  33.662,  22.23 ,  16.219,  16.006,\n",
       "        20.22 ,  27.049,  34.731,  42.043,  45.545,  42.627,  37.184,\n",
       "        33.943,  32.399,  29.716,  22.311,  34.944,  46.226,  54.323,\n",
       "        58.158,  54.177,  41.722,  51.165,  46.585,  39.459,  34.292,\n",
       "        30.289,  25.033,  10.63 ,  20.643,  59.101,  60.799,  49.345,\n",
       "        26.022,  19.056,   4.081,  63.267,  12.868,   1.274,  62.54 ,\n",
       "        67.237,  66.673,   7.515,   0.374,  62.249,  73.55 ,  72.29 ,\n",
       "         3.835,   0.304,  66.042,   2.269,   0.993,  74.544,   3.14 ,\n",
       "         3.479,  85.39 ,  86.746,  73.475,   6.992,   9.944,  21.211,\n",
       "        83.34 ,  95.624,  89.952,  76.067,  75.898,  69.141,  55.274,\n",
       "        21.493,  14.032,  22.735,  38.813,  56.932,  76.699,  95.731,\n",
       "       102.923,  91.004,  65.27 ,  54.069,  41.052,  33.28 ,  28.748,\n",
       "        22.939,  42.038,  59.298,  74.385,  89.409, 103.618, 105.896,\n",
       "        89.905,  62.271,  53.186,  41.061,  34.739,  33.17 ,  30.908,\n",
       "        64.501,  78.231,  87.612,  96.886, 106.191, 105.495,  88.991,\n",
       "        67.804,  55.661,  59.659,  51.803,  39.778,  34.002,  34.315,\n",
       "        35.572,  85.241,  92.468,  94.971,  98.356, 104.898, 105.073,\n",
       "        89.818,  66.732,  47.309,  35.052,  30.438,  32.422,  39.723,\n",
       "        50.961,  56.981,  49.596,  37.166,  31.412,  32.773,  36.455,\n",
       "       100.783, 100.176,  95.617,  95.504, 103.647, 106.695,  90.173,\n",
       "        61.656,  37.354,  24.263,  22.182,  27.126,  36.066,  48.036,\n",
       "        54.43 ,  46.792,  33.622,  27.393,  29.113,  34.227, 109.094,\n",
       "       100.438,  91.471,  92.736, 104.778, 107.946,  86.096,  51.732,\n",
       "        25.985,  15.818,  17.91 ,  25.67 ,  35.475,  47.178,  52.79 ,\n",
       "        44.001,  29.703,  22.658,  24.022,  29.624, 109.166,  95.424,\n",
       "        87.473,  92.67 , 105.571, 104.361,  76.66 ,  40.104,  16.815,\n",
       "        10.959,  16.6  ,  26.304,  36.729,  48.231,  52.763,  42.063,\n",
       "        25.996,  17.885,  18.476,  23.593])"
      ]
     },
     "execution_count": 32,
     "metadata": {},
     "output_type": "execute_result"
    }
   ],
   "source": [
    "# Max dose to a voxel: 72\n",
    "Un_voxel = []\n",
    "every = 0\n",
    "for i in Un_index:\n",
    "    every = round(voxels[i].solution_value(),3)\n",
    "    Un_voxel.append(every)\n",
    "np.array(Un_voxel)"
   ]
  },
  {
   "cell_type": "code",
   "execution_count": 33,
   "metadata": {},
   "outputs": [
    {
     "name": "stdout",
     "output_type": "stream",
     "text": [
      "Are there voxel values more than 72?\n"
     ]
    },
    {
     "data": {
      "text/plain": [
       "True"
      ]
     },
     "execution_count": 33,
     "metadata": {},
     "output_type": "execute_result"
    }
   ],
   "source": [
    "print('Are there voxel values more than 72?')\n",
    "max(Un_voxel) > 72"
   ]
  },
  {
   "cell_type": "code",
   "execution_count": 34,
   "metadata": {},
   "outputs": [
    {
     "name": "stdout",
     "output_type": "stream",
     "text": [
      "how many percentage of voxel values are more than 72?\n",
      "21.0 %\n"
     ]
    }
   ],
   "source": [
    "print('how many percentage of voxel values are more than 72?')\n",
    "\n",
    "print(round(sum((np.array(Un_voxel) >72)*1)/len(Un_voxel),2)*100,'%')"
   ]
  },
  {
   "cell_type": "markdown",
   "metadata": {},
   "source": [
    "**Left Femur Head**"
   ]
  },
  {
   "cell_type": "code",
   "execution_count": 35,
   "metadata": {},
   "outputs": [
    {
     "name": "stdout",
     "output_type": "stream",
     "text": [
      "left femur head voxel values\n"
     ]
    },
    {
     "data": {
      "text/plain": [
       "array([40.  , 32.46, 51.36, 39.08, 28.78, 20.34, 53.57, 37.34, 23.9 ,\n",
       "       14.26, 56.28, 35.65, 19.21,  9.18, 58.43, 35.06, 16.86,  6.76,\n",
       "       58.69, 36.09, 18.5 ,  8.23, 57.16, 38.13, 23.53, 13.69, 40.  ,\n",
       "       29.29])"
      ]
     },
     "execution_count": 35,
     "metadata": {},
     "output_type": "execute_result"
    }
   ],
   "source": [
    "# max dose to be voxel 50\n",
    "Left_voxel = []\n",
    "every = 0\n",
    "for i in Left_index:\n",
    "    every = round(voxels[i].solution_value(),2)\n",
    "    Left_voxel.append(every)\n",
    "print('left femur head voxel values')\n",
    "np.array(Left_voxel)"
   ]
  },
  {
   "cell_type": "code",
   "execution_count": 36,
   "metadata": {},
   "outputs": [
    {
     "name": "stdout",
     "output_type": "stream",
     "text": [
      "distances to 79.2 if voxel value is above 50\n",
      " [[0.         0.         1.35684998 0.         0.         0.\n",
      "  3.57373376 0.         0.         0.         6.28005042 0.\n",
      "  0.         0.         8.42983812 0.         0.         0.\n",
      "  8.69383655 0.         0.         0.         7.15625869 0.\n",
      "  0.         0.         0.         0.        ]]\n"
     ]
    }
   ],
   "source": [
    "zl1 = np.array([[x.solution_value() for x in z_l_1]])\n",
    "print('distances to 79.2 if voxel value is above 50\\n',zl1)"
   ]
  },
  {
   "cell_type": "code",
   "execution_count": 37,
   "metadata": {},
   "outputs": [
    {
     "name": "stdout",
     "output_type": "stream",
     "text": [
      "are there values more than 50?\n",
      "True\n",
      "how many percentage of voxel values are more than 50?\n",
      "21.0 %\n"
     ]
    }
   ],
   "source": [
    "print('are there values more than 50?')\n",
    "print(max(Left_voxel) > 50)\n",
    "\n",
    "print('how many percentage of voxel values are more than 50?')\n",
    "\n",
    "print(round(sum((np.array(Left_voxel) >50)*1)/len(Left_voxel),2)*100,'%')"
   ]
  },
  {
   "cell_type": "code",
   "execution_count": 38,
   "metadata": {},
   "outputs": [
    {
     "name": "stdout",
     "output_type": "stream",
     "text": [
      "voxel that are larger that 40 are indicated by 1 \n",
      " [0. 0. 1. 0. 0. 0. 1. 0. 0. 0. 1. 0. 0. 0. 1. 0. 0. 0. 1. 0. 0. 0. 1. 0.\n",
      " 0. 0. 0. 0.]\n"
     ]
    }
   ],
   "source": [
    "# at most 15% of the left femur head should receive > 40\n",
    "y_left_value = np.array([t.solution_value() for t in y_left])\n",
    "print('voxel that are larger that 40 are indicated by 1 \\n',y_left_value)"
   ]
  },
  {
   "cell_type": "code",
   "execution_count": 39,
   "metadata": {},
   "outputs": [
    {
     "name": "stdout",
     "output_type": "stream",
     "text": [
      "0.2143  of the left femur voxels are above 40\n"
     ]
    }
   ],
   "source": [
    "test_left_femur = np.array(list(map(lambda x: 1 if x >40.00 else 0,Left_voxel)))\n",
    "print(round(sum(test_left_femur)/len(test_left_femur),4), ' of the left femur voxels are above 40')"
   ]
  },
  {
   "cell_type": "code",
   "execution_count": 40,
   "metadata": {},
   "outputs": [
    {
     "name": "stdout",
     "output_type": "stream",
     "text": [
      "voxel that are larger that 40 are indicated by 1 \n",
      " [0 0 1 0 0 0 1 0 0 0 1 0 0 0 1 0 0 0 1 0 0 0 1 0 0 0 0 0]\n"
     ]
    }
   ],
   "source": [
    "print('voxel that are larger that 40 are indicated by 1 \\n',test_left_femur)"
   ]
  },
  {
   "cell_type": "code",
   "execution_count": 41,
   "metadata": {},
   "outputs": [
    {
     "data": {
      "text/plain": [
       "array([ True,  True,  True,  True,  True,  True,  True,  True,  True,\n",
       "        True,  True,  True,  True,  True,  True,  True,  True,  True,\n",
       "        True,  True,  True,  True,  True,  True,  True,  True,  True,\n",
       "        True])"
      ]
     },
     "execution_count": 41,
     "metadata": {},
     "output_type": "execute_result"
    }
   ],
   "source": [
    "test_left_femur == y_left_value"
   ]
  },
  {
   "cell_type": "code",
   "execution_count": 42,
   "metadata": {},
   "outputs": [
    {
     "name": "stdout",
     "output_type": "stream",
     "text": [
      "the number of constraints we have to set loose to be above 40 2.0\n"
     ]
    }
   ],
   "source": [
    "print('the number of constraints we have to set loose to be above 40',z_y_left.solution_value())"
   ]
  },
  {
   "cell_type": "markdown",
   "metadata": {},
   "source": [
    "**Right Femur Head**"
   ]
  },
  {
   "cell_type": "code",
   "execution_count": 43,
   "metadata": {},
   "outputs": [
    {
     "name": "stdout",
     "output_type": "stream",
     "text": [
      "right femur head voxel values\n"
     ]
    },
    {
     "data": {
      "text/plain": [
       "array([20.64, 33.62,  4.08, 10.03, 20.73, 36.68,  1.27,  4.12, 11.33,\n",
       "       25.85,  0.37,  1.74,  6.67, 19.48,  0.3 ,  1.59,  6.58, 20.02,\n",
       "        0.99,  3.67, 11.35, 28.19,  3.48,  9.54, 21.94, 42.74, 21.21,\n",
       "       38.1 ])"
      ]
     },
     "execution_count": 43,
     "metadata": {},
     "output_type": "execute_result"
    }
   ],
   "source": [
    "# max dose to a voxel: 50 \n",
    "Right_voxel = []\n",
    "every = 0\n",
    "for i in Right_index:\n",
    "    every = round(voxels[i].solution_value(),2)\n",
    "    Right_voxel.append(every)\n",
    "print(\"right femur head voxel values\")\n",
    "np.array(Right_voxel)"
   ]
  },
  {
   "cell_type": "code",
   "execution_count": 44,
   "metadata": {},
   "outputs": [
    {
     "name": "stdout",
     "output_type": "stream",
     "text": [
      "distances to 79.2 if voxel value is above 50\n",
      " [[0. 0. 0. 0. 0. 0. 0. 0. 0. 0. 0. 0. 0. 0. 0. 0. 0. 0. 0. 0. 0. 0. 0. 0.\n",
      "  0. 0. 0. 0.]]\n"
     ]
    }
   ],
   "source": [
    "# slack variable needed to fullfill the constraints\n",
    "zrl1 = np.array([[x.solution_value() for x in z_rl_1]])\n",
    "print('distances to 79.2 if voxel value is above 50\\n',zrl1)"
   ]
  },
  {
   "cell_type": "code",
   "execution_count": 45,
   "metadata": {},
   "outputs": [
    {
     "name": "stdout",
     "output_type": "stream",
     "text": [
      "are there values more than 50?\n",
      "False\n",
      "how many percentage of voxel values are more than 50?\n",
      "0.0 %\n"
     ]
    }
   ],
   "source": [
    "# check if there's any right voxel value that is bigger than 50\n",
    "print('are there values more than 50?')\n",
    "print(max(Right_voxel) > 50)\n",
    "\n",
    "print('how many percentage of voxel values are more than 50?')\n",
    "\n",
    "print(round(sum((np.array(Right_voxel) >50)*1)/len(Right_voxel),2)*100,'%')"
   ]
  },
  {
   "cell_type": "code",
   "execution_count": 46,
   "metadata": {},
   "outputs": [
    {
     "name": "stdout",
     "output_type": "stream",
     "text": [
      "voxel that are larger that 40 are indicated by 1 \n",
      " [0. 0. 0. 0. 1. 0. 0. 0. 0. 0. 0. 0. 0. 0. 0. 0. 0. 0. 0. 0. 0. 0. 0. 0.\n",
      " 0. 1. 0. 0.]\n"
     ]
    }
   ],
   "source": [
    "# at most 15% of the right  femur head should receive > 40\n",
    "y_right_value = np.array([t.solution_value() for t in y_right])\n",
    "print('voxel that are larger that 40 are indicated by 1 \\n',y_right_value)"
   ]
  },
  {
   "cell_type": "code",
   "execution_count": 47,
   "metadata": {},
   "outputs": [
    {
     "name": "stdout",
     "output_type": "stream",
     "text": [
      "0.0357  of the right femur voxels are above 40\n"
     ]
    }
   ],
   "source": [
    "test_right = np.array(list(map(lambda x: 1 if x > 40.00 else 0,Right_voxel)))\n",
    "print(round(sum(test_right)/len(test_right),4), ' of the right femur voxels are above 40')"
   ]
  },
  {
   "cell_type": "code",
   "execution_count": 48,
   "metadata": {},
   "outputs": [
    {
     "name": "stdout",
     "output_type": "stream",
     "text": [
      "voxel that are larger that 40 are indicated by 1 \n",
      " [0 0 0 0 0 0 0 0 0 0 0 0 0 0 0 0 0 0 0 0 0 0 0 0 0 1 0 0]\n"
     ]
    }
   ],
   "source": [
    "print('voxel that are larger that 40 are indicated by 1 \\n',test_right)"
   ]
  },
  {
   "cell_type": "code",
   "execution_count": 49,
   "metadata": {},
   "outputs": [
    {
     "data": {
      "text/plain": [
       "array([ True,  True,  True,  True, False,  True,  True,  True,  True,\n",
       "        True,  True,  True,  True,  True,  True,  True,  True,  True,\n",
       "        True,  True,  True,  True,  True,  True,  True,  True,  True,\n",
       "        True])"
      ]
     },
     "execution_count": 49,
     "metadata": {},
     "output_type": "execute_result"
    }
   ],
   "source": [
    "test_right == y_right_value"
   ]
  },
  {
   "cell_type": "code",
   "execution_count": 50,
   "metadata": {},
   "outputs": [
    {
     "name": "stdout",
     "output_type": "stream",
     "text": [
      "the number of constraints we have to set loose to be above 40 0.0\n"
     ]
    }
   ],
   "source": [
    "print('the number of constraints we have to set loose to be above 40',z_y_right.solution_value())"
   ]
  },
  {
   "cell_type": "code",
   "execution_count": null,
   "metadata": {},
   "outputs": [],
   "source": []
  }
 ],
 "metadata": {
  "kernelspec": {
   "display_name": "Python 3",
   "language": "python",
   "name": "python3"
  },
  "language_info": {
   "codemirror_mode": {
    "name": "ipython",
    "version": 3
   },
   "file_extension": ".py",
   "mimetype": "text/x-python",
   "name": "python",
   "nbconvert_exporter": "python",
   "pygments_lexer": "ipython3",
   "version": "3.8.3"
  }
 },
 "nbformat": 4,
 "nbformat_minor": 4
}
