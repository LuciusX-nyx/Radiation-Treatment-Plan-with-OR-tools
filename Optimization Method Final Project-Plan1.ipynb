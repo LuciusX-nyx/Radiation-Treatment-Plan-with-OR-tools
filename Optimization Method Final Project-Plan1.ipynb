{
 "cells": [
  {
   "cell_type": "code",
   "execution_count": 1,
   "metadata": {},
   "outputs": [],
   "source": [
    "from ortools.linear_solver import pywraplp\n",
    "from ortools.linear_solver import pywraplp\n",
    "import numpy as np\n",
    "from itertools import combinations\n",
    "import pandas as pd\n",
    "import numpy as np"
   ]
  },
  {
   "cell_type": "code",
   "execution_count": 2,
   "metadata": {},
   "outputs": [],
   "source": [
    "dose_matrix = pd.read_csv('DoseMatrix.csv')"
   ]
  },
  {
   "cell_type": "code",
   "execution_count": 3,
   "metadata": {},
   "outputs": [],
   "source": [
    "dose_matrix =np.array(dose_matrix)"
   ]
  },
  {
   "cell_type": "code",
   "execution_count": 4,
   "metadata": {},
   "outputs": [],
   "source": [
    "CTV_index=[167, 168, 169, 170, 171, 172, 173, 186, 187, 188, 189, 190, \n",
    "     191, 192, 193, 194, 206, 207, 208, 209, 210, 211, 212, 213, \n",
    "     214, 227, 228, 229, 230, 231, 232, 233]\n",
    "\n",
    "bladder_index=[87, 88, 89, 90, 91, 92, 93, 106, 107, 108, 109, 110, \n",
    "         111, 112, 113, 114, 126, 127, 128, 129, 130, 131, 132, \n",
    "         133, 134, 147, 148, 149, 150, 151, 152, 153]\n",
    "\n",
    "Rectal_index=[248, 249, 250, 251, 252, 267, 268, 269, 270, 271, 272, \n",
    "        273, 287, 288, 289, 290, 291, 292, 293, 308, 309, 310, 311, 312]\n",
    "\n",
    "Un_index=[0, 1, 2, 3, 4, 5, 6, 7, 8, 9, 10, 11, 12, 13, 14, 15, 16, 17, 18, 19, 20, \n",
    "             21, 22, 23, 24, 25, 26, 27, 28, 29, 30, 31, 32, 33, 34, 35, 36, 37, 38, 39, 40, \n",
    "             41, 42, 43, 44, 45, 46, 47, 48, 49, 50, 51, 52, 53, 54, 55, 56, 57, 58, 59, 60, \n",
    "             61, 62, 63, 64, 65, 66, 67, 68, 69, 70, 71, 72, 73, 74, 75, 76, 77, 78, 79, 80, \n",
    "             81, 82, 83, 84, 85, 86, 94, 95, 96, 97, 98, 99, 100, 101, 104, 105, 115, 118, 119, 120,\n",
    "             125, 139, 140, 145, 146, 154, 159, 160, 165, 166, 174, 179, 180, 185, 199, 200, 205, 219, 220, \n",
    "             225, 226, 234, 239, 240, 241, 244, 245, 246, 247, 253, 254, 255, 258, 259, 260, 261, 262, 263, \n",
    "             264, 265, 266, 274, 275, 276, 277, 278, 279, 280, 281, 282, 283, 284, 285, 286, 294, 295, 296, \n",
    "             297, 298, 299, 300, 301, 302, 303, 304, 305, 306, 307, 313, 314, 315, 316, 317, 318, 319, 320, \n",
    "             321, 322, 323, 324, 325, 326, 327, 328, 329, 330, 331, 332, 333, 334, 335, 336, 337, 338, 339, \n",
    "             340, 341, 342, 343, 344, 345, 346, 347, 348, 349, 350, 351, 352, 353, 354, 355, 356, 357, 358, \n",
    "             359, 360, 361, 362, 363, 364, 365, 366, 367, 368, 369, 370, 371, 372, 373, 374, 375, 376, 377, \n",
    "             378, 379, 380, 381, 382, 383, 384, 385, 386, 387, 388, 389, 390, 391, 392, 393, 394, 395, 396, \n",
    "             397, 398, 399]\n",
    "\n",
    "Left_index=[116, 117, 135, 136, 137, 138, 155, 156, 157, 158, 175, 176, 177, 178,\n",
    "       195, 196, 197, 198, 215, 216, 217, 218, 235, 236, 237, 238, 256, 257]\n",
    "\n",
    "Right_index=[101, 102, 120, 121, 122, 123, 140, 141, 142, 143, 160, 161, 162, \n",
    "       163, 180, 181, 182, 183, 200, 201, 202, 203, 220, 221, 222, 223, 241, 242]"
   ]
  },
  {
   "cell_type": "code",
   "execution_count": 5,
   "metadata": {},
   "outputs": [
    {
     "name": "stdout",
     "output_type": "stream",
     "text": [
      "Problem solved in 7296.000000 milliseconds\n",
      "error 276454.3426513021\n"
     ]
    }
   ],
   "source": [
    "solver = pywraplp.Solver('Final Project',\n",
    "                         pywraplp.Solver.CBC_MIXED_INTEGER_PROGRAMMING)\n",
    "objective=solver.Objective() \n",
    "objective.SetMinimization()\n",
    "\n",
    "# Decision Variables\n",
    "beamlets = []\n",
    "for i in range(60):\n",
    "    beamlets.append(solver.NumVar(0,solver.infinity(), 'beamlets[%d]' % i))\n",
    "voxels = []    \n",
    "for i in range(400):\n",
    "    voxels.append(solver.NumVar(0,solver.infinity(),'voxels[%d]' % i))\n",
    "\n",
    "    \n",
    "#Constraints\n",
    "voxel_constraints = [0 for _ in range(400)]\n",
    "for i in range(400):\n",
    "    voxel_constraints[i] = solver.Constraint(0,0)\n",
    "    for j in range(60):\n",
    "        voxel_constraints[i].SetCoefficient(beamlets[j],dose_matrix[i,j+1])\n",
    "    voxel_constraints[i].SetCoefficient(voxels[i], -1)\n",
    "        \n",
    "######################################################## CTV#################################################\n",
    "\n",
    "# every voxel receives a uniform dose of 82.8       ( = 82.8)\n",
    "z_p = [0 for _ in range(len(CTV_index))]\n",
    "z_n = [0 for _ in range(len(CTV_index))]\n",
    "\n",
    "for i in range(len(CTV_index)):\n",
    "    z_p[i] = solver.NumVar(0, 82.8*0.08, \"Z plus CTV %d\" %i)\n",
    "    z_n[i] = solver.NumVar(0, 82.8*0.05, \"Z minus CTV %d\" %i)\n",
    "     \n",
    "CTV_constraint = [0 for _ in range(len(CTV_index))]\n",
    "for i in range(len(CTV_index)):\n",
    "    CTV_constraint[i] = solver.Constraint(82.8,82.8)\n",
    "    \n",
    "    for j in range(60):\n",
    "        CTV_constraint[i].SetCoefficient(beamlets[j],dose_matrix[CTV_index[i],j+1])\n",
    "    CTV_constraint[i].SetCoefficient(z_p[i],1)\n",
    "    CTV_constraint[i].SetCoefficient(z_n[i],-1)\n",
    "\n",
    "    \n",
    "    \n",
    "############################################ bladder ####################################################\n",
    "\n",
    "# # max dose to a voxel 81 ( < = 81)\n",
    "z_b_1 = [0 for _ in range(len(bladder_index))]\n",
    "\n",
    "for i in range(len(bladder_index)):\n",
    "    z_b_1[i] = solver.NumVar(0, solver.infinity(), \"z bladder #1 %d\" %i)\n",
    "    \n",
    "\n",
    "bladder_constraint_1 = [0 for _ in range(len(bladder_index))]\n",
    "for i in range(len(bladder_index)):\n",
    "    bladder_constraint_1[i] = solver.Constraint(-solver.infinity(),81)\n",
    "    for j in range(60):\n",
    "        bladder_constraint_1[i].SetCoefficient(beamlets[j],dose_matrix[bladder_index[i],j+1])\n",
    "    bladder_constraint_1[i].SetCoefficient(z_b_1[i],-1)\n",
    "\n",
    "\n",
    "# Average dose should be <= 50     ( <= 50)\n",
    "\n",
    "z_b_2 = solver.NumVar(0, solver.infinity(), \"z bladder #2 %d\" %i)\n",
    "bladder_constraint_2 = solver.Constraint(-solver.infinity(), 50)\n",
    "bladder_constraint_2.SetCoefficient(z_b_2, -1)\n",
    "\n",
    "for i in bladder_index:\n",
    "    bladder_constraint_2.SetCoefficient(voxels[i],1/len(bladder_index))\n",
    "\n",
    "        \n",
    "    \n",
    "# at most 10% of the bladder should receive a dose >65          ( >65)\n",
    "y = [0 for _ in range(len(bladder_index))]\n",
    "z_y = solver.IntVar(0,1, \"z y constraint bladder\")\n",
    "\n",
    "for i in range(len(bladder_index)):\n",
    "     y[i] = solver.IntVar(0,1,\"y bladder %d\" %i)\n",
    "\n",
    "bladder_constraint_3 = [0 for _ in range(len(bladder_index))]\n",
    "for i in range(len(bladder_index)):\n",
    "    bladder_constraint_3[i] = solver.Constraint(-solver.infinity(),65)\n",
    "    for j in range(60):\n",
    "        bladder_constraint_3[i].SetCoefficient(beamlets[j],dose_matrix[bladder_index[i],j+1])\n",
    "    bladder_constraint_3[i].SetCoefficient(y[i],-100)\n",
    "\n",
    "bladder_constraint_3b = solver.Constraint(-solver.infinity(),0.1*len(bladder_index))\n",
    "for j in range(len(bladder_index)):\n",
    "     bladder_constraint_3b.SetCoefficient(y[j],1)\n",
    "bladder_constraint_3b.SetCoefficient(z_y, -1)\n",
    "\n",
    "        \n",
    "        \n",
    "\n",
    "        \n",
    "# ####################### Rectal########################################\n",
    "\n",
    "#max dose to a voxel: 79.2              ( < = 79.2)\n",
    "\n",
    "z_r_1 = [0 for _ in range(len(Rectal_index))]\n",
    "\n",
    "for i in range(len(Rectal_index)):\n",
    "    z_r_1[i] = solver.NumVar(0, solver.infinity(), \"z rectal #1 %d\" %i)\n",
    "    \n",
    "\n",
    "Rectal_constraint_1 = [0 for _ in range(len(Rectal_index))]\n",
    "for i in range(len(Rectal_index)):\n",
    "    Rectal_constraint_1[i] = solver.Constraint(-solver.infinity(),79.2)\n",
    "    for j in range(60):\n",
    "        Rectal_constraint_1[i].SetCoefficient(beamlets[j],dose_matrix[Rectal_index[i],j+1])\n",
    "    Rectal_constraint_1[i].SetCoefficient(z_r_1[i],-1)\n",
    "\n",
    "    \n",
    "    \n",
    "# #average dose should be <= 40\n",
    "\n",
    "z_r_2 = solver.NumVar(0, solver.infinity(), \"z rectal #2 %d\" %i)\n",
    "Rectal_constraint_2 = solver.Constraint(-solver.infinity(), 40)\n",
    "Rectal_constraint_2.SetCoefficient(z_r_2, -1.0)\n",
    "\n",
    "for i in Rectal_index:\n",
    "    Rectal_constraint_2.SetCoefficient(voxels[i],1/len(Rectal_index))\n",
    "\n",
    "\n",
    "\n",
    "# ############################## Unspecified ############################\n",
    "\n",
    "# max dose to a voxel: 72         ( < =72)\n",
    "\n",
    "z_u_1 = [0 for _ in range(len(Un_index))]\n",
    "\n",
    "for i in range(len(Un_index)):\n",
    "    z_u_1[i] = solver.NumVar(0, solver.infinity(), \"z Unspecified #1 %d\" %i)\n",
    "    \n",
    "\n",
    "Un_constraint_1 = [0 for _ in range(len(Un_index))]\n",
    "for i in range(len(Un_index)):\n",
    "    Un_constraint_1[i] = solver.Constraint(-solver.infinity(),72)\n",
    "    for j in range(60):\n",
    "        Un_constraint_1[i].SetCoefficient(beamlets[j],dose_matrix[Un_index[i],j+1])\n",
    "    Un_constraint_1[i].SetCoefficient(z_u_1[i],-1)\n",
    "\n",
    "\n",
    "#############################Left femur head ##########################\n",
    "\n",
    "#max dose to a voxel: 50            ( <= 50)\n",
    "  \n",
    "z_l_1 = [0 for _ in range(len(Left_index))]\n",
    "\n",
    "for i in range(len(Left_index)):\n",
    "    z_l_1[i] = solver.NumVar(0, solver.infinity(), \"z left femur #1 %d\" %i)\n",
    "    \n",
    "\n",
    "left_constraint_1 = [0 for _ in range(len(Left_index))]\n",
    "for i in range(len(Left_index)):\n",
    "    left_constraint_1[i] = solver.Constraint(-solver.infinity(),50)\n",
    "    for j in range(60):\n",
    "        left_constraint_1[i].SetCoefficient(beamlets[j],dose_matrix[Left_index[i],j+1])\n",
    "    left_constraint_1[i].SetCoefficient(z_l_1[i],-1)    \n",
    "        \n",
    "\n",
    "        \n",
    "# at most 10% of the left femur should receive a dose > 40 \n",
    "y_left = [0 for _ in range(len(Left_index))]\n",
    "z_y_left = solver.IntVar(0,1, \"z y constraint left femur\")\n",
    "\n",
    "for i in range(len(Left_index)):\n",
    "     y_left[i] = solver.IntVar(0,1,\"y left femur %d\" %i)\n",
    "\n",
    "Left_constraint_3 = [0 for _ in range(len(Left_index))]\n",
    "for i in range(len(Left_index)):\n",
    "    Left_constraint_3[i] = solver.Constraint(-solver.infinity(),40)\n",
    "    for j in range(60):\n",
    "        Left_constraint_3[i].SetCoefficient(beamlets[j],dose_matrix[Left_index[i],j+1])\n",
    "    Left_constraint_3[i].SetCoefficient(y_left[i],-100)\n",
    "\n",
    "Left_constraint_3b = solver.Constraint(-solver.infinity(),0.15*len(Left_index))\n",
    "for j in range(len(Left_index)):\n",
    "     Left_constraint_3b.SetCoefficient(y_left[j],1)\n",
    "Left_constraint_3b.SetCoefficient(z_y_left,-1)\n",
    "\n",
    "\n",
    "############################# right femur head ##########################\n",
    "\n",
    "\n",
    "#max dose to a voxel: 50               ( <= 50 )\n",
    "z_rl_1 = [0 for _ in range(len(Right_index))]\n",
    "\n",
    "for i in range(len(Right_index)):\n",
    "    z_rl_1[i] = solver.NumVar(0, solver.infinity(), \"z right femur #1 %d\" %i)\n",
    "    \n",
    "\n",
    "Right_constraint_1 = [0 for _ in range(len(Right_index))]\n",
    "for i in range(len(Right_index)):\n",
    "    Right_constraint_1[i] = solver.Constraint(-solver.infinity(),50)\n",
    "    for j in range(60):\n",
    "        Right_constraint_1[i].SetCoefficient(beamlets[j],dose_matrix[Right_index[i],j+1])\n",
    "    Right_constraint_1[i].SetCoefficient(z_rl_1[i],-1)    \n",
    "        \n",
    "\n",
    "        \n",
    "# at most 10% of the right femur should receive a dose > 40 \n",
    "y_right = [0 for _ in range(len(Right_index))]\n",
    "z_y_right = solver.IntVar(0,2, \"z y constraint right femur\")\n",
    "\n",
    "for i in range(len(Right_index)):\n",
    "     y_right[i] = solver.IntVar(0,1,\"y right femur %d\" %i)\n",
    "\n",
    "Right_constraint_3 = [0 for _ in range(len(Right_index))]\n",
    "for i in range(len(Right_index)):\n",
    "    \n",
    "    # <= 40\n",
    "    Right_constraint_3[i] = solver.Constraint(-solver.infinity(),40)\n",
    "    for j in range(60):\n",
    "        Right_constraint_3[i].SetCoefficient(beamlets[j],dose_matrix[Right_index[i],j+1])\n",
    "    # Big M constraint\n",
    "    Right_constraint_3[i].SetCoefficient(y_right[i],-100)\n",
    "\n",
    "Right_constraint_3b = solver.Constraint(-solver.infinity(),0.15*len(Right_index))\n",
    "for j in range(len(Right_index)):\n",
    "     Right_constraint_3b.SetCoefficient(y_right[j],1)\n",
    "Right_constraint_3b.SetCoefficient(z_y_right, -1)\n",
    "        \n",
    "        \n",
    "########################## Objective Function ###########################\n",
    "\n",
    "# CTV\n",
    "for i in range(len(z_p)):\n",
    "    objective.SetCoefficient(z_p[i],1000)\n",
    "    objective.SetCoefficient(z_n[i],1000)\n",
    "\n",
    "# Bladders\n",
    "for i in range(len(z_b_1)):\n",
    "    objective.SetCoefficient(z_b_1[i],1)\n",
    "\n",
    "objective.SetCoefficient(z_b_2,100)\n",
    "\n",
    "# Rectal Solids\n",
    "for i in range(len(z_r_1)):\n",
    "    objective.SetCoefficient(z_r_1[i],1)\n",
    "    \n",
    "objective.SetCoefficient(z_r_2,6000)\n",
    "\n",
    "#Unspecified\n",
    "for i in range(len(z_u_1)):\n",
    "    objective.SetCoefficient(z_u_1[i],1)\n",
    "\n",
    "# left femur head\n",
    "for i in range(len(z_l_1)):\n",
    "    objective.SetCoefficient(z_l_1[i],5000)\n",
    "\n",
    "#right femur head\n",
    "for i in range(len(z_rl_1)):\n",
    "    objective.SetCoefficient(z_rl_1[i],1)\n",
    "\n",
    "# bladder, left femur, right femur's at most constraint\n",
    "objective.SetCoefficient(z_y,1)\n",
    "objective.SetCoefficient(z_y_left,1)\n",
    "objective.SetCoefficient(z_y_right,1)\n",
    "\n",
    "status = solver.Solve()\n",
    "\n",
    "if status == solver.OPTIMAL:\n",
    "    print('Problem solved in %f milliseconds' %solver.wall_time())\n",
    "elif status == solver.FEASIBLE:\n",
    "    print('Solver claims feasibility but not optimality')\n",
    "else:\n",
    "    print('Solver ran to completion but did not find an optimal solution')\n",
    "\n",
    "print('error',objective.Value()) \n",
    "\n",
    "\n",
    "#print(bladder_constraint_2.dual_value())\n",
    "\n",
    "#print(solver.ExportModelAsLpFormat(False).replace('\\\\', '').replace(',_', ','), sep='\\n')"
   ]
  },
  {
   "cell_type": "code",
   "execution_count": 6,
   "metadata": {},
   "outputs": [
    {
     "name": "stdout",
     "output_type": "stream",
     "text": [
      "0.0\n"
     ]
    }
   ],
   "source": [
    "print(bladder_constraint_2.dual_value())"
   ]
  },
  {
   "cell_type": "code",
   "execution_count": 7,
   "metadata": {},
   "outputs": [],
   "source": [
    "#print(solver.ExportModelAsLpFormat(False).replace('\\\\', '').replace(',_', ','), sep='\\n')"
   ]
  },
  {
   "cell_type": "markdown",
   "metadata": {},
   "source": [
    "## All Voxels"
   ]
  },
  {
   "cell_type": "code",
   "execution_count": 8,
   "metadata": {
    "scrolled": true
   },
   "outputs": [
    {
     "data": {
      "text/html": [
       "<div>\n",
       "<style scoped>\n",
       "    .dataframe tbody tr th:only-of-type {\n",
       "        vertical-align: middle;\n",
       "    }\n",
       "\n",
       "    .dataframe tbody tr th {\n",
       "        vertical-align: top;\n",
       "    }\n",
       "\n",
       "    .dataframe thead th {\n",
       "        text-align: right;\n",
       "    }\n",
       "</style>\n",
       "<table border=\"1\" class=\"dataframe\">\n",
       "  <thead>\n",
       "    <tr style=\"text-align: right;\">\n",
       "      <th></th>\n",
       "      <th>1</th>\n",
       "      <th>2</th>\n",
       "      <th>3</th>\n",
       "      <th>4</th>\n",
       "      <th>5</th>\n",
       "      <th>6</th>\n",
       "      <th>7</th>\n",
       "      <th>8</th>\n",
       "      <th>9</th>\n",
       "      <th>10</th>\n",
       "      <th>11</th>\n",
       "      <th>12</th>\n",
       "      <th>13</th>\n",
       "      <th>14</th>\n",
       "      <th>15</th>\n",
       "      <th>16</th>\n",
       "      <th>17</th>\n",
       "      <th>18</th>\n",
       "      <th>19</th>\n",
       "      <th>20</th>\n",
       "    </tr>\n",
       "  </thead>\n",
       "  <tbody>\n",
       "    <tr>\n",
       "      <th>1</th>\n",
       "      <td>68.34</td>\n",
       "      <td>55.43</td>\n",
       "      <td>46.17</td>\n",
       "      <td>44.71</td>\n",
       "      <td>46.78</td>\n",
       "      <td>43.26</td>\n",
       "      <td>30.57</td>\n",
       "      <td>15.82</td>\n",
       "      <td>6.60</td>\n",
       "      <td>3.35</td>\n",
       "      <td>3.33</td>\n",
       "      <td>5.58</td>\n",
       "      <td>10.53</td>\n",
       "      <td>16.20</td>\n",
       "      <td>19.06</td>\n",
       "      <td>19.21</td>\n",
       "      <td>19.46</td>\n",
       "      <td>20.47</td>\n",
       "      <td>20.64</td>\n",
       "      <td>19.22</td>\n",
       "    </tr>\n",
       "    <tr>\n",
       "      <th>2</th>\n",
       "      <td>68.78</td>\n",
       "      <td>63.03</td>\n",
       "      <td>52.77</td>\n",
       "      <td>47.95</td>\n",
       "      <td>50.24</td>\n",
       "      <td>50.03</td>\n",
       "      <td>39.53</td>\n",
       "      <td>23.85</td>\n",
       "      <td>11.89</td>\n",
       "      <td>6.13</td>\n",
       "      <td>4.94</td>\n",
       "      <td>7.54</td>\n",
       "      <td>14.00</td>\n",
       "      <td>21.47</td>\n",
       "      <td>25.49</td>\n",
       "      <td>25.60</td>\n",
       "      <td>24.55</td>\n",
       "      <td>23.26</td>\n",
       "      <td>21.22</td>\n",
       "      <td>19.08</td>\n",
       "    </tr>\n",
       "    <tr>\n",
       "      <th>3</th>\n",
       "      <td>57.36</td>\n",
       "      <td>63.37</td>\n",
       "      <td>59.65</td>\n",
       "      <td>54.06</td>\n",
       "      <td>53.53</td>\n",
       "      <td>53.56</td>\n",
       "      <td>45.89</td>\n",
       "      <td>32.18</td>\n",
       "      <td>19.64</td>\n",
       "      <td>11.83</td>\n",
       "      <td>9.17</td>\n",
       "      <td>11.94</td>\n",
       "      <td>19.79</td>\n",
       "      <td>28.63</td>\n",
       "      <td>32.83</td>\n",
       "      <td>31.49</td>\n",
       "      <td>27.76</td>\n",
       "      <td>23.94</td>\n",
       "      <td>21.07</td>\n",
       "      <td>19.59</td>\n",
       "    </tr>\n",
       "    <tr>\n",
       "      <th>4</th>\n",
       "      <td>38.72</td>\n",
       "      <td>52.88</td>\n",
       "      <td>59.97</td>\n",
       "      <td>60.54</td>\n",
       "      <td>59.45</td>\n",
       "      <td>56.76</td>\n",
       "      <td>49.02</td>\n",
       "      <td>38.09</td>\n",
       "      <td>28.16</td>\n",
       "      <td>20.95</td>\n",
       "      <td>17.70</td>\n",
       "      <td>20.16</td>\n",
       "      <td>28.28</td>\n",
       "      <td>37.03</td>\n",
       "      <td>39.70</td>\n",
       "      <td>35.34</td>\n",
       "      <td>28.65</td>\n",
       "      <td>23.82</td>\n",
       "      <td>21.64</td>\n",
       "      <td>20.28</td>\n",
       "    </tr>\n",
       "    <tr>\n",
       "      <th>5</th>\n",
       "      <td>21.03</td>\n",
       "      <td>35.82</td>\n",
       "      <td>50.44</td>\n",
       "      <td>61.10</td>\n",
       "      <td>65.83</td>\n",
       "      <td>62.40</td>\n",
       "      <td>51.80</td>\n",
       "      <td>41.24</td>\n",
       "      <td>35.32</td>\n",
       "      <td>32.36</td>\n",
       "      <td>30.96</td>\n",
       "      <td>32.98</td>\n",
       "      <td>39.44</td>\n",
       "      <td>45.59</td>\n",
       "      <td>44.59</td>\n",
       "      <td>36.74</td>\n",
       "      <td>28.70</td>\n",
       "      <td>24.49</td>\n",
       "      <td>22.41</td>\n",
       "      <td>19.11</td>\n",
       "    </tr>\n",
       "    <tr>\n",
       "      <th>6</th>\n",
       "      <td>9.20</td>\n",
       "      <td>19.64</td>\n",
       "      <td>34.91</td>\n",
       "      <td>52.72</td>\n",
       "      <td>66.98</td>\n",
       "      <td>68.79</td>\n",
       "      <td>57.37</td>\n",
       "      <td>44.98</td>\n",
       "      <td>41.30</td>\n",
       "      <td>43.83</td>\n",
       "      <td>46.80</td>\n",
       "      <td>49.25</td>\n",
       "      <td>52.42</td>\n",
       "      <td>53.32</td>\n",
       "      <td>47.51</td>\n",
       "      <td>37.48</td>\n",
       "      <td>29.70</td>\n",
       "      <td>25.40</td>\n",
       "      <td>21.13</td>\n",
       "      <td>15.05</td>\n",
       "    </tr>\n",
       "    <tr>\n",
       "      <th>7</th>\n",
       "      <td>3.25</td>\n",
       "      <td>8.83</td>\n",
       "      <td>20.22</td>\n",
       "      <td>38.95</td>\n",
       "      <td>60.24</td>\n",
       "      <td>71.14</td>\n",
       "      <td>65.00</td>\n",
       "      <td>53.08</td>\n",
       "      <td>49.23</td>\n",
       "      <td>54.34</td>\n",
       "      <td>61.25</td>\n",
       "      <td>65.00</td>\n",
       "      <td>65.00</td>\n",
       "      <td>60.59</td>\n",
       "      <td>51.11</td>\n",
       "      <td>40.00</td>\n",
       "      <td>31.23</td>\n",
       "      <td>24.14</td>\n",
       "      <td>16.70</td>\n",
       "      <td>9.50</td>\n",
       "    </tr>\n",
       "    <tr>\n",
       "      <th>8</th>\n",
       "      <td>0.95</td>\n",
       "      <td>3.43</td>\n",
       "      <td>10.54</td>\n",
       "      <td>26.25</td>\n",
       "      <td>49.33</td>\n",
       "      <td>67.78</td>\n",
       "      <td>71.08</td>\n",
       "      <td>65.00</td>\n",
       "      <td>61.65</td>\n",
       "      <td>65.00</td>\n",
       "      <td>71.18</td>\n",
       "      <td>75.02</td>\n",
       "      <td>74.52</td>\n",
       "      <td>69.15</td>\n",
       "      <td>58.44</td>\n",
       "      <td>44.57</td>\n",
       "      <td>31.13</td>\n",
       "      <td>19.69</td>\n",
       "      <td>10.70</td>\n",
       "      <td>4.75</td>\n",
       "    </tr>\n",
       "    <tr>\n",
       "      <th>9</th>\n",
       "      <td>0.28</td>\n",
       "      <td>1.45</td>\n",
       "      <td>6.11</td>\n",
       "      <td>18.95</td>\n",
       "      <td>41.05</td>\n",
       "      <td>62.90</td>\n",
       "      <td>73.99</td>\n",
       "      <td>76.18</td>\n",
       "      <td>76.18</td>\n",
       "      <td>76.18</td>\n",
       "      <td>76.31</td>\n",
       "      <td>77.52</td>\n",
       "      <td>80.01</td>\n",
       "      <td>79.22</td>\n",
       "      <td>68.62</td>\n",
       "      <td>49.19</td>\n",
       "      <td>29.04</td>\n",
       "      <td>14.30</td>\n",
       "      <td>5.87</td>\n",
       "      <td>1.97</td>\n",
       "    </tr>\n",
       "    <tr>\n",
       "      <th>10</th>\n",
       "      <td>0.21</td>\n",
       "      <td>1.25</td>\n",
       "      <td>5.67</td>\n",
       "      <td>18.26</td>\n",
       "      <td>40.31</td>\n",
       "      <td>62.75</td>\n",
       "      <td>76.18</td>\n",
       "      <td>82.80</td>\n",
       "      <td>86.21</td>\n",
       "      <td>84.34</td>\n",
       "      <td>78.66</td>\n",
       "      <td>76.96</td>\n",
       "      <td>82.82</td>\n",
       "      <td>86.80</td>\n",
       "      <td>76.18</td>\n",
       "      <td>52.24</td>\n",
       "      <td>27.83</td>\n",
       "      <td>11.77</td>\n",
       "      <td>4.04</td>\n",
       "      <td>1.13</td>\n",
       "    </tr>\n",
       "    <tr>\n",
       "      <th>11</th>\n",
       "      <td>0.63</td>\n",
       "      <td>2.55</td>\n",
       "      <td>8.80</td>\n",
       "      <td>24.01</td>\n",
       "      <td>48.17</td>\n",
       "      <td>70.33</td>\n",
       "      <td>80.93</td>\n",
       "      <td>84.46</td>\n",
       "      <td>86.49</td>\n",
       "      <td>84.95</td>\n",
       "      <td>80.22</td>\n",
       "      <td>78.94</td>\n",
       "      <td>84.09</td>\n",
       "      <td>86.94</td>\n",
       "      <td>76.18</td>\n",
       "      <td>53.45</td>\n",
       "      <td>30.39</td>\n",
       "      <td>14.54</td>\n",
       "      <td>5.99</td>\n",
       "      <td>2.10</td>\n",
       "    </tr>\n",
       "    <tr>\n",
       "      <th>12</th>\n",
       "      <td>2.19</td>\n",
       "      <td>6.40</td>\n",
       "      <td>16.32</td>\n",
       "      <td>35.79</td>\n",
       "      <td>62.84</td>\n",
       "      <td>83.91</td>\n",
       "      <td>88.11</td>\n",
       "      <td>82.34</td>\n",
       "      <td>78.31</td>\n",
       "      <td>78.62</td>\n",
       "      <td>80.59</td>\n",
       "      <td>82.15</td>\n",
       "      <td>82.80</td>\n",
       "      <td>79.89</td>\n",
       "      <td>69.35</td>\n",
       "      <td>52.68</td>\n",
       "      <td>35.80</td>\n",
       "      <td>22.11</td>\n",
       "      <td>12.07</td>\n",
       "      <td>5.55</td>\n",
       "    </tr>\n",
       "    <tr>\n",
       "      <th>13</th>\n",
       "      <td>6.41</td>\n",
       "      <td>14.60</td>\n",
       "      <td>29.18</td>\n",
       "      <td>52.54</td>\n",
       "      <td>80.95</td>\n",
       "      <td>98.64</td>\n",
       "      <td>94.09</td>\n",
       "      <td>78.18</td>\n",
       "      <td>68.86</td>\n",
       "      <td>70.71</td>\n",
       "      <td>76.59</td>\n",
       "      <td>79.05</td>\n",
       "      <td>76.91</td>\n",
       "      <td>71.14</td>\n",
       "      <td>61.38</td>\n",
       "      <td>49.91</td>\n",
       "      <td>40.00</td>\n",
       "      <td>31.06</td>\n",
       "      <td>21.52</td>\n",
       "      <td>12.47</td>\n",
       "    </tr>\n",
       "    <tr>\n",
       "      <th>14</th>\n",
       "      <td>15.39</td>\n",
       "      <td>28.54</td>\n",
       "      <td>47.03</td>\n",
       "      <td>71.87</td>\n",
       "      <td>98.03</td>\n",
       "      <td>109.21</td>\n",
       "      <td>96.45</td>\n",
       "      <td>75.35</td>\n",
       "      <td>64.37</td>\n",
       "      <td>63.83</td>\n",
       "      <td>65.24</td>\n",
       "      <td>65.45</td>\n",
       "      <td>66.13</td>\n",
       "      <td>64.88</td>\n",
       "      <td>57.24</td>\n",
       "      <td>46.73</td>\n",
       "      <td>40.17</td>\n",
       "      <td>36.81</td>\n",
       "      <td>31.44</td>\n",
       "      <td>22.65</td>\n",
       "    </tr>\n",
       "    <tr>\n",
       "      <th>15</th>\n",
       "      <td>30.65</td>\n",
       "      <td>47.92</td>\n",
       "      <td>67.56</td>\n",
       "      <td>89.60</td>\n",
       "      <td>109.44</td>\n",
       "      <td>113.75</td>\n",
       "      <td>97.65</td>\n",
       "      <td>76.64</td>\n",
       "      <td>63.51</td>\n",
       "      <td>55.10</td>\n",
       "      <td>47.71</td>\n",
       "      <td>45.91</td>\n",
       "      <td>52.89</td>\n",
       "      <td>60.30</td>\n",
       "      <td>56.89</td>\n",
       "      <td>45.42</td>\n",
       "      <td>37.65</td>\n",
       "      <td>37.10</td>\n",
       "      <td>37.55</td>\n",
       "      <td>33.23</td>\n",
       "    </tr>\n",
       "    <tr>\n",
       "      <th>16</th>\n",
       "      <td>51.90</td>\n",
       "      <td>70.21</td>\n",
       "      <td>86.26</td>\n",
       "      <td>100.91</td>\n",
       "      <td>113.83</td>\n",
       "      <td>116.08</td>\n",
       "      <td>101.54</td>\n",
       "      <td>79.45</td>\n",
       "      <td>59.31</td>\n",
       "      <td>41.86</td>\n",
       "      <td>29.45</td>\n",
       "      <td>28.61</td>\n",
       "      <td>40.82</td>\n",
       "      <td>54.95</td>\n",
       "      <td>56.54</td>\n",
       "      <td>45.87</td>\n",
       "      <td>35.70</td>\n",
       "      <td>33.90</td>\n",
       "      <td>37.64</td>\n",
       "      <td>39.70</td>\n",
       "    </tr>\n",
       "    <tr>\n",
       "      <th>17</th>\n",
       "      <td>76.34</td>\n",
       "      <td>90.48</td>\n",
       "      <td>97.85</td>\n",
       "      <td>104.40</td>\n",
       "      <td>115.65</td>\n",
       "      <td>121.07</td>\n",
       "      <td>106.27</td>\n",
       "      <td>76.86</td>\n",
       "      <td>47.82</td>\n",
       "      <td>26.55</td>\n",
       "      <td>15.74</td>\n",
       "      <td>17.99</td>\n",
       "      <td>32.49</td>\n",
       "      <td>48.82</td>\n",
       "      <td>53.38</td>\n",
       "      <td>45.30</td>\n",
       "      <td>35.16</td>\n",
       "      <td>31.03</td>\n",
       "      <td>33.83</td>\n",
       "      <td>39.64</td>\n",
       "    </tr>\n",
       "    <tr>\n",
       "      <th>18</th>\n",
       "      <td>98.57</td>\n",
       "      <td>102.93</td>\n",
       "      <td>100.79</td>\n",
       "      <td>104.97</td>\n",
       "      <td>120.31</td>\n",
       "      <td>126.95</td>\n",
       "      <td>104.84</td>\n",
       "      <td>65.47</td>\n",
       "      <td>32.41</td>\n",
       "      <td>14.02</td>\n",
       "      <td>8.14</td>\n",
       "      <td>13.40</td>\n",
       "      <td>28.39</td>\n",
       "      <td>43.94</td>\n",
       "      <td>48.23</td>\n",
       "      <td>41.64</td>\n",
       "      <td>33.67</td>\n",
       "      <td>29.65</td>\n",
       "      <td>30.20</td>\n",
       "      <td>35.25</td>\n",
       "    </tr>\n",
       "    <tr>\n",
       "      <th>19</th>\n",
       "      <td>112.18</td>\n",
       "      <td>105.84</td>\n",
       "      <td>100.46</td>\n",
       "      <td>108.57</td>\n",
       "      <td>125.89</td>\n",
       "      <td>126.09</td>\n",
       "      <td>93.76</td>\n",
       "      <td>49.54</td>\n",
       "      <td>19.28</td>\n",
       "      <td>6.62</td>\n",
       "      <td>5.02</td>\n",
       "      <td>12.23</td>\n",
       "      <td>27.46</td>\n",
       "      <td>41.76</td>\n",
       "      <td>43.81</td>\n",
       "      <td>35.95</td>\n",
       "      <td>29.26</td>\n",
       "      <td>27.55</td>\n",
       "      <td>28.22</td>\n",
       "      <td>30.93</td>\n",
       "    </tr>\n",
       "    <tr>\n",
       "      <th>20</th>\n",
       "      <td>115.32</td>\n",
       "      <td>105.13</td>\n",
       "      <td>103.38</td>\n",
       "      <td>113.08</td>\n",
       "      <td>124.00</td>\n",
       "      <td>114.66</td>\n",
       "      <td>77.77</td>\n",
       "      <td>36.12</td>\n",
       "      <td>11.54</td>\n",
       "      <td>3.41</td>\n",
       "      <td>4.14</td>\n",
       "      <td>12.46</td>\n",
       "      <td>28.29</td>\n",
       "      <td>42.11</td>\n",
       "      <td>41.87</td>\n",
       "      <td>30.92</td>\n",
       "      <td>22.87</td>\n",
       "      <td>22.69</td>\n",
       "      <td>25.75</td>\n",
       "      <td>28.41</td>\n",
       "    </tr>\n",
       "  </tbody>\n",
       "</table>\n",
       "</div>"
      ],
      "text/plain": [
       "        1       2       3       4       5       6       7      8      9   \\\n",
       "1    68.34   55.43   46.17   44.71   46.78   43.26   30.57  15.82   6.60   \n",
       "2    68.78   63.03   52.77   47.95   50.24   50.03   39.53  23.85  11.89   \n",
       "3    57.36   63.37   59.65   54.06   53.53   53.56   45.89  32.18  19.64   \n",
       "4    38.72   52.88   59.97   60.54   59.45   56.76   49.02  38.09  28.16   \n",
       "5    21.03   35.82   50.44   61.10   65.83   62.40   51.80  41.24  35.32   \n",
       "6     9.20   19.64   34.91   52.72   66.98   68.79   57.37  44.98  41.30   \n",
       "7     3.25    8.83   20.22   38.95   60.24   71.14   65.00  53.08  49.23   \n",
       "8     0.95    3.43   10.54   26.25   49.33   67.78   71.08  65.00  61.65   \n",
       "9     0.28    1.45    6.11   18.95   41.05   62.90   73.99  76.18  76.18   \n",
       "10    0.21    1.25    5.67   18.26   40.31   62.75   76.18  82.80  86.21   \n",
       "11    0.63    2.55    8.80   24.01   48.17   70.33   80.93  84.46  86.49   \n",
       "12    2.19    6.40   16.32   35.79   62.84   83.91   88.11  82.34  78.31   \n",
       "13    6.41   14.60   29.18   52.54   80.95   98.64   94.09  78.18  68.86   \n",
       "14   15.39   28.54   47.03   71.87   98.03  109.21   96.45  75.35  64.37   \n",
       "15   30.65   47.92   67.56   89.60  109.44  113.75   97.65  76.64  63.51   \n",
       "16   51.90   70.21   86.26  100.91  113.83  116.08  101.54  79.45  59.31   \n",
       "17   76.34   90.48   97.85  104.40  115.65  121.07  106.27  76.86  47.82   \n",
       "18   98.57  102.93  100.79  104.97  120.31  126.95  104.84  65.47  32.41   \n",
       "19  112.18  105.84  100.46  108.57  125.89  126.09   93.76  49.54  19.28   \n",
       "20  115.32  105.13  103.38  113.08  124.00  114.66   77.77  36.12  11.54   \n",
       "\n",
       "       10     11     12     13     14     15     16     17     18     19  \\\n",
       "1    3.35   3.33   5.58  10.53  16.20  19.06  19.21  19.46  20.47  20.64   \n",
       "2    6.13   4.94   7.54  14.00  21.47  25.49  25.60  24.55  23.26  21.22   \n",
       "3   11.83   9.17  11.94  19.79  28.63  32.83  31.49  27.76  23.94  21.07   \n",
       "4   20.95  17.70  20.16  28.28  37.03  39.70  35.34  28.65  23.82  21.64   \n",
       "5   32.36  30.96  32.98  39.44  45.59  44.59  36.74  28.70  24.49  22.41   \n",
       "6   43.83  46.80  49.25  52.42  53.32  47.51  37.48  29.70  25.40  21.13   \n",
       "7   54.34  61.25  65.00  65.00  60.59  51.11  40.00  31.23  24.14  16.70   \n",
       "8   65.00  71.18  75.02  74.52  69.15  58.44  44.57  31.13  19.69  10.70   \n",
       "9   76.18  76.31  77.52  80.01  79.22  68.62  49.19  29.04  14.30   5.87   \n",
       "10  84.34  78.66  76.96  82.82  86.80  76.18  52.24  27.83  11.77   4.04   \n",
       "11  84.95  80.22  78.94  84.09  86.94  76.18  53.45  30.39  14.54   5.99   \n",
       "12  78.62  80.59  82.15  82.80  79.89  69.35  52.68  35.80  22.11  12.07   \n",
       "13  70.71  76.59  79.05  76.91  71.14  61.38  49.91  40.00  31.06  21.52   \n",
       "14  63.83  65.24  65.45  66.13  64.88  57.24  46.73  40.17  36.81  31.44   \n",
       "15  55.10  47.71  45.91  52.89  60.30  56.89  45.42  37.65  37.10  37.55   \n",
       "16  41.86  29.45  28.61  40.82  54.95  56.54  45.87  35.70  33.90  37.64   \n",
       "17  26.55  15.74  17.99  32.49  48.82  53.38  45.30  35.16  31.03  33.83   \n",
       "18  14.02   8.14  13.40  28.39  43.94  48.23  41.64  33.67  29.65  30.20   \n",
       "19   6.62   5.02  12.23  27.46  41.76  43.81  35.95  29.26  27.55  28.22   \n",
       "20   3.41   4.14  12.46  28.29  42.11  41.87  30.92  22.87  22.69  25.75   \n",
       "\n",
       "       20  \n",
       "1   19.22  \n",
       "2   19.08  \n",
       "3   19.59  \n",
       "4   20.28  \n",
       "5   19.11  \n",
       "6   15.05  \n",
       "7    9.50  \n",
       "8    4.75  \n",
       "9    1.97  \n",
       "10   1.13  \n",
       "11   2.10  \n",
       "12   5.55  \n",
       "13  12.47  \n",
       "14  22.65  \n",
       "15  33.23  \n",
       "16  39.70  \n",
       "17  39.64  \n",
       "18  35.25  \n",
       "19  30.93  \n",
       "20  28.41  "
      ]
     },
     "execution_count": 8,
     "metadata": {},
     "output_type": "execute_result"
    }
   ],
   "source": [
    "All_voxels = np.zeros((400)).astype(np.float)\n",
    "for i in range(400):\n",
    "    All_voxels[i] = voxels[i].solution_value()\n",
    "#print(All_voxels.reshape(20,20))\n",
    "All_voxels = pd.DataFrame(All_voxels.reshape((20,20)), index=[i for i in range(1,21)],\n",
    "                          columns = [i for i in range(1,21)]).round(2)\n",
    "All_voxels"
   ]
  },
  {
   "cell_type": "code",
   "execution_count": 9,
   "metadata": {},
   "outputs": [],
   "source": [
    "OUTPUT  = 'output/cross_section.csv'\n",
    "cross_section = All_voxels.to_csv(OUTPUT, index=[i for i in range(1,21)], columns = [i for i in range(1,21)])"
   ]
  },
  {
   "cell_type": "markdown",
   "metadata": {},
   "source": [
    "## Check Constraint"
   ]
  },
  {
   "cell_type": "markdown",
   "metadata": {},
   "source": [
    "**Beamlets Check**"
   ]
  },
  {
   "cell_type": "code",
   "execution_count": 10,
   "metadata": {},
   "outputs": [
    {
     "name": "stdout",
     "output_type": "stream",
     "text": [
      "Beamlets values are \n",
      "[58.37244663  0.          0.          0.          0.          0.\n",
      "  0.          0.         27.56820451 17.08266308  0.          0.\n",
      "  0.          0.         11.70534165  0.          0.         27.73383687\n",
      " 14.09110277  0.          0.          0.          0.          0.\n",
      "  0.          0.          0.          0.          0.          0.\n",
      "  0.          0.          0.          0.          1.74814961  0.\n",
      "  0.          0.          0.          0.          0.          5.88528689\n",
      " 23.02291508  0.          0.         54.16128161 16.51519369  0.\n",
      "  0.          0.          0.          0.         34.17172399 11.95409216\n",
      " 82.23993589  5.30475314  0.         90.58995754  0.          0.        ]\n"
     ]
    }
   ],
   "source": [
    "# check beamlets value\n",
    "beamlets_value = []\n",
    "for i in range(60):\n",
    "    beamlets_value.append(beamlets[i].solution_value())\n",
    "print('Beamlets values are ')\n",
    "print(np.array(beamlets_value))   "
   ]
  },
  {
   "cell_type": "markdown",
   "metadata": {},
   "source": [
    "**CTV check**"
   ]
  },
  {
   "cell_type": "code",
   "execution_count": 11,
   "metadata": {},
   "outputs": [
    {
     "name": "stdout",
     "output_type": "stream",
     "text": [
      "CTV voxel dose(Gy)\n",
      "[76.176      76.176      76.176      76.31239255 77.52465707 80.01477362\n",
      " 79.21852355 76.176      82.8        86.20618394 84.34060445 78.66384695\n",
      " 76.95978459 82.8150215  86.7987772  76.176      80.92812536 84.45751493\n",
      " 86.48927114 84.94656625 80.2182888  78.93574129 84.08867192 86.94\n",
      " 76.176      82.33561291 78.3050819  78.62346097 80.58763151 82.14991244\n",
      " 82.8        79.88974016]\n"
     ]
    }
   ],
   "source": [
    "#Every voxel receives a uniform dose of 82.8 \n",
    "CTV_voxel = []\n",
    "every = 0\n",
    "for i in CTV_index:\n",
    "    every = voxels[i].solution_value() \n",
    "    CTV_voxel.append(every)\n",
    "print('CTV voxel dose(Gy)')\n",
    "print(np.array(CTV_voxel))"
   ]
  },
  {
   "cell_type": "code",
   "execution_count": 12,
   "metadata": {},
   "outputs": [
    {
     "name": "stdout",
     "output_type": "stream",
     "text": [
      "Positive distance to 82.8 \n",
      " [[6.624      6.624      6.624      6.48760745 5.27534293 2.78522638\n",
      "  3.58147645 6.624      0.         0.         0.         4.13615305\n",
      "  5.84021541 0.         0.         6.624      1.87187464 0.\n",
      "  0.         0.         2.5817112  3.86425871 0.         0.\n",
      "  6.624      0.46438709 4.4949181  4.17653903 2.21236849 0.65008756\n",
      "  0.         2.91025984]]\n",
      "\n",
      "\n",
      "Negative distance to 82.8 \n",
      " [[0.         0.         0.         0.         0.         0.\n",
      "  0.         0.         0.         3.40618394 1.54060445 0.\n",
      "  0.         0.0150215  3.9987772  0.         0.         1.65751493\n",
      "  3.68927114 2.14656625 0.         0.         1.28867192 4.14\n",
      "  0.         0.         0.         0.         0.         0.\n",
      "  0.         0.        ]]\n"
     ]
    }
   ],
   "source": [
    "# the distance to 82.8\n",
    "zp0 = np.array([[x.solution_value() for x in z_p]])\n",
    "zn0 = np.array([[x.solution_value() for x in z_n]])\n",
    "print('Positive distance to 82.8 \\n',zp0)\n",
    "print('\\n')\n",
    "print('Negative distance to 82.8 \\n',zn0)"
   ]
  },
  {
   "cell_type": "code",
   "execution_count": 13,
   "metadata": {},
   "outputs": [
    {
     "name": "stdout",
     "output_type": "stream",
     "text": [
      "maximum difference of CTV voxels values to 82.8 are  0.05000000000000018 0.0800000000000008\n"
     ]
    }
   ],
   "source": [
    "print('maximum difference of CTV voxels values to 82.8 are ', (max(CTV_voxel)-82.8)/82.8, (82.8- min(CTV_voxel))/82.8)"
   ]
  },
  {
   "cell_type": "code",
   "execution_count": 14,
   "metadata": {},
   "outputs": [
    {
     "name": "stdout",
     "output_type": "stream",
     "text": [
      "maximum CTV voxels value is  86.94000000000001\n"
     ]
    }
   ],
   "source": [
    "print('maximum CTV voxels value is ', max(CTV_voxel))"
   ]
  },
  {
   "cell_type": "code",
   "execution_count": 15,
   "metadata": {},
   "outputs": [
    {
     "name": "stdout",
     "output_type": "stream",
     "text": [
      "minimum CTV voxels value is  76.17599999999993\n"
     ]
    }
   ],
   "source": [
    "print('minimum CTV voxels value is ', min(CTV_voxel))"
   ]
  },
  {
   "cell_type": "code",
   "execution_count": 16,
   "metadata": {},
   "outputs": [
    {
     "name": "stdout",
     "output_type": "stream",
     "text": [
      "percentage of voxels below 79: 0.40625\n"
     ]
    }
   ],
   "source": [
    "print('percentage of voxels below 79:', sum((np.array(CTV_voxel) < 79)*1) / len(CTV_voxel))"
   ]
  },
  {
   "cell_type": "code",
   "execution_count": 17,
   "metadata": {},
   "outputs": [
    {
     "name": "stdout",
     "output_type": "stream",
     "text": [
      "percentage of voxels Above 86.94: 0.03125\n"
     ]
    }
   ],
   "source": [
    "print('percentage of voxels Above 86.94:', sum((np.array(CTV_voxel) > 82.8*1.05)*1) / len(CTV_voxel))"
   ]
  },
  {
   "cell_type": "markdown",
   "metadata": {},
   "source": [
    "**Bladder Check**"
   ]
  },
  {
   "cell_type": "code",
   "execution_count": 18,
   "metadata": {},
   "outputs": [
    {
     "name": "stdout",
     "output_type": "stream",
     "text": [
      "Bladder Voxel Doses\n",
      " [41.2362 35.3242 32.357  30.9568 32.9819 39.4401 45.5914 57.3682 44.9822\n",
      " 41.3014 43.8335 46.803  49.247  52.4178 53.3218 47.5064 65.     53.0784\n",
      " 49.2342 54.3434 61.2494 65.     65.     60.5866 51.1057 65.     61.6467\n",
      " 65.     71.1772 75.0202 74.5153 69.1523]\n"
     ]
    }
   ],
   "source": [
    "# Max dose to a voxel: 81\n",
    "bladder_voxel = []\n",
    "every = 0\n",
    "for i in bladder_index:\n",
    "    every = round(voxels[i].solution_value(),4)\n",
    "    bladder_voxel.append(every)\n",
    "print('Bladder Voxel Doses\\n',np.array(bladder_voxel))"
   ]
  },
  {
   "cell_type": "code",
   "execution_count": 19,
   "metadata": {},
   "outputs": [
    {
     "name": "stdout",
     "output_type": "stream",
     "text": [
      "distances to 81 if voxel value is above 81\n",
      " [[0. 0. 0. 0. 0. 0. 0. 0. 0. 0. 0. 0. 0. 0. 0. 0. 0. 0. 0. 0. 0. 0. 0. 0.\n",
      "  0. 0. 0. 0. 0. 0. 0. 0.]]\n"
     ]
    }
   ],
   "source": [
    "# if any voxel has more than 81\n",
    "zb1 = np.array([[x.solution_value() for x in z_b_1]])\n",
    "print('distances to 81 if voxel value is above 81\\n',zb1)"
   ]
  },
  {
   "cell_type": "code",
   "execution_count": 20,
   "metadata": {},
   "outputs": [
    {
     "name": "stdout",
     "output_type": "stream",
     "text": [
      "are there values more than 81?\n",
      "False\n",
      "how many percentage of voxel values are more than 81?\n",
      "0.0 %\n"
     ]
    }
   ],
   "source": [
    "# check if there are voxel with value more than 81\n",
    "print('are there values more than 81?')\n",
    "print(max(bladder_voxel) > 81)\n",
    "\n",
    "print('how many percentage of voxel values are more than 81?')\n",
    "\n",
    "print(round(sum((np.array(bladder_voxel) >81)*1)/len(bladder_voxel),2)*100,'%')"
   ]
  },
  {
   "cell_type": "code",
   "execution_count": 21,
   "metadata": {},
   "outputs": [
    {
     "name": "stdout",
     "output_type": "stream",
     "text": [
      "average dose received by bladder voxels are  53.149321875000005\n",
      "slack variable to bring down the value to below 50:  3.149317504407082\n"
     ]
    }
   ],
   "source": [
    "# average dose shouldbe <= 50\n",
    "print('average dose received by bladder voxels are ',sum(bladder_voxel)/len(bladder_voxel))\n",
    "print('slack variable to bring down the value to below 50: ', z_b_2.solution_value())"
   ]
  },
  {
   "cell_type": "code",
   "execution_count": 22,
   "metadata": {},
   "outputs": [
    {
     "name": "stdout",
     "output_type": "stream",
     "text": [
      "voxel that are larger that 65 are indicated by 1 \n",
      " [0. 0. 0. 0. 0. 0. 0. 0. 0. 0. 0. 0. 0. 0. 0. 0. 0. 0. 0. 0. 0. 0. 0. 0.\n",
      " 0. 0. 0. 0. 1. 1. 1. 1.]\n"
     ]
    }
   ],
   "source": [
    "# at most 10% of the bladder should receive a dose > 65\n",
    "y_value = np.array([t.solution_value() for t in y])\n",
    "print('voxel that are larger that 65 are indicated by 1 \\n',y_value)"
   ]
  },
  {
   "cell_type": "code",
   "execution_count": 23,
   "metadata": {},
   "outputs": [
    {
     "name": "stdout",
     "output_type": "stream",
     "text": [
      "0.125  of the voxels are above 65\n"
     ]
    }
   ],
   "source": [
    "test = np.array(list(map(lambda x: 1 if x > 65.00 else 0,bladder_voxel)))\n",
    "print(round(sum(test)/len(test),4), ' of the voxels are above 65')"
   ]
  },
  {
   "cell_type": "code",
   "execution_count": 24,
   "metadata": {},
   "outputs": [
    {
     "name": "stdout",
     "output_type": "stream",
     "text": [
      "voxel that are larger that 65 are indicated by 1 \n",
      " [0 0 0 0 0 0 0 0 0 0 0 0 0 0 0 0 0 0 0 0 0 0 0 0 0 0 0 0 1 1 1 1]\n"
     ]
    }
   ],
   "source": [
    "print('voxel that are larger that 65 are indicated by 1 \\n',test)"
   ]
  },
  {
   "cell_type": "code",
   "execution_count": 25,
   "metadata": {},
   "outputs": [
    {
     "data": {
      "text/plain": [
       "array([ True,  True,  True,  True,  True,  True,  True,  True,  True,\n",
       "        True,  True,  True,  True,  True,  True,  True,  True,  True,\n",
       "        True,  True,  True,  True,  True,  True,  True,  True,  True,\n",
       "        True,  True,  True,  True,  True])"
      ]
     },
     "execution_count": 25,
     "metadata": {},
     "output_type": "execute_result"
    }
   ],
   "source": [
    "y_value == test"
   ]
  },
  {
   "cell_type": "code",
   "execution_count": 26,
   "metadata": {},
   "outputs": [
    {
     "name": "stdout",
     "output_type": "stream",
     "text": [
      "the number of constraints we have to set loose to be above 65 1.0\n"
     ]
    }
   ],
   "source": [
    "print('the number of constraints we have to set loose to be above 65',z_y.solution_value())"
   ]
  },
  {
   "cell_type": "markdown",
   "metadata": {},
   "source": [
    "**Rectal Solid Check**"
   ]
  },
  {
   "cell_type": "code",
   "execution_count": 27,
   "metadata": {},
   "outputs": [
    {
     "name": "stdout",
     "output_type": "stream",
     "text": [
      "rectal voxel dose values\n",
      "[68.85636385 70.70545041 76.5937351  79.05186123 76.9087614  75.34816978\n",
      " 64.37276419 63.83364172 65.23967131 65.44889946 66.13122495 64.87985567\n",
      " 76.64018685 63.51276292 55.09860942 47.71345426 45.90807737 52.89409156\n",
      " 60.30296609 59.31424662 41.85535663 29.45303549 28.61104644 40.81605524]\n"
     ]
    }
   ],
   "source": [
    "# max dose to a voxel: 79.2\n",
    "Rectal_voxel = []\n",
    "every = 0\n",
    "for i in Rectal_index:\n",
    "    every = round(voxels[i].solution_value(),8)\n",
    "    Rectal_voxel.append(every)\n",
    "print('rectal voxel dose values')\n",
    "print(np.array(Rectal_voxel))"
   ]
  },
  {
   "cell_type": "code",
   "execution_count": 28,
   "metadata": {},
   "outputs": [
    {
     "name": "stdout",
     "output_type": "stream",
     "text": [
      "distances to 79.2 if voxel value is above 79.2\n",
      " [[0. 0. 0. 0. 0. 0. 0. 0. 0. 0. 0. 0. 0. 0. 0. 0. 0. 0. 0. 0. 0. 0. 0. 0.]]\n"
     ]
    }
   ],
   "source": [
    "zr1 = np.array([[x.solution_value() for x in z_r_1]])\n",
    "print('distances to 79.2 if voxel value is above 79.2\\n',zr1)"
   ]
  },
  {
   "cell_type": "code",
   "execution_count": 29,
   "metadata": {},
   "outputs": [
    {
     "name": "stdout",
     "output_type": "stream",
     "text": [
      "are there values more than 79.2?\n",
      "False\n",
      "how many percentage of voxel values are more than 79.2?\n",
      "0.0 %\n"
     ]
    }
   ],
   "source": [
    "# check if there's value larger than 79.2\n",
    "print('are there values more than 79.2?')\n",
    "print(max(Rectal_voxel) > 79.2)\n",
    "\n",
    "print('how many percentage of voxel values are more than 79.2?')\n",
    "\n",
    "print(round(sum((np.array(Rectal_voxel) >79.2)*1)/len(Rectal_voxel),2)*100,'%')"
   ]
  },
  {
   "cell_type": "code",
   "execution_count": 30,
   "metadata": {},
   "outputs": [
    {
     "name": "stdout",
     "output_type": "stream",
     "text": [
      "average dose received by bladder voxels are  59.97876199833333\n",
      "slack variable to bring down the value to below 40:  19.97876199913546\n"
     ]
    }
   ],
   "source": [
    "# average dose should be <= 40\n",
    "print('average dose received by bladder voxels are ',sum(Rectal_voxel)/len(Rectal_voxel))\n",
    "print('slack variable to bring down the value to below 40: ',z_r_2.solution_value())"
   ]
  },
  {
   "cell_type": "markdown",
   "metadata": {},
   "source": [
    "**Unspecified**"
   ]
  },
  {
   "cell_type": "code",
   "execution_count": 31,
   "metadata": {},
   "outputs": [
    {
     "data": {
      "text/plain": [
       "array([ 68.335,  55.429,  46.173,  44.714,  46.779,  43.255,  30.574,\n",
       "        15.824,   6.602,   3.353,   3.331,   5.578,  10.526,  16.198,\n",
       "        19.062,  19.206,  19.46 ,  20.474,  20.638,  19.218,  68.784,\n",
       "        63.03 ,  52.765,  47.949,  50.241,  50.03 ,  39.531,  23.846,\n",
       "        11.887,   6.131,   4.938,   7.543,  13.998,  21.475,  25.487,\n",
       "        25.603,  24.553,  23.26 ,  21.218,  19.077,  57.356,  63.366,\n",
       "        59.651,  54.063,  53.53 ,  53.558,  45.886,  32.178,  19.637,\n",
       "        11.834,   9.169,  11.937,  19.785,  28.63 ,  32.83 ,  31.493,\n",
       "        27.755,  23.937,  21.07 ,  19.588,  38.717,  52.881,  59.972,\n",
       "        60.537,  59.454,  56.755,  49.02 ,  38.089,  28.157,  20.954,\n",
       "        17.697,  20.163,  28.276,  37.034,  39.7  ,  35.338,  28.654,\n",
       "        23.817,  21.638,  20.28 ,  21.033,  35.817,  50.437,  61.104,\n",
       "        65.832,  62.404,  51.805,  44.59 ,  36.74 ,  28.7  ,  24.49 ,\n",
       "        22.406,  19.109,   9.199,  19.639,  66.981,  68.789,  37.479,\n",
       "        21.13 ,  15.051,   3.255,  71.143,   9.501,   0.954,  67.778,\n",
       "        71.082,  58.44 ,   4.745,   0.276,  62.901,  73.987,  68.617,\n",
       "         1.969,   0.213,  62.751,   1.126,   0.633,  70.331,   2.104,\n",
       "         2.189,  83.915,  88.106,  69.352,   5.553,   6.411,  14.604,\n",
       "        80.946,  98.643,  94.093,  78.178,  71.141,  61.377,  49.907,\n",
       "        21.522,  12.475,  15.386,  28.536,  47.034,  71.865,  98.03 ,\n",
       "       109.21 ,  96.453,  57.237,  46.729,  40.175,  36.815,  31.439,\n",
       "        22.654,  30.65 ,  47.917,  67.557,  89.596, 109.443, 113.751,\n",
       "        97.655,  56.895,  45.421,  37.651,  37.1  ,  37.555,  33.23 ,\n",
       "        51.899,  70.211,  86.257, 100.913, 113.831, 116.084, 101.537,\n",
       "        79.455,  54.954,  56.542,  45.872,  35.702,  33.904,  37.643,\n",
       "        39.703,  76.344,  90.483,  97.853, 104.403, 115.646, 121.071,\n",
       "       106.272,  76.86 ,  47.823,  26.55 ,  15.744,  17.991,  32.487,\n",
       "        48.821,  53.381,  45.298,  35.157,  31.029,  33.828,  39.643,\n",
       "        98.565, 102.928, 100.79 , 104.974, 120.309, 126.951, 104.842,\n",
       "        65.47 ,  32.408,  14.022,   8.138,  13.401,  28.39 ,  43.941,\n",
       "        48.232,  41.642,  33.674,  29.65 ,  30.205,  35.248, 112.182,\n",
       "       105.838, 100.455, 108.573, 125.893, 126.086,  93.758,  49.543,\n",
       "        19.281,   6.619,   5.022,  12.233,  27.456,  41.756,  43.813,\n",
       "        35.95 ,  29.26 ,  27.55 ,  28.22 ,  30.927, 115.316, 105.132,\n",
       "       103.384, 113.08 , 124.004, 114.658,  77.771,  36.12 ,  11.542,\n",
       "         3.412,   4.144,  12.465,  28.287,  42.109,  41.868,  30.92 ,\n",
       "        22.871,  22.694,  25.749,  28.408])"
      ]
     },
     "execution_count": 31,
     "metadata": {},
     "output_type": "execute_result"
    }
   ],
   "source": [
    "# Max dose to a voxel: 72\n",
    "Un_voxel = []\n",
    "every = 0\n",
    "for i in Un_index:\n",
    "    every = round(voxels[i].solution_value(),3)\n",
    "    Un_voxel.append(every)\n",
    "np.array(Un_voxel)"
   ]
  },
  {
   "cell_type": "code",
   "execution_count": 32,
   "metadata": {},
   "outputs": [
    {
     "name": "stdout",
     "output_type": "stream",
     "text": [
      "Are there voxel values more than 72?\n"
     ]
    },
    {
     "data": {
      "text/plain": [
       "True"
      ]
     },
     "execution_count": 32,
     "metadata": {},
     "output_type": "execute_result"
    }
   ],
   "source": [
    "print('Are there voxel values more than 72?')\n",
    "max(Un_voxel) > 72"
   ]
  },
  {
   "cell_type": "code",
   "execution_count": 33,
   "metadata": {},
   "outputs": [
    {
     "name": "stdout",
     "output_type": "stream",
     "text": [
      "how many percentage of voxel values are more than 72?\n",
      "19.0 %\n"
     ]
    }
   ],
   "source": [
    "print('how many percentage of voxel values are more than 72?')\n",
    "\n",
    "print(round(sum((np.array(Un_voxel) >72)*1)/len(Un_voxel),2)*100,'%')"
   ]
  },
  {
   "cell_type": "markdown",
   "metadata": {},
   "source": [
    "**Left Femur Head**"
   ]
  },
  {
   "cell_type": "code",
   "execution_count": 34,
   "metadata": {},
   "outputs": [
    {
     "name": "stdout",
     "output_type": "stream",
     "text": [
      "left femur head voxel values\n"
     ]
    },
    {
     "data": {
      "text/plain": [
       "array([29.7 , 25.4 , 40.  , 31.23, 24.14, 16.7 , 44.57, 31.13, 19.69,\n",
       "       10.7 , 49.19, 29.04, 14.3 ,  5.87, 52.24, 27.83, 11.77,  4.04,\n",
       "       53.45, 30.39, 14.54,  5.99, 52.68, 35.8 , 22.11, 12.07, 40.  ,\n",
       "       31.06])"
      ]
     },
     "execution_count": 34,
     "metadata": {},
     "output_type": "execute_result"
    }
   ],
   "source": [
    "# max dose to be voxel 50\n",
    "Left_voxel = []\n",
    "every = 0\n",
    "for i in Left_index:\n",
    "    every = round(voxels[i].solution_value(),2)\n",
    "    Left_voxel.append(every)\n",
    "print('left femur head voxel values')\n",
    "np.array(Left_voxel)"
   ]
  },
  {
   "cell_type": "code",
   "execution_count": 35,
   "metadata": {},
   "outputs": [
    {
     "name": "stdout",
     "output_type": "stream",
     "text": [
      "distances to 79.2 if voxel value is above 50\n",
      " [[0.         0.         0.         0.         0.         0.\n",
      "  0.         0.         0.         0.         0.         0.\n",
      "  0.         0.         2.2351535  0.         0.         0.\n",
      "  3.45226567 0.         0.         0.         2.68244051 0.\n",
      "  0.         0.         0.         0.        ]]\n"
     ]
    }
   ],
   "source": [
    "zl1 = np.array([[x.solution_value() for x in z_l_1]])\n",
    "print('distances to 79.2 if voxel value is above 50\\n',zl1)"
   ]
  },
  {
   "cell_type": "code",
   "execution_count": 36,
   "metadata": {},
   "outputs": [
    {
     "name": "stdout",
     "output_type": "stream",
     "text": [
      "are there values more than 50?\n",
      "True\n",
      "how many percentage of voxel values are more than 50?\n",
      "11.0 %\n"
     ]
    }
   ],
   "source": [
    "print('are there values more than 50?')\n",
    "print(max(Left_voxel) > 50)\n",
    "\n",
    "print('how many percentage of voxel values are more than 50?')\n",
    "\n",
    "print(round(sum((np.array(Left_voxel) >50)*1)/len(Left_voxel),2)*100,'%')"
   ]
  },
  {
   "cell_type": "code",
   "execution_count": 37,
   "metadata": {},
   "outputs": [
    {
     "name": "stdout",
     "output_type": "stream",
     "text": [
      "voxel that are larger that 40 are indicated by 1 \n",
      " [0. 0. 0. 0. 0. 0. 1. 0. 0. 0. 1. 0. 0. 0. 1. 0. 0. 0. 1. 0. 0. 0. 1. 0.\n",
      " 0. 0. 0. 0.]\n"
     ]
    }
   ],
   "source": [
    "# at most 15% of the left femur head should receive > 40\n",
    "y_left_value = np.array([t.solution_value() for t in y_left])\n",
    "print('voxel that are larger that 40 are indicated by 1 \\n',y_left_value)"
   ]
  },
  {
   "cell_type": "code",
   "execution_count": 38,
   "metadata": {},
   "outputs": [
    {
     "name": "stdout",
     "output_type": "stream",
     "text": [
      "0.1786  of the left femur voxels are above 40\n"
     ]
    }
   ],
   "source": [
    "test_left_femur = np.array(list(map(lambda x: 1 if x >40.00 else 0,Left_voxel)))\n",
    "print(round(sum(test_left_femur)/len(test_left_femur),4), ' of the left femur voxels are above 40')"
   ]
  },
  {
   "cell_type": "code",
   "execution_count": 39,
   "metadata": {},
   "outputs": [
    {
     "name": "stdout",
     "output_type": "stream",
     "text": [
      "voxel that are larger that 40 are indicated by 1 \n",
      " [0 0 0 0 0 0 1 0 0 0 1 0 0 0 1 0 0 0 1 0 0 0 1 0 0 0 0 0]\n"
     ]
    }
   ],
   "source": [
    "print('voxel that are larger that 40 are indicated by 1 \\n',test_left_femur)"
   ]
  },
  {
   "cell_type": "code",
   "execution_count": 40,
   "metadata": {},
   "outputs": [
    {
     "data": {
      "text/plain": [
       "array([ True,  True,  True,  True,  True,  True,  True,  True,  True,\n",
       "        True,  True,  True,  True,  True,  True,  True,  True,  True,\n",
       "        True,  True,  True,  True,  True,  True,  True,  True,  True,\n",
       "        True])"
      ]
     },
     "execution_count": 40,
     "metadata": {},
     "output_type": "execute_result"
    }
   ],
   "source": [
    "test_left_femur == y_left_value"
   ]
  },
  {
   "cell_type": "code",
   "execution_count": 41,
   "metadata": {},
   "outputs": [
    {
     "name": "stdout",
     "output_type": "stream",
     "text": [
      "the number of constraints we have to set loose to be above 40 1.0\n"
     ]
    }
   ],
   "source": [
    "print('the number of constraints we have to set loose to be above 40',z_y_left.solution_value())"
   ]
  },
  {
   "cell_type": "markdown",
   "metadata": {},
   "source": [
    "**Right Femur Head**"
   ]
  },
  {
   "cell_type": "code",
   "execution_count": 42,
   "metadata": {},
   "outputs": [
    {
     "name": "stdout",
     "output_type": "stream",
     "text": [
      "right femur head voxel values\n"
     ]
    },
    {
     "data": {
      "text/plain": [
       "array([19.64, 34.91,  3.25,  8.83, 20.22, 38.95,  0.95,  3.43, 10.54,\n",
       "       26.25,  0.28,  1.45,  6.11, 18.95,  0.21,  1.25,  5.67, 18.26,\n",
       "        0.63,  2.55,  8.8 , 24.01,  2.19,  6.4 , 16.32, 35.79, 14.6 ,\n",
       "       29.18])"
      ]
     },
     "execution_count": 42,
     "metadata": {},
     "output_type": "execute_result"
    }
   ],
   "source": [
    "# max dose to a voxel: 50 \n",
    "Right_voxel = []\n",
    "every = 0\n",
    "for i in Right_index:\n",
    "    every = round(voxels[i].solution_value(),2)\n",
    "    Right_voxel.append(every)\n",
    "print(\"right femur head voxel values\")\n",
    "np.array(Right_voxel)"
   ]
  },
  {
   "cell_type": "code",
   "execution_count": 43,
   "metadata": {},
   "outputs": [
    {
     "name": "stdout",
     "output_type": "stream",
     "text": [
      "distances to 79.2 if voxel value is above 50\n",
      " [[0. 0. 0. 0. 0. 0. 0. 0. 0. 0. 0. 0. 0. 0. 0. 0. 0. 0. 0. 0. 0. 0. 0. 0.\n",
      "  0. 0. 0. 0.]]\n"
     ]
    }
   ],
   "source": [
    "# slack variable needed to fullfill the constraints\n",
    "zrl1 = np.array([[x.solution_value() for x in z_rl_1]])\n",
    "print('distances to 79.2 if voxel value is above 50\\n',zrl1)"
   ]
  },
  {
   "cell_type": "code",
   "execution_count": 44,
   "metadata": {},
   "outputs": [
    {
     "name": "stdout",
     "output_type": "stream",
     "text": [
      "are there values more than 50?\n",
      "False\n",
      "how many percentage of voxel values are more than 50?\n",
      "0.0 %\n"
     ]
    }
   ],
   "source": [
    "# check if there's any right voxel value that is bigger than 50\n",
    "print('are there values more than 50?')\n",
    "print(max(Right_voxel) > 50)\n",
    "\n",
    "print('how many percentage of voxel values are more than 50?')\n",
    "\n",
    "print(round(sum((np.array(Right_voxel) >50)*1)/len(Right_voxel),2)*100,'%')"
   ]
  },
  {
   "cell_type": "code",
   "execution_count": 45,
   "metadata": {},
   "outputs": [
    {
     "name": "stdout",
     "output_type": "stream",
     "text": [
      "voxel that are larger that 40 are indicated by 1 \n",
      " [0. 0. 0. 0. 0. 0. 0. 0. 0. 0. 0. 0. 0. 0. 0. 0. 0. 0. 0. 0. 0. 0. 0. 0.\n",
      " 0. 0. 0. 0.]\n"
     ]
    }
   ],
   "source": [
    "# at most 15% of the right  femur head should receive > 40\n",
    "y_right_value = np.array([t.solution_value() for t in y_right])\n",
    "print('voxel that are larger that 40 are indicated by 1 \\n',y_right_value)"
   ]
  },
  {
   "cell_type": "code",
   "execution_count": 46,
   "metadata": {},
   "outputs": [
    {
     "name": "stdout",
     "output_type": "stream",
     "text": [
      "0.0  of the right femur voxels are above 40\n"
     ]
    }
   ],
   "source": [
    "test_right = np.array(list(map(lambda x: 1 if x > 40.00 else 0,Right_voxel)))\n",
    "print(round(sum(test_right)/len(test_right),4), ' of the right femur voxels are above 40')"
   ]
  },
  {
   "cell_type": "code",
   "execution_count": 47,
   "metadata": {},
   "outputs": [
    {
     "name": "stdout",
     "output_type": "stream",
     "text": [
      "voxel that are larger that 40 are indicated by 1 \n",
      " [0 0 0 0 0 0 0 0 0 0 0 0 0 0 0 0 0 0 0 0 0 0 0 0 0 0 0 0]\n"
     ]
    }
   ],
   "source": [
    "print('voxel that are larger that 40 are indicated by 1 \\n',test_right)"
   ]
  },
  {
   "cell_type": "code",
   "execution_count": 48,
   "metadata": {},
   "outputs": [
    {
     "data": {
      "text/plain": [
       "array([ True,  True,  True,  True,  True,  True,  True,  True,  True,\n",
       "        True,  True,  True,  True,  True,  True,  True,  True,  True,\n",
       "        True,  True,  True,  True,  True,  True,  True,  True,  True,\n",
       "        True])"
      ]
     },
     "execution_count": 48,
     "metadata": {},
     "output_type": "execute_result"
    }
   ],
   "source": [
    "test_right == y_right_value"
   ]
  },
  {
   "cell_type": "code",
   "execution_count": 49,
   "metadata": {},
   "outputs": [
    {
     "name": "stdout",
     "output_type": "stream",
     "text": [
      "the number of constraints we have to set loose to be above 40 0.0\n"
     ]
    }
   ],
   "source": [
    "print('the number of constraints we have to set loose to be above 40',z_y_right.solution_value())"
   ]
  },
  {
   "cell_type": "code",
   "execution_count": null,
   "metadata": {},
   "outputs": [],
   "source": []
  }
 ],
 "metadata": {
  "kernelspec": {
   "display_name": "Python 3",
   "language": "python",
   "name": "python3"
  },
  "language_info": {
   "codemirror_mode": {
    "name": "ipython",
    "version": 3
   },
   "file_extension": ".py",
   "mimetype": "text/x-python",
   "name": "python",
   "nbconvert_exporter": "python",
   "pygments_lexer": "ipython3",
   "version": "3.8.3"
  }
 },
 "nbformat": 4,
 "nbformat_minor": 4
}
