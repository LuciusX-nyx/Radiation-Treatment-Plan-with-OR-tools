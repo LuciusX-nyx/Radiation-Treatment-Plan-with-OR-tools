{
 "cells": [
  {
   "cell_type": "code",
   "execution_count": 1,
   "metadata": {},
   "outputs": [],
   "source": [
    "from ortools.linear_solver import pywraplp\n",
    "from ortools.linear_solver import pywraplp\n",
    "import numpy as np\n",
    "from itertools import combinations\n",
    "import pandas as pd\n",
    "import numpy as np"
   ]
  },
  {
   "cell_type": "code",
   "execution_count": 2,
   "metadata": {},
   "outputs": [],
   "source": [
    "dose_matrix = pd.read_csv('DoseMatrix.csv')"
   ]
  },
  {
   "cell_type": "code",
   "execution_count": 3,
   "metadata": {},
   "outputs": [],
   "source": [
    "dose_matrix =np.array(dose_matrix)"
   ]
  },
  {
   "cell_type": "code",
   "execution_count": 4,
   "metadata": {},
   "outputs": [],
   "source": [
    "CTV_index=[167, 168, 169, 170, 171, 172, 173,\n",
    "      186, 187, 188, 189, 190, 191, 192, 193, 194,\n",
    "      206, 207, 208, 209, 210, 211, 212, 213, 214, \n",
    "           227, 228, 229, 230, 231, 232, 233]\n",
    "\n",
    "bladder_index=[87, 88, 89, 90, 91, 92, 93, \n",
    "         106, 107, 108, 109, 110, 111, 112, 113, 114, \n",
    "         126, 127, 128, 129, 130, 131, 132, 133, 134, \n",
    "             147, 148, 149, 150, 151, 152, 153]\n",
    "\n",
    "Rectal_index=[248, 249, 250, 251, 252, \n",
    "        267, 268, 269, 270, 271, 272, 273, \n",
    "        287, 288, 289, 290, 291, 292, 293, \n",
    "              308, 309, 310, 311, 312]\n",
    "\n",
    "Un_index=[0, 1, 2, 3, 4, 5, 6, 7, 8, 9, 10, 11, 12, 13, 14, 15, 16, 17, 18, 19, 20, \n",
    "             21, 22, 23, 24, 25, 26, 27, 28, 29, 30, 31, 32, 33, 34, 35, 36, 37, 38, 39, 40, \n",
    "             41, 42, 43, 44, 45, 46, 47, 48, 49, 50, 51, 52, 53, 54, 55, 56, 57, 58, 59, 60, \n",
    "             61, 62, 63, 64, 65, 66, 67, 68, 69, 70, 71, 72, 73, 74, 75, 76, 77, 78, 79, 80, \n",
    "             81, 82, 83, 84, 85, 86, 94, 95, 96, 97, 98, 99, 100, 101, 104, 105, 115, 118, 119, 120,\n",
    "             125, 139, 140, 145, 146, 154, 159, 160, 165, 166, 174, 179, 180, 185, 199, 200, 205, 219, 220, \n",
    "             225, 226, 234, 239, 240, 241, 244, 245, 246, 247, 253, 254, 255, 258, 259, 260, 261, 262, 263, \n",
    "             264, 265, 266, 274, 275, 276, 277, 278, 279, 280, 281, 282, 283, 284, 285, 286, 294, 295, 296, \n",
    "             297, 298, 299, 300, 301, 302, 303, 304, 305, 306, 307, 313, 314, 315, 316, 317, 318, 319, 320, \n",
    "             321, 322, 323, 324, 325, 326, 327, 328, 329, 330, 331, 332, 333, 334, 335, 336, 337, 338, 339, \n",
    "             340, 341, 342, 343, 344, 345, 346, 347, 348, 349, 350, 351, 352, 353, 354, 355, 356, 357, 358, \n",
    "             359, 360, 361, 362, 363, 364, 365, 366, 367, 368, 369, 370, 371, 372, 373, 374, 375, 376, 377, \n",
    "             378, 379, 380, 381, 382, 383, 384, 385, 386, 387, 388, 389, 390, 391, 392, 393, 394, 395, 396, \n",
    "             397, 398, 399]\n",
    "\n",
    "Left_index=[116, 117, \n",
    "       135, 136, 137, 138, \n",
    "       155, 156, 157, 158, \n",
    "       175, 176, 177, 178,\n",
    "       195, 196, 197, 198, \n",
    "       215, 216, 217, 218, \n",
    "       235, 236, 237, 238, \n",
    "            256, 257]\n",
    "\n",
    "Right_index=[101, 102, \n",
    "        120, 121, 122, 123, \n",
    "        140, 141, 142, 143, \n",
    "        160, 161, 162, 163, \n",
    "        180, 181, 182, 183, \n",
    "        200, 201, 202, 203, \n",
    "        220, 221, 222, 223, \n",
    "             241, 242]"
   ]
  },
  {
   "cell_type": "code",
   "execution_count": 5,
   "metadata": {},
   "outputs": [
    {
     "data": {
      "text/plain": [
       "400"
      ]
     },
     "execution_count": 5,
     "metadata": {},
     "output_type": "execute_result"
    }
   ],
   "source": [
    "len(CTV_index)+len(bladder_index)+len(Rectal_index)+len(Un_index)+len(Left_index)+len(Right_index)"
   ]
  },
  {
   "cell_type": "code",
   "execution_count": 6,
   "metadata": {},
   "outputs": [
    {
     "name": "stdout",
     "output_type": "stream",
     "text": [
      "Problem solved in 20786.000000 milliseconds\n",
      "weighted slack total 116047.48093794781\n"
     ]
    }
   ],
   "source": [
    "solver = pywraplp.Solver('Final Project',\n",
    "                         pywraplp.Solver.CBC_MIXED_INTEGER_PROGRAMMING)\n",
    "objective=solver.Objective() \n",
    "objective.SetMinimization()\n",
    "\n",
    "# Decision Variables\n",
    "beamlets = []\n",
    "for i in range(60):\n",
    "    beamlets.append(solver.NumVar(0,solver.infinity(), 'beamlets[%d]' % i))\n",
    "voxels = []    \n",
    "for i in range(400):\n",
    "    voxels.append(solver.NumVar(0,solver.infinity(),'voxels[%d]' % i))\n",
    "\n",
    "    \n",
    "#Constraints\n",
    "voxel_constraints = [0 for _ in range(400)]\n",
    "for i in range(400):\n",
    "    voxel_constraints[i] = solver.Constraint(0,0)\n",
    "    for j in range(60):\n",
    "        voxel_constraints[i].SetCoefficient(beamlets[j],dose_matrix[i,j+1])\n",
    "    voxel_constraints[i].SetCoefficient(voxels[i], -1)\n",
    "        \n",
    "######################################################## CTV#################################################\n",
    "\n",
    "# every voxel receives a uniform dose of 82.8       ( = 82.8)\n",
    "z_p = [0 for _ in range(len(CTV_index))]\n",
    "z_n = [0 for _ in range(len(CTV_index))]\n",
    "\n",
    "for i in range(len(CTV_index)):\n",
    "    z_p[i] = solver.NumVar(0, solver.infinity(), \"Z plus CTV %d\" %i)\n",
    "    z_n[i] = solver.NumVar(0, solver.infinity(), \"Z minus CTV %d\" %i)\n",
    "     \n",
    "CTV_constraint = [0 for _ in range(len(CTV_index))]\n",
    "for i in range(len(CTV_index)):\n",
    "    CTV_constraint[i] = solver.Constraint(82.8,82.8)\n",
    "    \n",
    "    for j in range(60):\n",
    "        CTV_constraint[i].SetCoefficient(beamlets[j],dose_matrix[CTV_index[i],j+1])\n",
    "    CTV_constraint[i].SetCoefficient(z_p[i],1)\n",
    "    CTV_constraint[i].SetCoefficient(z_n[i],-1)\n",
    "\n",
    "CTV_constraint_2 = [[0 for _ in range(len(CTV_index))]for _ in range(len(CTV_index))]\n",
    "for i in range(len(CTV_index)):\n",
    "    for j in range(len(CTV_index)):\n",
    "        CTV_constraint_2[i][j] = solver.Constraint(0, 0.05*82.8)\n",
    "        CTV_constraint_2[i][j].SetCoefficient(z_p[i],1)\n",
    "        CTV_constraint_2[i][j].SetCoefficient(z_n[j],1.05)\n",
    "        \n",
    "        \n",
    "    \n",
    "############################################ bladder ####################################################\n",
    "\n",
    "# # max dose to a voxel 81 ( < = 81)\n",
    "z_b_1 = [0 for _ in range(len(bladder_index))]\n",
    "\n",
    "for i in range(len(bladder_index)):\n",
    "    z_b_1[i] = solver.NumVar(0, solver.infinity(), \"z bladder #1 %d\" %i)\n",
    "    \n",
    "\n",
    "bladder_constraint_1 = [0 for _ in range(len(bladder_index))]\n",
    "for i in range(len(bladder_index)):\n",
    "    bladder_constraint_1[i] = solver.Constraint(-solver.infinity(),81)\n",
    "    for j in range(60):\n",
    "        bladder_constraint_1[i].SetCoefficient(beamlets[j],dose_matrix[bladder_index[i],j+1])\n",
    "    bladder_constraint_1[i].SetCoefficient(z_b_1[i],-1)\n",
    "\n",
    "\n",
    "# Average dose should be <= 50     ( <= 50)\n",
    "\n",
    "z_b_2 = solver.NumVar(0, solver.infinity(), \"z bladder #2 %d\" %i)\n",
    "bladder_constraint_2 = solver.Constraint(-solver.infinity(), 50)\n",
    "bladder_constraint_2.SetCoefficient(z_b_2, -1)\n",
    "\n",
    "for i in bladder_index:\n",
    "    bladder_constraint_2.SetCoefficient(voxels[i],1/len(bladder_index))\n",
    "\n",
    "        \n",
    "    \n",
    "# at most 10% of the bladder should receive a dose >65          ( >65)\n",
    "y = [0 for _ in range(len(bladder_index))]\n",
    "z_y = solver.IntVar(0,4, \"z y constraint bladder\")\n",
    "\n",
    "for i in range(len(bladder_index)):\n",
    "     y[i] = solver.IntVar(0,1,\"y bladder %d\" %i)\n",
    "\n",
    "bladder_constraint_3 = [0 for _ in range(len(bladder_index))]\n",
    "for i in range(len(bladder_index)):\n",
    "    bladder_constraint_3[i] = solver.Constraint(-solver.infinity(),65)\n",
    "    for j in range(60):\n",
    "        bladder_constraint_3[i].SetCoefficient(beamlets[j],dose_matrix[bladder_index[i],j+1])\n",
    "    bladder_constraint_3[i].SetCoefficient(y[i],-100)\n",
    "\n",
    "bladder_constraint_3b = solver.Constraint(-solver.infinity(),0.1*len(bladder_index))\n",
    "for j in range(len(bladder_index)):\n",
    "     bladder_constraint_3b.SetCoefficient(y[j],1)\n",
    "bladder_constraint_3b.SetCoefficient(z_y, -1)\n",
    "\n",
    "        \n",
    "        \n",
    "\n",
    "        \n",
    "# ####################### Rectal########################################\n",
    "\n",
    "#max dose to a voxel: 79.2              ( < = 79.2)\n",
    "\n",
    "z_r_1 = [0 for _ in range(len(Rectal_index))]\n",
    "\n",
    "for i in range(len(Rectal_index)):\n",
    "    z_r_1[i] = solver.NumVar(0, solver.infinity(), \"z rectal #1 %d\" %i)\n",
    "    \n",
    "\n",
    "Rectal_constraint_1 = [0 for _ in range(len(Rectal_index))]\n",
    "for i in range(len(Rectal_index)):\n",
    "    Rectal_constraint_1[i] = solver.Constraint(-solver.infinity(),79.2)\n",
    "    for j in range(60):\n",
    "        Rectal_constraint_1[i].SetCoefficient(beamlets[j],dose_matrix[Rectal_index[i],j+1])\n",
    "    Rectal_constraint_1[i].SetCoefficient(z_r_1[i],-1)\n",
    "\n",
    "    \n",
    "    \n",
    "# #average dose should be <= 40\n",
    "\n",
    "z_r_2 = solver.NumVar(0, solver.infinity(), \"z rectal #2 %d\" %i)\n",
    "Rectal_constraint_2 = solver.Constraint(-solver.infinity(), 40)\n",
    "Rectal_constraint_2.SetCoefficient(z_r_2, -1.0)\n",
    "\n",
    "for i in Rectal_index:\n",
    "    Rectal_constraint_2.SetCoefficient(voxels[i],1/len(Rectal_index))\n",
    "\n",
    "\n",
    "\n",
    "# ############################## Unspecified ############################\n",
    "\n",
    "# max dose to a voxel: 72         ( < =72)\n",
    "\n",
    "z_u_1 = [0 for _ in range(len(Un_index))]\n",
    "\n",
    "for i in range(len(Un_index)):\n",
    "    z_u_1[i] = solver.NumVar(0, solver.infinity(), \"z Unspecified #1 %d\" %i)\n",
    "    \n",
    "\n",
    "Un_constraint_1 = [0 for _ in range(len(Un_index))]\n",
    "for i in range(len(Un_index)):\n",
    "    Un_constraint_1[i] = solver.Constraint(-solver.infinity(),72)\n",
    "    for j in range(60):\n",
    "        Un_constraint_1[i].SetCoefficient(beamlets[j],dose_matrix[Un_index[i],j+1])\n",
    "    Un_constraint_1[i].SetCoefficient(z_u_1[i],-1)\n",
    "\n",
    "\n",
    "#############################Left femur head ##########################\n",
    "\n",
    "#max dose to a voxel: 50            ( <= 50)\n",
    "  \n",
    "z_l_1 = [0 for _ in range(len(Left_index))]\n",
    "\n",
    "for i in range(len(Left_index)):\n",
    "    z_l_1[i] = solver.NumVar(0, solver.infinity(), \"z left femur #1 %d\" %i)\n",
    "    \n",
    "\n",
    "left_constraint_1 = [0 for _ in range(len(Left_index))]\n",
    "for i in range(len(Left_index)):\n",
    "    left_constraint_1[i] = solver.Constraint(-solver.infinity(),50)\n",
    "    for j in range(60):\n",
    "        left_constraint_1[i].SetCoefficient(beamlets[j],dose_matrix[Left_index[i],j+1])\n",
    "    left_constraint_1[i].SetCoefficient(z_l_1[i],-1)    \n",
    "        \n",
    "\n",
    "        \n",
    "# at most 10% of the left femur should receive a dose > 40 \n",
    "y_left = [0 for _ in range(len(Left_index))]\n",
    "z_y_left = solver.IntVar(0,4, \"z y constraint left femur\")\n",
    "\n",
    "for i in range(len(Left_index)):\n",
    "     y_left[i] = solver.IntVar(0,1,\"y left femur %d\" %i)\n",
    "\n",
    "Left_constraint_3 = [0 for _ in range(len(Left_index))]\n",
    "for i in range(len(Left_index)):\n",
    "    Left_constraint_3[i] = solver.Constraint(-solver.infinity(),40)\n",
    "    for j in range(60):\n",
    "        Left_constraint_3[i].SetCoefficient(beamlets[j],dose_matrix[Left_index[i],j+1])\n",
    "    Left_constraint_3[i].SetCoefficient(y_left[i],-100)\n",
    "\n",
    "Left_constraint_3b = solver.Constraint(-solver.infinity(),0.15*len(Left_index))\n",
    "for j in range(len(Left_index)):\n",
    "     Left_constraint_3b.SetCoefficient(y_left[j],1)\n",
    "Left_constraint_3b.SetCoefficient(z_y_left,-1)\n",
    "\n",
    "\n",
    "############################# right femur head ##########################\n",
    "\n",
    "\n",
    "#max dose to a voxel: 50               ( <= 50 )\n",
    "z_rl_1 = [0 for _ in range(len(Right_index))]\n",
    "\n",
    "for i in range(len(Right_index)):\n",
    "    z_rl_1[i] = solver.NumVar(0, solver.infinity(), \"z right femur #1 %d\" %i)\n",
    "    \n",
    "\n",
    "Right_constraint_1 = [0 for _ in range(len(Right_index))]\n",
    "for i in range(len(Right_index)):\n",
    "    Right_constraint_1[i] = solver.Constraint(-solver.infinity(),50)\n",
    "    for j in range(60):\n",
    "        Right_constraint_1[i].SetCoefficient(beamlets[j],dose_matrix[Right_index[i],j+1])\n",
    "    Right_constraint_1[i].SetCoefficient(z_rl_1[i],-1)    \n",
    "        \n",
    "\n",
    "        \n",
    "# at most 10% of the right femur should receive a dose > 40 \n",
    "y_right = [0 for _ in range(len(Right_index))]\n",
    "z_y_right = solver.IntVar(0,4, \"z y constraint right femur\")\n",
    "\n",
    "for i in range(len(Right_index)):\n",
    "     y_right[i] = solver.IntVar(0,1,\"y right femur %d\" %i)\n",
    "\n",
    "Right_constraint_3 = [0 for _ in range(len(Right_index))]\n",
    "for i in range(len(Right_index)):\n",
    "    \n",
    "    # <= 40\n",
    "    Right_constraint_3[i] = solver.Constraint(-solver.infinity(),40)\n",
    "    for j in range(60):\n",
    "        Right_constraint_3[i].SetCoefficient(beamlets[j],dose_matrix[Right_index[i],j+1])\n",
    "    # Big M constraint\n",
    "    Right_constraint_3[i].SetCoefficient(y_right[i],-100)\n",
    "\n",
    "Right_constraint_3b = solver.Constraint(-solver.infinity(),0.15*len(Right_index))\n",
    "for j in range(len(Right_index)):\n",
    "     Right_constraint_3b.SetCoefficient(y_right[j],1)\n",
    "Right_constraint_3b.SetCoefficient(z_y_right, -1)\n",
    "        \n",
    "        \n",
    "########################## Objective Function ###########################\n",
    "\n",
    "# CTV\n",
    "for i in range(len(z_p)):\n",
    "    objective.SetCoefficient(z_p[i],2000)\n",
    "    objective.SetCoefficient(z_n[i],2000)\n",
    "\n",
    "# Bladders\n",
    "for i in range(len(z_b_1)):\n",
    "    objective.SetCoefficient(z_b_1[i],1)\n",
    "\n",
    "objective.SetCoefficient(z_b_2,1)\n",
    "\n",
    "# Rectal Solids\n",
    "for i in range(len(z_r_1)):\n",
    "    objective.SetCoefficient(z_r_1[i],1000)\n",
    "    \n",
    "objective.SetCoefficient(z_r_2,1)\n",
    "\n",
    "#Unspecified\n",
    "for i in range(len(z_u_1)):\n",
    "    objective.SetCoefficient(z_u_1[i],1)\n",
    "\n",
    "# left femur head\n",
    "for i in range(len(z_l_1)):\n",
    "    objective.SetCoefficient(z_l_1[i],800)\n",
    "\n",
    "#right femur head\n",
    "for i in range(len(z_rl_1)):\n",
    "    objective.SetCoefficient(z_rl_1[i],800)\n",
    "\n",
    "# bladder, left femur, right femur's at most constraint\n",
    "objective.SetCoefficient(z_y,1)\n",
    "objective.SetCoefficient(z_y_left,1)\n",
    "objective.SetCoefficient(z_y_right,1)\n",
    "\n",
    "status = solver.Solve()\n",
    "\n",
    "if status == solver.OPTIMAL:\n",
    "    print('Problem solved in %f milliseconds' %solver.wall_time())\n",
    "elif status == solver.FEASIBLE:\n",
    "    print('Solver claims feasibility but not optimality')\n",
    "else:\n",
    "    print('Solver ran to completion but did not find an optimal solution')\n",
    "\n",
    "print('weighted slack total',objective.Value()) \n",
    "\n",
    "\n",
    "#print(bladder_constraint_2.dual_value())\n",
    "\n",
    "#print(solver.ExportModelAsLpFormat(False).replace('\\\\', '').replace(',_', ','), sep='\\n')"
   ]
  },
  {
   "cell_type": "code",
   "execution_count": 7,
   "metadata": {},
   "outputs": [
    {
     "name": "stdout",
     "output_type": "stream",
     "text": [
      "0.0\n"
     ]
    }
   ],
   "source": [
    "print(bladder_constraint_2.dual_value())"
   ]
  },
  {
   "cell_type": "code",
   "execution_count": 8,
   "metadata": {},
   "outputs": [],
   "source": [
    "#print(solver.ExportModelAsLpFormat(False).replace('\\\\', '').replace(',_', ','), sep='\\n')"
   ]
  },
  {
   "cell_type": "markdown",
   "metadata": {},
   "source": [
    "## All Voxels"
   ]
  },
  {
   "cell_type": "code",
   "execution_count": 9,
   "metadata": {},
   "outputs": [
    {
     "data": {
      "text/html": [
       "<div>\n",
       "<style scoped>\n",
       "    .dataframe tbody tr th:only-of-type {\n",
       "        vertical-align: middle;\n",
       "    }\n",
       "\n",
       "    .dataframe tbody tr th {\n",
       "        vertical-align: top;\n",
       "    }\n",
       "\n",
       "    .dataframe thead th {\n",
       "        text-align: right;\n",
       "    }\n",
       "</style>\n",
       "<table border=\"1\" class=\"dataframe\">\n",
       "  <thead>\n",
       "    <tr style=\"text-align: right;\">\n",
       "      <th></th>\n",
       "      <th>1</th>\n",
       "      <th>2</th>\n",
       "      <th>3</th>\n",
       "      <th>4</th>\n",
       "      <th>5</th>\n",
       "      <th>6</th>\n",
       "      <th>7</th>\n",
       "      <th>8</th>\n",
       "      <th>9</th>\n",
       "      <th>10</th>\n",
       "      <th>11</th>\n",
       "      <th>12</th>\n",
       "      <th>13</th>\n",
       "      <th>14</th>\n",
       "      <th>15</th>\n",
       "      <th>16</th>\n",
       "      <th>17</th>\n",
       "      <th>18</th>\n",
       "      <th>19</th>\n",
       "      <th>20</th>\n",
       "    </tr>\n",
       "  </thead>\n",
       "  <tbody>\n",
       "    <tr>\n",
       "      <th>1</th>\n",
       "      <td>88.38</td>\n",
       "      <td>80.82</td>\n",
       "      <td>66.92</td>\n",
       "      <td>50.62</td>\n",
       "      <td>36.43</td>\n",
       "      <td>25.57</td>\n",
       "      <td>16.92</td>\n",
       "      <td>10.45</td>\n",
       "      <td>6.79</td>\n",
       "      <td>6.17</td>\n",
       "      <td>8.44</td>\n",
       "      <td>12.20</td>\n",
       "      <td>17.21</td>\n",
       "      <td>24.50</td>\n",
       "      <td>29.98</td>\n",
       "      <td>28.35</td>\n",
       "      <td>23.01</td>\n",
       "      <td>20.48</td>\n",
       "      <td>22.12</td>\n",
       "      <td>25.69</td>\n",
       "    </tr>\n",
       "    <tr>\n",
       "      <th>2</th>\n",
       "      <td>81.08</td>\n",
       "      <td>80.82</td>\n",
       "      <td>74.34</td>\n",
       "      <td>62.88</td>\n",
       "      <td>49.44</td>\n",
       "      <td>36.48</td>\n",
       "      <td>25.15</td>\n",
       "      <td>16.54</td>\n",
       "      <td>11.14</td>\n",
       "      <td>9.23</td>\n",
       "      <td>11.16</td>\n",
       "      <td>15.74</td>\n",
       "      <td>22.20</td>\n",
       "      <td>30.61</td>\n",
       "      <td>35.86</td>\n",
       "      <td>32.93</td>\n",
       "      <td>26.69</td>\n",
       "      <td>24.27</td>\n",
       "      <td>25.81</td>\n",
       "      <td>28.07</td>\n",
       "    </tr>\n",
       "    <tr>\n",
       "      <th>3</th>\n",
       "      <td>69.49</td>\n",
       "      <td>74.37</td>\n",
       "      <td>74.38</td>\n",
       "      <td>69.54</td>\n",
       "      <td>60.41</td>\n",
       "      <td>48.10</td>\n",
       "      <td>35.02</td>\n",
       "      <td>24.43</td>\n",
       "      <td>17.71</td>\n",
       "      <td>15.03</td>\n",
       "      <td>16.88</td>\n",
       "      <td>22.03</td>\n",
       "      <td>28.96</td>\n",
       "      <td>36.95</td>\n",
       "      <td>41.03</td>\n",
       "      <td>37.08</td>\n",
       "      <td>30.53</td>\n",
       "      <td>27.67</td>\n",
       "      <td>27.83</td>\n",
       "      <td>27.99</td>\n",
       "    </tr>\n",
       "    <tr>\n",
       "      <th>4</th>\n",
       "      <td>56.03</td>\n",
       "      <td>64.21</td>\n",
       "      <td>68.74</td>\n",
       "      <td>69.69</td>\n",
       "      <td>66.44</td>\n",
       "      <td>57.86</td>\n",
       "      <td>45.36</td>\n",
       "      <td>33.75</td>\n",
       "      <td>26.51</td>\n",
       "      <td>24.30</td>\n",
       "      <td>26.71</td>\n",
       "      <td>31.42</td>\n",
       "      <td>36.65</td>\n",
       "      <td>42.70</td>\n",
       "      <td>45.68</td>\n",
       "      <td>41.29</td>\n",
       "      <td>33.94</td>\n",
       "      <td>29.45</td>\n",
       "      <td>27.53</td>\n",
       "      <td>25.51</td>\n",
       "    </tr>\n",
       "    <tr>\n",
       "      <th>5</th>\n",
       "      <td>42.40</td>\n",
       "      <td>52.54</td>\n",
       "      <td>59.97</td>\n",
       "      <td>64.90</td>\n",
       "      <td>66.81</td>\n",
       "      <td>63.42</td>\n",
       "      <td>54.34</td>\n",
       "      <td>44.06</td>\n",
       "      <td>37.65</td>\n",
       "      <td>36.81</td>\n",
       "      <td>39.89</td>\n",
       "      <td>42.90</td>\n",
       "      <td>44.86</td>\n",
       "      <td>48.53</td>\n",
       "      <td>50.60</td>\n",
       "      <td>45.18</td>\n",
       "      <td>35.82</td>\n",
       "      <td>29.06</td>\n",
       "      <td>25.05</td>\n",
       "      <td>20.94</td>\n",
       "    </tr>\n",
       "    <tr>\n",
       "      <th>6</th>\n",
       "      <td>29.74</td>\n",
       "      <td>40.68</td>\n",
       "      <td>50.00</td>\n",
       "      <td>57.54</td>\n",
       "      <td>63.07</td>\n",
       "      <td>64.49</td>\n",
       "      <td>60.68</td>\n",
       "      <td>54.75</td>\n",
       "      <td>50.97</td>\n",
       "      <td>51.08</td>\n",
       "      <td>53.57</td>\n",
       "      <td>54.57</td>\n",
       "      <td>54.11</td>\n",
       "      <td>55.89</td>\n",
       "      <td>56.08</td>\n",
       "      <td>47.98</td>\n",
       "      <td>35.78</td>\n",
       "      <td>26.71</td>\n",
       "      <td>20.70</td>\n",
       "      <td>15.01</td>\n",
       "    </tr>\n",
       "    <tr>\n",
       "      <th>7</th>\n",
       "      <td>18.90</td>\n",
       "      <td>29.40</td>\n",
       "      <td>39.88</td>\n",
       "      <td>49.45</td>\n",
       "      <td>57.72</td>\n",
       "      <td>63.18</td>\n",
       "      <td>65.00</td>\n",
       "      <td>65.00</td>\n",
       "      <td>64.69</td>\n",
       "      <td>64.52</td>\n",
       "      <td>65.00</td>\n",
       "      <td>65.00</td>\n",
       "      <td>64.41</td>\n",
       "      <td>65.00</td>\n",
       "      <td>62.07</td>\n",
       "      <td>50.00</td>\n",
       "      <td>34.41</td>\n",
       "      <td>22.81</td>\n",
       "      <td>15.11</td>\n",
       "      <td>9.12</td>\n",
       "    </tr>\n",
       "    <tr>\n",
       "      <th>8</th>\n",
       "      <td>10.55</td>\n",
       "      <td>19.33</td>\n",
       "      <td>30.10</td>\n",
       "      <td>41.72</td>\n",
       "      <td>53.16</td>\n",
       "      <td>62.71</td>\n",
       "      <td>69.39</td>\n",
       "      <td>73.82</td>\n",
       "      <td>75.54</td>\n",
       "      <td>74.57</td>\n",
       "      <td>73.63</td>\n",
       "      <td>73.63</td>\n",
       "      <td>73.85</td>\n",
       "      <td>74.11</td>\n",
       "      <td>68.70</td>\n",
       "      <td>52.58</td>\n",
       "      <td>32.80</td>\n",
       "      <td>18.27</td>\n",
       "      <td>9.69</td>\n",
       "      <td>4.66</td>\n",
       "    </tr>\n",
       "    <tr>\n",
       "      <th>9</th>\n",
       "      <td>5.05</td>\n",
       "      <td>11.36</td>\n",
       "      <td>21.45</td>\n",
       "      <td>35.22</td>\n",
       "      <td>51.09</td>\n",
       "      <td>65.36</td>\n",
       "      <td>74.99</td>\n",
       "      <td>80.01</td>\n",
       "      <td>81.26</td>\n",
       "      <td>80.38</td>\n",
       "      <td>80.01</td>\n",
       "      <td>80.01</td>\n",
       "      <td>80.06</td>\n",
       "      <td>80.87</td>\n",
       "      <td>75.38</td>\n",
       "      <td>56.53</td>\n",
       "      <td>32.49</td>\n",
       "      <td>15.05</td>\n",
       "      <td>6.10</td>\n",
       "      <td>2.20</td>\n",
       "    </tr>\n",
       "    <tr>\n",
       "      <th>10</th>\n",
       "      <td>2.26</td>\n",
       "      <td>6.57</td>\n",
       "      <td>15.79</td>\n",
       "      <td>31.60</td>\n",
       "      <td>52.10</td>\n",
       "      <td>70.38</td>\n",
       "      <td>80.39</td>\n",
       "      <td>83.06</td>\n",
       "      <td>82.80</td>\n",
       "      <td>82.80</td>\n",
       "      <td>83.75</td>\n",
       "      <td>83.49</td>\n",
       "      <td>82.66</td>\n",
       "      <td>84.09</td>\n",
       "      <td>80.01</td>\n",
       "      <td>61.00</td>\n",
       "      <td>34.98</td>\n",
       "      <td>15.57</td>\n",
       "      <td>5.72</td>\n",
       "      <td>1.77</td>\n",
       "    </tr>\n",
       "    <tr>\n",
       "      <th>11</th>\n",
       "      <td>1.89</td>\n",
       "      <td>6.03</td>\n",
       "      <td>15.65</td>\n",
       "      <td>32.89</td>\n",
       "      <td>55.22</td>\n",
       "      <td>74.08</td>\n",
       "      <td>82.80</td>\n",
       "      <td>83.79</td>\n",
       "      <td>82.83</td>\n",
       "      <td>82.90</td>\n",
       "      <td>84.09</td>\n",
       "      <td>83.90</td>\n",
       "      <td>82.80</td>\n",
       "      <td>84.09</td>\n",
       "      <td>81.00</td>\n",
       "      <td>64.11</td>\n",
       "      <td>40.00</td>\n",
       "      <td>20.80</td>\n",
       "      <td>9.51</td>\n",
       "      <td>3.75</td>\n",
       "    </tr>\n",
       "    <tr>\n",
       "      <th>12</th>\n",
       "      <td>4.33</td>\n",
       "      <td>10.81</td>\n",
       "      <td>22.43</td>\n",
       "      <td>39.31</td>\n",
       "      <td>58.33</td>\n",
       "      <td>73.35</td>\n",
       "      <td>80.77</td>\n",
       "      <td>82.80</td>\n",
       "      <td>82.39</td>\n",
       "      <td>81.48</td>\n",
       "      <td>81.89</td>\n",
       "      <td>82.05</td>\n",
       "      <td>81.22</td>\n",
       "      <td>82.13</td>\n",
       "      <td>79.29</td>\n",
       "      <td>64.85</td>\n",
       "      <td>44.90</td>\n",
       "      <td>28.79</td>\n",
       "      <td>17.38</td>\n",
       "      <td>9.10</td>\n",
       "    </tr>\n",
       "    <tr>\n",
       "      <th>13</th>\n",
       "      <td>11.00</td>\n",
       "      <td>21.40</td>\n",
       "      <td>34.42</td>\n",
       "      <td>47.80</td>\n",
       "      <td>59.84</td>\n",
       "      <td>69.09</td>\n",
       "      <td>75.06</td>\n",
       "      <td>78.69</td>\n",
       "      <td>79.83</td>\n",
       "      <td>79.20</td>\n",
       "      <td>79.32</td>\n",
       "      <td>79.20</td>\n",
       "      <td>78.34</td>\n",
       "      <td>79.69</td>\n",
       "      <td>77.48</td>\n",
       "      <td>64.09</td>\n",
       "      <td>47.06</td>\n",
       "      <td>35.41</td>\n",
       "      <td>26.98</td>\n",
       "      <td>18.12</td>\n",
       "    </tr>\n",
       "    <tr>\n",
       "      <th>14</th>\n",
       "      <td>23.14</td>\n",
       "      <td>36.03</td>\n",
       "      <td>46.90</td>\n",
       "      <td>54.36</td>\n",
       "      <td>60.08</td>\n",
       "      <td>64.54</td>\n",
       "      <td>67.29</td>\n",
       "      <td>69.98</td>\n",
       "      <td>73.12</td>\n",
       "      <td>75.67</td>\n",
       "      <td>77.38</td>\n",
       "      <td>76.81</td>\n",
       "      <td>75.62</td>\n",
       "      <td>78.22</td>\n",
       "      <td>77.31</td>\n",
       "      <td>63.62</td>\n",
       "      <td>46.44</td>\n",
       "      <td>37.56</td>\n",
       "      <td>34.08</td>\n",
       "      <td>28.59</td>\n",
       "    </tr>\n",
       "    <tr>\n",
       "      <th>15</th>\n",
       "      <td>39.34</td>\n",
       "      <td>50.21</td>\n",
       "      <td>55.48</td>\n",
       "      <td>57.74</td>\n",
       "      <td>60.18</td>\n",
       "      <td>61.07</td>\n",
       "      <td>58.93</td>\n",
       "      <td>58.17</td>\n",
       "      <td>62.14</td>\n",
       "      <td>68.78</td>\n",
       "      <td>74.46</td>\n",
       "      <td>75.84</td>\n",
       "      <td>75.44</td>\n",
       "      <td>79.20</td>\n",
       "      <td>79.21</td>\n",
       "      <td>64.51</td>\n",
       "      <td>45.06</td>\n",
       "      <td>35.68</td>\n",
       "      <td>35.65</td>\n",
       "      <td>36.00</td>\n",
       "    </tr>\n",
       "    <tr>\n",
       "      <th>16</th>\n",
       "      <td>54.91</td>\n",
       "      <td>59.65</td>\n",
       "      <td>59.45</td>\n",
       "      <td>59.06</td>\n",
       "      <td>59.76</td>\n",
       "      <td>57.58</td>\n",
       "      <td>51.28</td>\n",
       "      <td>46.80</td>\n",
       "      <td>48.94</td>\n",
       "      <td>57.16</td>\n",
       "      <td>68.00</td>\n",
       "      <td>75.40</td>\n",
       "      <td>78.79</td>\n",
       "      <td>83.83</td>\n",
       "      <td>83.48</td>\n",
       "      <td>67.00</td>\n",
       "      <td>44.70</td>\n",
       "      <td>32.69</td>\n",
       "      <td>32.53</td>\n",
       "      <td>37.07</td>\n",
       "    </tr>\n",
       "    <tr>\n",
       "      <th>17</th>\n",
       "      <td>65.23</td>\n",
       "      <td>63.85</td>\n",
       "      <td>60.64</td>\n",
       "      <td>58.66</td>\n",
       "      <td>57.43</td>\n",
       "      <td>53.33</td>\n",
       "      <td>45.18</td>\n",
       "      <td>37.81</td>\n",
       "      <td>36.20</td>\n",
       "      <td>42.90</td>\n",
       "      <td>57.52</td>\n",
       "      <td>72.72</td>\n",
       "      <td>83.35</td>\n",
       "      <td>91.83</td>\n",
       "      <td>90.96</td>\n",
       "      <td>71.67</td>\n",
       "      <td>46.10</td>\n",
       "      <td>30.97</td>\n",
       "      <td>28.23</td>\n",
       "      <td>32.85</td>\n",
       "    </tr>\n",
       "    <tr>\n",
       "      <th>18</th>\n",
       "      <td>69.71</td>\n",
       "      <td>64.92</td>\n",
       "      <td>59.79</td>\n",
       "      <td>55.72</td>\n",
       "      <td>53.15</td>\n",
       "      <td>48.86</td>\n",
       "      <td>40.14</td>\n",
       "      <td>30.65</td>\n",
       "      <td>25.95</td>\n",
       "      <td>30.33</td>\n",
       "      <td>45.71</td>\n",
       "      <td>66.00</td>\n",
       "      <td>84.61</td>\n",
       "      <td>100.07</td>\n",
       "      <td>101.50</td>\n",
       "      <td>79.67</td>\n",
       "      <td>50.04</td>\n",
       "      <td>31.52</td>\n",
       "      <td>25.64</td>\n",
       "      <td>27.41</td>\n",
       "    </tr>\n",
       "    <tr>\n",
       "      <th>19</th>\n",
       "      <td>70.72</td>\n",
       "      <td>63.71</td>\n",
       "      <td>56.14</td>\n",
       "      <td>50.55</td>\n",
       "      <td>48.20</td>\n",
       "      <td>44.39</td>\n",
       "      <td>35.04</td>\n",
       "      <td>24.50</td>\n",
       "      <td>19.01</td>\n",
       "      <td>22.33</td>\n",
       "      <td>36.33</td>\n",
       "      <td>56.90</td>\n",
       "      <td>80.04</td>\n",
       "      <td>103.73</td>\n",
       "      <td>111.92</td>\n",
       "      <td>90.96</td>\n",
       "      <td>57.74</td>\n",
       "      <td>35.13</td>\n",
       "      <td>25.89</td>\n",
       "      <td>24.15</td>\n",
       "    </tr>\n",
       "    <tr>\n",
       "      <th>20</th>\n",
       "      <td>69.22</td>\n",
       "      <td>59.49</td>\n",
       "      <td>50.11</td>\n",
       "      <td>44.69</td>\n",
       "      <td>43.18</td>\n",
       "      <td>39.35</td>\n",
       "      <td>29.62</td>\n",
       "      <td>19.57</td>\n",
       "      <td>15.23</td>\n",
       "      <td>18.84</td>\n",
       "      <td>31.25</td>\n",
       "      <td>49.11</td>\n",
       "      <td>71.71</td>\n",
       "      <td>100.34</td>\n",
       "      <td>117.03</td>\n",
       "      <td>102.00</td>\n",
       "      <td>69.05</td>\n",
       "      <td>43.02</td>\n",
       "      <td>29.79</td>\n",
       "      <td>24.36</td>\n",
       "    </tr>\n",
       "  </tbody>\n",
       "</table>\n",
       "</div>"
      ],
      "text/plain": [
       "       1      2      3      4      5      6      7      8      9      10  \\\n",
       "1   88.38  80.82  66.92  50.62  36.43  25.57  16.92  10.45   6.79   6.17   \n",
       "2   81.08  80.82  74.34  62.88  49.44  36.48  25.15  16.54  11.14   9.23   \n",
       "3   69.49  74.37  74.38  69.54  60.41  48.10  35.02  24.43  17.71  15.03   \n",
       "4   56.03  64.21  68.74  69.69  66.44  57.86  45.36  33.75  26.51  24.30   \n",
       "5   42.40  52.54  59.97  64.90  66.81  63.42  54.34  44.06  37.65  36.81   \n",
       "6   29.74  40.68  50.00  57.54  63.07  64.49  60.68  54.75  50.97  51.08   \n",
       "7   18.90  29.40  39.88  49.45  57.72  63.18  65.00  65.00  64.69  64.52   \n",
       "8   10.55  19.33  30.10  41.72  53.16  62.71  69.39  73.82  75.54  74.57   \n",
       "9    5.05  11.36  21.45  35.22  51.09  65.36  74.99  80.01  81.26  80.38   \n",
       "10   2.26   6.57  15.79  31.60  52.10  70.38  80.39  83.06  82.80  82.80   \n",
       "11   1.89   6.03  15.65  32.89  55.22  74.08  82.80  83.79  82.83  82.90   \n",
       "12   4.33  10.81  22.43  39.31  58.33  73.35  80.77  82.80  82.39  81.48   \n",
       "13  11.00  21.40  34.42  47.80  59.84  69.09  75.06  78.69  79.83  79.20   \n",
       "14  23.14  36.03  46.90  54.36  60.08  64.54  67.29  69.98  73.12  75.67   \n",
       "15  39.34  50.21  55.48  57.74  60.18  61.07  58.93  58.17  62.14  68.78   \n",
       "16  54.91  59.65  59.45  59.06  59.76  57.58  51.28  46.80  48.94  57.16   \n",
       "17  65.23  63.85  60.64  58.66  57.43  53.33  45.18  37.81  36.20  42.90   \n",
       "18  69.71  64.92  59.79  55.72  53.15  48.86  40.14  30.65  25.95  30.33   \n",
       "19  70.72  63.71  56.14  50.55  48.20  44.39  35.04  24.50  19.01  22.33   \n",
       "20  69.22  59.49  50.11  44.69  43.18  39.35  29.62  19.57  15.23  18.84   \n",
       "\n",
       "       11     12     13      14      15      16     17     18     19     20  \n",
       "1    8.44  12.20  17.21   24.50   29.98   28.35  23.01  20.48  22.12  25.69  \n",
       "2   11.16  15.74  22.20   30.61   35.86   32.93  26.69  24.27  25.81  28.07  \n",
       "3   16.88  22.03  28.96   36.95   41.03   37.08  30.53  27.67  27.83  27.99  \n",
       "4   26.71  31.42  36.65   42.70   45.68   41.29  33.94  29.45  27.53  25.51  \n",
       "5   39.89  42.90  44.86   48.53   50.60   45.18  35.82  29.06  25.05  20.94  \n",
       "6   53.57  54.57  54.11   55.89   56.08   47.98  35.78  26.71  20.70  15.01  \n",
       "7   65.00  65.00  64.41   65.00   62.07   50.00  34.41  22.81  15.11   9.12  \n",
       "8   73.63  73.63  73.85   74.11   68.70   52.58  32.80  18.27   9.69   4.66  \n",
       "9   80.01  80.01  80.06   80.87   75.38   56.53  32.49  15.05   6.10   2.20  \n",
       "10  83.75  83.49  82.66   84.09   80.01   61.00  34.98  15.57   5.72   1.77  \n",
       "11  84.09  83.90  82.80   84.09   81.00   64.11  40.00  20.80   9.51   3.75  \n",
       "12  81.89  82.05  81.22   82.13   79.29   64.85  44.90  28.79  17.38   9.10  \n",
       "13  79.32  79.20  78.34   79.69   77.48   64.09  47.06  35.41  26.98  18.12  \n",
       "14  77.38  76.81  75.62   78.22   77.31   63.62  46.44  37.56  34.08  28.59  \n",
       "15  74.46  75.84  75.44   79.20   79.21   64.51  45.06  35.68  35.65  36.00  \n",
       "16  68.00  75.40  78.79   83.83   83.48   67.00  44.70  32.69  32.53  37.07  \n",
       "17  57.52  72.72  83.35   91.83   90.96   71.67  46.10  30.97  28.23  32.85  \n",
       "18  45.71  66.00  84.61  100.07  101.50   79.67  50.04  31.52  25.64  27.41  \n",
       "19  36.33  56.90  80.04  103.73  111.92   90.96  57.74  35.13  25.89  24.15  \n",
       "20  31.25  49.11  71.71  100.34  117.03  102.00  69.05  43.02  29.79  24.36  "
      ]
     },
     "execution_count": 9,
     "metadata": {},
     "output_type": "execute_result"
    }
   ],
   "source": [
    "All_voxels = np.zeros((400)).astype(np.float)\n",
    "for i in range(400):\n",
    "    All_voxels[i] = voxels[i].solution_value()\n",
    "#print(All_voxels.reshape(20,20))\n",
    "All_voxels = pd.DataFrame(All_voxels.reshape((20,20)), index=[i for i in range(1,21)],\n",
    "                          columns = [i for i in range(1,21)]).round(2)\n",
    "All_voxels"
   ]
  },
  {
   "cell_type": "code",
   "execution_count": 10,
   "metadata": {},
   "outputs": [],
   "source": [
    "OUTPUT  = 'output/cross_section_p4.csv'\n",
    "cross_section = All_voxels.to_csv(OUTPUT, index=[i for i in range(1,21)], columns = [i for i in range(1,21)])"
   ]
  },
  {
   "cell_type": "markdown",
   "metadata": {},
   "source": [
    "## Check Constraint"
   ]
  },
  {
   "cell_type": "markdown",
   "metadata": {},
   "source": [
    "**Beamlets Check**"
   ]
  },
  {
   "cell_type": "code",
   "execution_count": 11,
   "metadata": {},
   "outputs": [
    {
     "name": "stdout",
     "output_type": "stream",
     "text": [
      "Beamlets values are \n",
      "[16.96397438  0.          0.          6.89328361  0.          0.\n",
      " 27.96771716  2.75106494  0.         64.61330867  0.         49.53923886\n",
      "  6.87758631  0.          4.34038406  0.          0.          0.\n",
      " 41.39469493  0.          0.          0.         14.76014386  0.\n",
      " 12.16804208  0.          0.          0.          0.          0.\n",
      "  0.          0.          0.          0.          0.          0.\n",
      "  0.          0.          0.          0.          0.          0.\n",
      "  0.         32.46796111 29.9978877  24.33048916 24.8790603  14.45125104\n",
      "  0.          0.          0.          4.81328824 54.60515914  0.\n",
      " 26.55060377 28.39401859  0.         14.4476048   9.72414851  0.        ]\n"
     ]
    }
   ],
   "source": [
    "# check beamlets value\n",
    "beamlets_value = []\n",
    "for i in range(60):\n",
    "    beamlets_value.append(beamlets[i].solution_value())\n",
    "print('Beamlets values are ')\n",
    "print(np.array(beamlets_value))   "
   ]
  },
  {
   "cell_type": "markdown",
   "metadata": {},
   "source": [
    "**CTV check**"
   ]
  },
  {
   "cell_type": "code",
   "execution_count": 12,
   "metadata": {},
   "outputs": [
    {
     "name": "stdout",
     "output_type": "stream",
     "text": [
      "CTV voxel dose(Gy)\n",
      "[80.01415603 81.2628027  80.38481993 80.01415603 80.01415603 80.06327075\n",
      " 80.87328887 80.38916355 83.0587902  82.8        82.8        83.75458152\n",
      " 83.48814641 82.66243596 84.08967234 80.01415494 82.8        83.78985768\n",
      " 82.83323864 82.90464546 84.08967137 83.90272397 82.8        84.08967241\n",
      " 81.00035059 82.8        82.38849017 81.47603212 81.88646582 82.04569036\n",
      " 81.22282117 82.13037703]\n"
     ]
    }
   ],
   "source": [
    "#Every voxel receives a uniform dose of 82.8 \n",
    "CTV_voxel = []\n",
    "every = 0\n",
    "for i in CTV_index:\n",
    "    every = voxels[i].solution_value() \n",
    "    CTV_voxel.append(every)\n",
    "print('CTV voxel dose(Gy)')\n",
    "print(np.array(CTV_voxel))"
   ]
  },
  {
   "cell_type": "code",
   "execution_count": 13,
   "metadata": {},
   "outputs": [
    {
     "name": "stdout",
     "output_type": "stream",
     "text": [
      "Positive distance to 82.8 \n",
      " [[2.78584397e+00 1.53719730e+00 2.41518007e+00 2.78584397e+00\n",
      "  2.78584397e+00 2.73672925e+00 1.92671113e+00 2.41083645e+00\n",
      "  0.00000000e+00 0.00000000e+00 0.00000000e+00 0.00000000e+00\n",
      "  0.00000000e+00 1.37564038e-01 0.00000000e+00 2.78584506e+00\n",
      "  0.00000000e+00 0.00000000e+00 0.00000000e+00 0.00000000e+00\n",
      "  0.00000000e+00 0.00000000e+00 0.00000000e+00 0.00000000e+00\n",
      "  1.79964941e+00 3.65418564e-14 4.11509829e-01 1.32396788e+00\n",
      "  9.13534176e-01 7.54309639e-01 1.57717883e+00 6.69622971e-01]]\n",
      "\n",
      "\n",
      "Negative distance to 82.8 \n",
      " [[0.         0.         0.         0.         0.         0.\n",
      "  0.         0.         0.2587902  0.         0.         0.95458152\n",
      "  0.68814641 0.         1.28967234 0.         0.         0.98985768\n",
      "  0.03323864 0.10464546 1.28967137 1.10272397 0.         1.28967241\n",
      "  0.         0.         0.         0.         0.         0.\n",
      "  0.         0.        ]]\n"
     ]
    }
   ],
   "source": [
    "# the distance to 82.8\n",
    "zp0 = np.array([[x.solution_value() for x in z_p]])\n",
    "zn0 = np.array([[x.solution_value() for x in z_n]])\n",
    "print('Positive distance to 82.8 \\n',zp0)\n",
    "print('\\n')\n",
    "print('Negative distance to 82.8 \\n',zn0)"
   ]
  },
  {
   "cell_type": "code",
   "execution_count": 14,
   "metadata": {},
   "outputs": [
    {
     "name": "stdout",
     "output_type": "stream",
     "text": [
      "maximum difference of CTV voxels values to 82.8 are  0.015575753707711934 0.03364547173267548\n"
     ]
    }
   ],
   "source": [
    "print('maximum difference of CTV voxels values to 82.8 are ', (max(CTV_voxel)-82.8)/82.8, (82.8- min(CTV_voxel))/82.8)"
   ]
  },
  {
   "cell_type": "code",
   "execution_count": 15,
   "metadata": {},
   "outputs": [
    {
     "name": "stdout",
     "output_type": "stream",
     "text": [
      "maximum CTV voxels value is  84.08967240699855\n"
     ]
    }
   ],
   "source": [
    "print('maximum CTV voxels value is ', max(CTV_voxel))"
   ]
  },
  {
   "cell_type": "code",
   "execution_count": 16,
   "metadata": {},
   "outputs": [
    {
     "name": "stdout",
     "output_type": "stream",
     "text": [
      "minimum CTV voxels value is  80.01415494053447\n"
     ]
    }
   ],
   "source": [
    "print('minimum CTV voxels value is ', min(CTV_voxel))"
   ]
  },
  {
   "cell_type": "code",
   "execution_count": 17,
   "metadata": {},
   "outputs": [
    {
     "name": "stdout",
     "output_type": "stream",
     "text": [
      "percentage of voxels below 79: 0.0\n"
     ]
    }
   ],
   "source": [
    "print('percentage of voxels below 79:', sum((np.array(CTV_voxel) < 79)*1) / len(CTV_voxel))"
   ]
  },
  {
   "cell_type": "code",
   "execution_count": 18,
   "metadata": {},
   "outputs": [
    {
     "name": "stdout",
     "output_type": "stream",
     "text": [
      "percentage of voxels Above 86.94: 0.0\n"
     ]
    }
   ],
   "source": [
    "print('percentage of voxels Above 86.94:', sum((np.array(CTV_voxel) > 86.94)*1) / len(CTV_voxel))"
   ]
  },
  {
   "cell_type": "markdown",
   "metadata": {},
   "source": [
    "**Bladder Check**"
   ]
  },
  {
   "cell_type": "code",
   "execution_count": 19,
   "metadata": {},
   "outputs": [
    {
     "name": "stdout",
     "output_type": "stream",
     "text": [
      "Bladder Voxel Doses\n",
      " [44.0602 37.6515 36.8131 39.8919 42.8998 44.8601 48.5276 60.6756 54.7458\n",
      " 50.9677 51.0834 53.5656 54.5737 54.1064 55.8893 56.082  65.     65.\n",
      " 64.6917 64.5155 65.     65.     64.4126 65.     62.0651 73.8204 75.5391\n",
      " 74.571  73.6314 73.6274 73.853  74.1057]\n"
     ]
    }
   ],
   "source": [
    "# Max dose to a voxel: 81\n",
    "bladder_voxel = []\n",
    "every = 0\n",
    "for i in bladder_index:\n",
    "    every = round(voxels[i].solution_value(),4)\n",
    "    bladder_voxel.append(every)\n",
    "print('Bladder Voxel Doses\\n',np.array(bladder_voxel))"
   ]
  },
  {
   "cell_type": "code",
   "execution_count": 20,
   "metadata": {},
   "outputs": [
    {
     "name": "stdout",
     "output_type": "stream",
     "text": [
      "distances to 81 if voxel value is above 81\n",
      " [[0. 0. 0. 0. 0. 0. 0. 0. 0. 0. 0. 0. 0. 0. 0. 0. 0. 0. 0. 0. 0. 0. 0. 0.\n",
      "  0. 0. 0. 0. 0. 0. 0. 0.]]\n"
     ]
    }
   ],
   "source": [
    "# if any voxel has more than 81\n",
    "zb1 = np.array([[x.solution_value() for x in z_b_1]])\n",
    "print('distances to 81 if voxel value is above 81\\n',zb1)"
   ]
  },
  {
   "cell_type": "code",
   "execution_count": 21,
   "metadata": {},
   "outputs": [
    {
     "name": "stdout",
     "output_type": "stream",
     "text": [
      "are there values more than 81?\n",
      "False\n",
      "how many percentage of voxel values are more than 81?\n",
      "0.0 %\n"
     ]
    }
   ],
   "source": [
    "# check if there are voxel with value more than 81\n",
    "print('are there values more than 81?')\n",
    "print(max(bladder_voxel) > 81)\n",
    "\n",
    "print('how many percentage of voxel values are more than 81?')\n",
    "\n",
    "print(round(sum((np.array(bladder_voxel) >81)*1)/len(bladder_voxel),2)*100,'%')"
   ]
  },
  {
   "cell_type": "code",
   "execution_count": 22,
   "metadata": {},
   "outputs": [
    {
     "name": "stdout",
     "output_type": "stream",
     "text": [
      "average dose received by bladder voxels are  58.944581250000006\n",
      "slack variable to bring down the value to below 50:  8.944580013488945\n"
     ]
    }
   ],
   "source": [
    "# average dose shouldbe <= 50\n",
    "print('average dose received by bladder voxels are ',sum(bladder_voxel)/len(bladder_voxel))\n",
    "print('slack variable to bring down the value to below 50: ', z_b_2.solution_value())"
   ]
  },
  {
   "cell_type": "code",
   "execution_count": 23,
   "metadata": {},
   "outputs": [
    {
     "name": "stdout",
     "output_type": "stream",
     "text": [
      "voxel that are larger that 65 are indicated by 1 \n",
      " [0. 0. 0. 0. 0. 0. 0. 0. 0. 0. 0. 0. 0. 0. 0. 0. 0. 0. 0. 0. 0. 0. 0. 0.\n",
      " 0. 1. 1. 1. 1. 1. 1. 1.]\n"
     ]
    }
   ],
   "source": [
    "# at most 10% of the bladder should receive a dose > 65\n",
    "y_value = np.array([t.solution_value() for t in y])\n",
    "print('voxel that are larger that 65 are indicated by 1 \\n',y_value)"
   ]
  },
  {
   "cell_type": "code",
   "execution_count": 24,
   "metadata": {},
   "outputs": [
    {
     "name": "stdout",
     "output_type": "stream",
     "text": [
      "0.2188  of the voxels are above 65\n"
     ]
    }
   ],
   "source": [
    "test = np.array(list(map(lambda x: 1 if x > 65.00 else 0,bladder_voxel)))\n",
    "print(round(sum(test)/len(test),4), ' of the voxels are above 65')"
   ]
  },
  {
   "cell_type": "code",
   "execution_count": 25,
   "metadata": {},
   "outputs": [
    {
     "name": "stdout",
     "output_type": "stream",
     "text": [
      "voxel that are larger that 65 are indicated by 1 \n",
      " [0 0 0 0 0 0 0 0 0 0 0 0 0 0 0 0 0 0 0 0 0 0 0 0 0 1 1 1 1 1 1 1]\n"
     ]
    }
   ],
   "source": [
    "print('voxel that are larger that 65 are indicated by 1 \\n',test)"
   ]
  },
  {
   "cell_type": "code",
   "execution_count": 26,
   "metadata": {},
   "outputs": [
    {
     "data": {
      "text/plain": [
       "array([ True,  True,  True,  True,  True,  True,  True,  True,  True,\n",
       "        True,  True,  True,  True,  True,  True,  True,  True,  True,\n",
       "        True,  True,  True,  True,  True,  True,  True,  True,  True,\n",
       "        True,  True,  True,  True,  True])"
      ]
     },
     "execution_count": 26,
     "metadata": {},
     "output_type": "execute_result"
    }
   ],
   "source": [
    "y_value == test"
   ]
  },
  {
   "cell_type": "code",
   "execution_count": 27,
   "metadata": {},
   "outputs": [
    {
     "name": "stdout",
     "output_type": "stream",
     "text": [
      "the number of constraints we have to set loose to be above 65 4.0\n"
     ]
    }
   ],
   "source": [
    "print('the number of constraints we have to set loose to be above 65',z_y.solution_value())"
   ]
  },
  {
   "cell_type": "markdown",
   "metadata": {},
   "source": [
    "**Rectal Solid Check**"
   ]
  },
  {
   "cell_type": "code",
   "execution_count": 28,
   "metadata": {},
   "outputs": [
    {
     "name": "stdout",
     "output_type": "stream",
     "text": [
      "rectal voxel dose values\n",
      "[79.83368294 79.2        79.32232025 79.2        78.33539154 69.97952676\n",
      " 73.11778124 75.66945274 77.37633246 76.8071187  75.61774726 78.21992967\n",
      " 58.1731547  62.14402621 68.77651923 74.45870925 75.83660185 75.43704764\n",
      " 79.2        48.9404677  57.15521186 68.00496889 75.39541422 78.79298424]\n"
     ]
    }
   ],
   "source": [
    "# max dose to a voxel: 79.2\n",
    "Rectal_voxel = []\n",
    "every = 0\n",
    "for i in Rectal_index:\n",
    "    every = round(voxels[i].solution_value(),8)\n",
    "    Rectal_voxel.append(every)\n",
    "print('rectal voxel dose values')\n",
    "print(np.array(Rectal_voxel))"
   ]
  },
  {
   "cell_type": "code",
   "execution_count": 29,
   "metadata": {},
   "outputs": [
    {
     "name": "stdout",
     "output_type": "stream",
     "text": [
      "distances to 79.2 if voxel value is above 79.2\n",
      " [[0.63368294 0.         0.12232025 0.         0.         0.\n",
      "  0.         0.         0.         0.         0.         0.\n",
      "  0.         0.         0.         0.         0.         0.\n",
      "  0.         0.         0.         0.         0.         0.        ]]\n"
     ]
    }
   ],
   "source": [
    "zr1 = np.array([[x.solution_value() for x in z_r_1]])\n",
    "print('distances to 79.2 if voxel value is above 79.2\\n',zr1)"
   ]
  },
  {
   "cell_type": "code",
   "execution_count": 30,
   "metadata": {},
   "outputs": [
    {
     "name": "stdout",
     "output_type": "stream",
     "text": [
      "are there values more than 79.2?\n",
      "True\n",
      "how many percentage of voxel values are more than 79.2?\n",
      "8.0 %\n"
     ]
    }
   ],
   "source": [
    "# check if there's value larger than 79.2\n",
    "print('are there values more than 79.2?')\n",
    "print(max(Rectal_voxel) > 79.2)\n",
    "\n",
    "print('how many percentage of voxel values are more than 79.2?')\n",
    "\n",
    "print(round(sum((np.array(Rectal_voxel) >79.2)*1)/len(Rectal_voxel),2)*100,'%')"
   ]
  },
  {
   "cell_type": "code",
   "execution_count": 31,
   "metadata": {},
   "outputs": [
    {
     "name": "stdout",
     "output_type": "stream",
     "text": [
      "average dose received by bladder voxels are  72.70809955625\n",
      "slack variable to bring down the value to below 40:  32.70809955660276\n"
     ]
    }
   ],
   "source": [
    "# average dose should be <= 40\n",
    "print('average dose received by bladder voxels are ',sum(Rectal_voxel)/len(Rectal_voxel))\n",
    "print('slack variable to bring down the value to below 40: ',z_r_2.solution_value())"
   ]
  },
  {
   "cell_type": "markdown",
   "metadata": {},
   "source": [
    "**Unspecified**"
   ]
  },
  {
   "cell_type": "code",
   "execution_count": 32,
   "metadata": {},
   "outputs": [
    {
     "data": {
      "text/plain": [
       "array([ 88.38 ,  80.819,  66.924,  50.621,  36.426,  25.571,  16.92 ,\n",
       "        10.454,   6.791,   6.166,   8.437,  12.203,  17.208,  24.504,\n",
       "        29.98 ,  28.353,  23.013,  20.482,  22.118,  25.693,  81.077,\n",
       "        80.821,  74.337,  62.88 ,  49.444,  36.475,  25.15 ,  16.536,\n",
       "        11.137,   9.227,  11.162,  15.736,  22.201,  30.611,  35.864,\n",
       "        32.925,  26.694,  24.267,  25.808,  28.071,  69.488,  74.365,\n",
       "        74.378,  69.536,  60.41 ,  48.101,  35.021,  24.43 ,  17.71 ,\n",
       "        15.032,  16.883,  22.028,  28.957,  36.952,  41.031,  37.085,\n",
       "        30.525,  27.667,  27.827,  27.987,  56.035,  64.214,  68.741,\n",
       "        69.687,  66.443,  57.86 ,  45.36 ,  33.747,  26.508,  24.301,\n",
       "        26.714,  31.422,  36.655,  42.702,  45.68 ,  41.293,  33.941,\n",
       "        29.45 ,  27.532,  25.511,  42.401,  52.538,  59.965,  64.898,\n",
       "        66.813,  63.422,  54.341,  50.604,  45.176,  35.819,  29.057,\n",
       "        25.054,  20.941,  29.745,  40.678,  63.068,  64.495,  47.979,\n",
       "        20.696,  15.008,  18.903,  63.179,   9.123,  10.548,  62.709,\n",
       "        69.392,  68.702,   4.663,   5.051,  65.357,  74.995,  75.376,\n",
       "         2.202,   2.265,  70.378,   1.775,   1.893,  74.076,   3.755,\n",
       "         4.33 ,  73.349,  80.769,  79.294,   9.101,  11.003,  21.396,\n",
       "        59.841,  69.086,  75.056,  78.693,  79.687,  77.478,  64.089,\n",
       "        26.976,  18.121,  23.138,  36.031,  46.896,  54.357,  60.084,\n",
       "        64.541,  67.293,  77.315,  63.622,  46.438,  37.559,  34.081,\n",
       "        28.592,  39.343,  50.208,  55.478,  57.742,  60.179,  61.072,\n",
       "        58.927,  79.207,  64.51 ,  45.061,  35.685,  35.654,  36.003,\n",
       "        54.914,  59.654,  59.446,  59.064,  59.757,  57.581,  51.284,\n",
       "        46.805,  83.83 ,  83.479,  66.999,  44.702,  32.685,  32.534,\n",
       "        37.072,  65.226,  63.849,  60.642,  58.66 ,  57.431,  53.332,\n",
       "        45.178,  37.807,  36.204,  42.902,  57.517,  72.717,  83.352,\n",
       "        91.825,  90.962,  71.665,  46.103,  30.975,  28.231,  32.847,\n",
       "        69.713,  64.916,  59.785,  55.719,  53.147,  48.862,  40.142,\n",
       "        30.65 ,  25.946,  30.334,  45.707,  66.002,  84.615, 100.071,\n",
       "       101.498,  79.673,  50.037,  31.525,  25.639,  27.413,  70.719,\n",
       "        63.714,  56.143,  50.545,  48.203,  44.385,  35.037,  24.499,\n",
       "        19.015,  22.335,  36.326,  56.899,  80.042, 103.734, 111.921,\n",
       "        90.958,  57.741,  35.125,  25.893,  24.149,  69.224,  59.489,\n",
       "        50.109,  44.691,  43.182,  39.347,  29.618,  19.575,  15.232,\n",
       "        18.844,  31.251,  49.114,  71.712, 100.342, 117.027, 102.004,\n",
       "        69.049,  43.018,  29.789,  24.36 ])"
      ]
     },
     "execution_count": 32,
     "metadata": {},
     "output_type": "execute_result"
    }
   ],
   "source": [
    "# Max dose to a voxel: 72\n",
    "Un_voxel = []\n",
    "every = 0\n",
    "for i in Un_index:\n",
    "    every = round(voxels[i].solution_value(),3)\n",
    "    Un_voxel.append(every)\n",
    "np.array(Un_voxel)"
   ]
  },
  {
   "cell_type": "code",
   "execution_count": 33,
   "metadata": {},
   "outputs": [
    {
     "name": "stdout",
     "output_type": "stream",
     "text": [
      "Are there voxel values more than 72?\n"
     ]
    },
    {
     "data": {
      "text/plain": [
       "True"
      ]
     },
     "execution_count": 33,
     "metadata": {},
     "output_type": "execute_result"
    }
   ],
   "source": [
    "print('Are there voxel values more than 72?')\n",
    "max(Un_voxel) > 72"
   ]
  },
  {
   "cell_type": "code",
   "execution_count": 34,
   "metadata": {},
   "outputs": [
    {
     "name": "stdout",
     "output_type": "stream",
     "text": [
      "how many percentage of voxel values are more than 72?\n",
      "14.000000000000002 %\n"
     ]
    }
   ],
   "source": [
    "print('how many percentage of voxel values are more than 72?')\n",
    "\n",
    "print(round(sum((np.array(Un_voxel) >72)*1)/len(Un_voxel),2)*100,'%')"
   ]
  },
  {
   "cell_type": "markdown",
   "metadata": {},
   "source": [
    "**Left Femur Head**"
   ]
  },
  {
   "cell_type": "code",
   "execution_count": 35,
   "metadata": {},
   "outputs": [
    {
     "name": "stdout",
     "output_type": "stream",
     "text": [
      "left femur head voxel values\n"
     ]
    },
    {
     "data": {
      "text/plain": [
       "array([35.78, 26.71, 50.  , 34.41, 22.81, 15.11, 52.58, 32.8 , 18.27,\n",
       "        9.69, 56.53, 32.49, 15.05,  6.1 , 61.  , 34.98, 15.57,  5.72,\n",
       "       64.11, 40.  , 20.8 ,  9.51, 64.85, 44.9 , 28.79, 17.38, 47.06,\n",
       "       35.41])"
      ]
     },
     "execution_count": 35,
     "metadata": {},
     "output_type": "execute_result"
    }
   ],
   "source": [
    "# max dose to be voxel 50\n",
    "Left_voxel = []\n",
    "every = 0\n",
    "for i in Left_index:\n",
    "    every = round(voxels[i].solution_value(),2)\n",
    "    Left_voxel.append(every)\n",
    "print('left femur head voxel values')\n",
    "np.array(Left_voxel)"
   ]
  },
  {
   "cell_type": "code",
   "execution_count": 36,
   "metadata": {},
   "outputs": [
    {
     "name": "stdout",
     "output_type": "stream",
     "text": [
      "distances to 79.2 if voxel value is above 50\n",
      " [[ 0.          0.          0.          0.          0.          0.\n",
      "   2.58446976  0.          0.          0.          6.53417715  0.\n",
      "   0.          0.         10.99682563  0.          0.          0.\n",
      "  14.11067142  0.          0.          0.         14.84830999  0.\n",
      "   0.          0.          0.          0.        ]]\n"
     ]
    }
   ],
   "source": [
    "zl1 = np.array([[x.solution_value() for x in z_l_1]])\n",
    "print('distances to 79.2 if voxel value is above 50\\n',zl1)"
   ]
  },
  {
   "cell_type": "code",
   "execution_count": 37,
   "metadata": {},
   "outputs": [
    {
     "name": "stdout",
     "output_type": "stream",
     "text": [
      "are there values more than 50?\n",
      "True\n",
      "how many percentage of voxel values are more than 50?\n",
      "18.0 %\n"
     ]
    }
   ],
   "source": [
    "print('are there values more than 50?')\n",
    "print(max(Left_voxel) > 50)\n",
    "\n",
    "print('how many percentage of voxel values are more than 50?')\n",
    "\n",
    "print(round(sum((np.array(Left_voxel) >50)*1)/len(Left_voxel),2)*100,'%')"
   ]
  },
  {
   "cell_type": "code",
   "execution_count": 38,
   "metadata": {},
   "outputs": [
    {
     "name": "stdout",
     "output_type": "stream",
     "text": [
      "voxel that are larger that 40 are indicated by 1 \n",
      " [0. 0. 1. 0. 0. 0. 1. 0. 0. 0. 1. 0. 0. 0. 1. 0. 0. 0. 1. 0. 0. 0. 1. 1.\n",
      " 0. 0. 1. 0.]\n"
     ]
    }
   ],
   "source": [
    "# at most 15% of the left femur head should receive > 40\n",
    "y_left_value = np.array([t.solution_value() for t in y_left])\n",
    "print('voxel that are larger that 40 are indicated by 1 \\n',y_left_value)"
   ]
  },
  {
   "cell_type": "code",
   "execution_count": 39,
   "metadata": {},
   "outputs": [
    {
     "name": "stdout",
     "output_type": "stream",
     "text": [
      "0.2857  of the left femur voxels are above 40\n"
     ]
    }
   ],
   "source": [
    "test_left_femur = np.array(list(map(lambda x: 1 if x >40.00 else 0,Left_voxel)))\n",
    "print(round(sum(test_left_femur)/len(test_left_femur),4), ' of the left femur voxels are above 40')"
   ]
  },
  {
   "cell_type": "code",
   "execution_count": 40,
   "metadata": {},
   "outputs": [
    {
     "name": "stdout",
     "output_type": "stream",
     "text": [
      "voxel that are larger that 40 are indicated by 1 \n",
      " [0 0 1 0 0 0 1 0 0 0 1 0 0 0 1 0 0 0 1 0 0 0 1 1 0 0 1 0]\n"
     ]
    }
   ],
   "source": [
    "print('voxel that are larger that 40 are indicated by 1 \\n',test_left_femur)"
   ]
  },
  {
   "cell_type": "code",
   "execution_count": 41,
   "metadata": {},
   "outputs": [
    {
     "data": {
      "text/plain": [
       "array([ True,  True,  True,  True,  True,  True,  True,  True,  True,\n",
       "        True,  True,  True,  True,  True,  True,  True,  True,  True,\n",
       "        True,  True,  True,  True,  True,  True,  True,  True,  True,\n",
       "        True])"
      ]
     },
     "execution_count": 41,
     "metadata": {},
     "output_type": "execute_result"
    }
   ],
   "source": [
    "test_left_femur == y_left_value"
   ]
  },
  {
   "cell_type": "code",
   "execution_count": 42,
   "metadata": {},
   "outputs": [
    {
     "name": "stdout",
     "output_type": "stream",
     "text": [
      "the number of constraints we have to set loose to be above 40 4.0\n"
     ]
    }
   ],
   "source": [
    "print('the number of constraints we have to set loose to be above 40',z_y_left.solution_value())"
   ]
  },
  {
   "cell_type": "markdown",
   "metadata": {},
   "source": [
    "**Right Femur Head**"
   ]
  },
  {
   "cell_type": "code",
   "execution_count": 43,
   "metadata": {},
   "outputs": [
    {
     "name": "stdout",
     "output_type": "stream",
     "text": [
      "right femur head voxel values\n"
     ]
    },
    {
     "data": {
      "text/plain": [
       "array([40.68, 50.  , 18.9 , 29.4 , 39.88, 49.45, 10.55, 19.33, 30.1 ,\n",
       "       41.72,  5.05, 11.36, 21.45, 35.22,  2.26,  6.57, 15.79, 31.6 ,\n",
       "        1.89,  6.03, 15.65, 32.89,  4.33, 10.81, 22.43, 39.31, 21.4 ,\n",
       "       34.42])"
      ]
     },
     "execution_count": 43,
     "metadata": {},
     "output_type": "execute_result"
    }
   ],
   "source": [
    "# max dose to a voxel: 50 \n",
    "Right_voxel = []\n",
    "every = 0\n",
    "for i in Right_index:\n",
    "    every = round(voxels[i].solution_value(),2)\n",
    "    Right_voxel.append(every)\n",
    "print(\"right femur head voxel values\")\n",
    "np.array(Right_voxel)"
   ]
  },
  {
   "cell_type": "code",
   "execution_count": 44,
   "metadata": {},
   "outputs": [
    {
     "name": "stdout",
     "output_type": "stream",
     "text": [
      "distances to 79.2 if voxel value is above 50\n",
      " [[0. 0. 0. 0. 0. 0. 0. 0. 0. 0. 0. 0. 0. 0. 0. 0. 0. 0. 0. 0. 0. 0. 0. 0.\n",
      "  0. 0. 0. 0.]]\n"
     ]
    }
   ],
   "source": [
    "# slack variable needed to fullfill the constraints\n",
    "zrl1 = np.array([[x.solution_value() for x in z_rl_1]])\n",
    "print('distances to 79.2 if voxel value is above 50\\n',zrl1)"
   ]
  },
  {
   "cell_type": "code",
   "execution_count": 45,
   "metadata": {},
   "outputs": [
    {
     "name": "stdout",
     "output_type": "stream",
     "text": [
      "are there values more than 50?\n",
      "False\n",
      "how many percentage of voxel values are more than 50?\n",
      "0.0 %\n"
     ]
    }
   ],
   "source": [
    "# check if there's any right voxel value that is bigger than 50\n",
    "print('are there values more than 50?')\n",
    "print(max(Right_voxel) > 50)\n",
    "\n",
    "print('how many percentage of voxel values are more than 50?')\n",
    "\n",
    "print(round(sum((np.array(Right_voxel) >50)*1)/len(Right_voxel),2)*100,'%')"
   ]
  },
  {
   "cell_type": "code",
   "execution_count": 46,
   "metadata": {},
   "outputs": [
    {
     "name": "stdout",
     "output_type": "stream",
     "text": [
      "voxel that are larger that 40 are indicated by 1 \n",
      " [1. 1. 0. 0. 0. 1. 0. 0. 0. 1. 0. 0. 0. 0. 0. 0. 0. 0. 0. 0. 0. 0. 0. 0.\n",
      " 0. 0. 0. 0.]\n"
     ]
    }
   ],
   "source": [
    "# at most 15% of the right  femur head should receive > 40\n",
    "y_right_value = np.array([t.solution_value() for t in y_right])\n",
    "print('voxel that are larger that 40 are indicated by 1 \\n',y_right_value)"
   ]
  },
  {
   "cell_type": "code",
   "execution_count": 47,
   "metadata": {},
   "outputs": [
    {
     "name": "stdout",
     "output_type": "stream",
     "text": [
      "0.1429  of the right femur voxels are above 40\n"
     ]
    }
   ],
   "source": [
    "test_right = np.array(list(map(lambda x: 1 if x > 40.00 else 0,Right_voxel)))\n",
    "print(round(sum(test_right)/len(test_right),4), ' of the right femur voxels are above 40')"
   ]
  },
  {
   "cell_type": "code",
   "execution_count": 48,
   "metadata": {},
   "outputs": [
    {
     "name": "stdout",
     "output_type": "stream",
     "text": [
      "voxel that are larger that 40 are indicated by 1 \n",
      " [1 1 0 0 0 1 0 0 0 1 0 0 0 0 0 0 0 0 0 0 0 0 0 0 0 0 0 0]\n"
     ]
    }
   ],
   "source": [
    "print('voxel that are larger that 40 are indicated by 1 \\n',test_right)"
   ]
  },
  {
   "cell_type": "code",
   "execution_count": 49,
   "metadata": {},
   "outputs": [
    {
     "data": {
      "text/plain": [
       "array([ True,  True,  True,  True,  True,  True,  True,  True,  True,\n",
       "        True,  True,  True,  True,  True,  True,  True,  True,  True,\n",
       "        True,  True,  True,  True,  True,  True,  True,  True,  True,\n",
       "        True])"
      ]
     },
     "execution_count": 49,
     "metadata": {},
     "output_type": "execute_result"
    }
   ],
   "source": [
    "test_right == y_right_value"
   ]
  },
  {
   "cell_type": "code",
   "execution_count": 50,
   "metadata": {},
   "outputs": [
    {
     "name": "stdout",
     "output_type": "stream",
     "text": [
      "the number of constraints we have to set loose to be above 40 0.0\n"
     ]
    }
   ],
   "source": [
    "print('the number of constraints we have to set loose to be above 40',z_y_right.solution_value())"
   ]
  },
  {
   "cell_type": "code",
   "execution_count": null,
   "metadata": {},
   "outputs": [],
   "source": []
  },
  {
   "cell_type": "code",
   "execution_count": null,
   "metadata": {},
   "outputs": [],
   "source": []
  }
 ],
 "metadata": {
  "kernelspec": {
   "display_name": "Python 3",
   "language": "python",
   "name": "python3"
  },
  "language_info": {
   "codemirror_mode": {
    "name": "ipython",
    "version": 3
   },
   "file_extension": ".py",
   "mimetype": "text/x-python",
   "name": "python",
   "nbconvert_exporter": "python",
   "pygments_lexer": "ipython3",
   "version": "3.8.3"
  }
 },
 "nbformat": 4,
 "nbformat_minor": 4
}
